{
 "cells": [
  {
   "cell_type": "markdown",
   "id": "cdeefa19",
   "metadata": {},
   "source": [
    "Part of EDA is understanding the relationship between two (or more variables).\n",
    "\n",
    "In this notebook, we'll continue exploring the Palmer Penguins dataset and learn tools for looking at relationships between variables."
   ]
  },
  {
   "cell_type": "code",
   "execution_count": null,
   "id": "46058b52",
   "metadata": {},
   "outputs": [],
   "source": [
    "import pandas as pd\n",
    "import matplotlib.pyplot as plt\n",
    "import seaborn as sns"
   ]
  },
  {
   "cell_type": "code",
   "execution_count": null,
   "id": "7651feaa",
   "metadata": {},
   "outputs": [],
   "source": [
    "penguins = pd.read_csv('../data/penguins.csv')\n",
    "penguins.head()"
   ]
  },
  {
   "cell_type": "markdown",
   "id": "1548c72a",
   "metadata": {},
   "source": [
    "Like in the single-variable case, the tool we use depends on the type of the variables we are examining."
   ]
  },
  {
   "cell_type": "markdown",
   "id": "b6b5fc66",
   "metadata": {},
   "source": [
    "## Examining Two Categorical Variables\n",
    "\n",
    "What if we want to look at a cross-tabulation of the number of observations of each sex broken down by species. \n",
    "\n",
    "For this, we can use the `pandas` `crosstab` function. What we need to do is to pass in the two columns we want to create the table based on."
   ]
  },
  {
   "cell_type": "code",
   "execution_count": null,
   "id": "f7e035eb",
   "metadata": {},
   "outputs": [],
   "source": [
    "pd.crosstab(penguins['island'], penguins['species'])"
   ]
  },
  {
   "cell_type": "markdown",
   "id": "91d53c29",
   "metadata": {},
   "source": [
    "We can take the results and create a plot."
   ]
  },
  {
   "cell_type": "code",
   "execution_count": null,
   "id": "04050b90",
   "metadata": {},
   "outputs": [],
   "source": [
    "pd.crosstab(penguins['island'], penguins['species']).plot(kind = 'bar', \n",
    "                                                          stacked = True,       # stacked as opposed to side-by-side\n",
    "                                                          color = ['cornflowerblue', 'coral', 'pink'],     # change the default colors\n",
    "                                                          edgecolor = 'black')              # add a border to the bars\n",
    "plt.title('Penguin Species Distribution by Island')                   # add a title\n",
    "plt.xticks(rotation = 0);                                             # change the appearance of the x tick labels"
   ]
  },
  {
   "cell_type": "markdown",
   "id": "14ae1445",
   "metadata": {},
   "source": [
    "You can also normalize the cross-tabulation. Since we are working with two variables here, we can normalize in a number of ways. \n",
    "\n",
    "For example, if we just want the proportion of total observations that are contained in each cell, we can use the `normalize = 'all'` option."
   ]
  },
  {
   "cell_type": "code",
   "execution_count": null,
   "id": "496a7c43",
   "metadata": {},
   "outputs": [],
   "source": [
    "pd.crosstab(penguins['island'], penguins['species'],  normalize = 'all')"
   ]
  },
  {
   "cell_type": "markdown",
   "id": "5a577f16",
   "metadata": {},
   "source": [
    "Or if we want proportions by row, we can use the `normalize = 'index'` option."
   ]
  },
  {
   "cell_type": "code",
   "execution_count": null,
   "id": "7fbaae39",
   "metadata": {},
   "outputs": [],
   "source": [
    "pd.crosstab(penguins['island'], penguins['species'],  normalize = 'index')"
   ]
  },
  {
   "cell_type": "code",
   "execution_count": null,
   "id": "c5135bb3",
   "metadata": {},
   "outputs": [],
   "source": [
    "(pd.crosstab(penguins['island'], penguins['species'],  normalize = 'index') * 100).plot(kind = 'bar', \n",
    "                                                                                        stacked = True,\n",
    "                                                                                        color = ['cornflowerblue', 'coral', 'pink'],\n",
    "                                                                                        edgecolor = 'black',\n",
    "                                                                                        width = 0.75,\n",
    "                                                                                       )\n",
    "plt.title('Percentage of Species by Island')\n",
    "plt.xticks(rotation = 0)\n",
    "plt.legend(bbox_to_anchor = (1, 0.8), loc = 'upper left');   # move the legend to the right side of the plot"
   ]
  },
  {
   "cell_type": "markdown",
   "id": "a48797a0",
   "metadata": {},
   "source": [
    "## Categorical-Numeric Combinations\n",
    "\n",
    "Let's say we want to look at the average body mass by species. One way to do this is to use `.groupby`.\n",
    "\n",
    "Quite often when using `.groupby()`, our goal is to calculate an aggregate value by group. To use `.groupby()`, we need to tell pandas: \n",
    "* **what** to group by\n",
    "* **which** column (or columns) we want to aggregate\n",
    "* **how** to aggregate\n",
    "\n",
    "In this case, we want to group by `species` and then aggregate the `body_mass_g` column by taking the _mean_."
   ]
  },
  {
   "cell_type": "code",
   "execution_count": null,
   "id": "26107701",
   "metadata": {},
   "outputs": [],
   "source": [
    "penguins.groupby('species')['body_mass_g'].mean()"
   ]
  },
  {
   "cell_type": "markdown",
   "id": "b9f32030",
   "metadata": {},
   "source": [
    "You can even use `.describe` with `groupby` to get even more information by species."
   ]
  },
  {
   "cell_type": "code",
   "execution_count": null,
   "id": "583b7157",
   "metadata": {},
   "outputs": [],
   "source": [
    "penguins.groupby('species')['body_mass_g'].describe()"
   ]
  },
  {
   "cell_type": "markdown",
   "id": "ec15750b",
   "metadata": {},
   "source": [
    "**Question:** Looking at the summary statistics by group, what do you notice?"
   ]
  },
  {
   "cell_type": "markdown",
   "id": "7900ece0",
   "metadata": {},
   "source": [
    "We can easily compare distributions using a grouped boxplot."
   ]
  },
  {
   "cell_type": "code",
   "execution_count": null,
   "id": "edd18183",
   "metadata": {},
   "outputs": [],
   "source": [
    "plt.figure(figsize = (10,6))\n",
    "\n",
    "sns.boxplot(data = penguins,\n",
    "           x = 'body_mass_g',\n",
    "           y = 'species');"
   ]
  },
  {
   "cell_type": "markdown",
   "id": "98bdb6a7",
   "metadata": {},
   "source": [
    "## Comparing Two Numeric Variables\n",
    "\n",
    "One way to assess the relationship between two numeric variables is to find the correlation. This can be accomplished using the `.corr()` method, which returns the correlation matrix."
   ]
  },
  {
   "cell_type": "code",
   "execution_count": null,
   "id": "436ae46b",
   "metadata": {},
   "outputs": [],
   "source": [
    "penguins[['bill_length_mm', 'bill_depth_mm', 'flipper_length_mm', 'body_mass_g']].corr()"
   ]
  },
  {
   "cell_type": "markdown",
   "id": "5faa2648",
   "metadata": {},
   "source": [
    "**Question:** Do you notice anything interesting when inspecting the correlation values?"
   ]
  },
  {
   "cell_type": "markdown",
   "id": "c1c2129b",
   "metadata": {},
   "source": [
    "Let's investigate the relationship between bill length and bill depth. We can do this using a scatterplot.\n",
    "\n",
    "First, let's use the `.plot` method from pandas."
   ]
  },
  {
   "cell_type": "code",
   "execution_count": null,
   "id": "7d3bc731",
   "metadata": {},
   "outputs": [],
   "source": [
    "penguins.plot(kind = 'scatter',\n",
    "             x = 'bill_length_mm',\n",
    "             y = 'bill_depth_mm',\n",
    "             figsize = (10,6));"
   ]
  },
  {
   "cell_type": "markdown",
   "id": "d5eb535a",
   "metadata": {},
   "source": [
    "We do need to remember that we have multiple species of penguins. To get a better understanding of the relationship between these variables, we could color the points by species. The easiest way to do this is using the _seaborn_ library."
   ]
  },
  {
   "cell_type": "code",
   "execution_count": null,
   "id": "f2cc40d0",
   "metadata": {
    "scrolled": true
   },
   "outputs": [],
   "source": [
    "plt.figure(figsize = (10,6))\n",
    "\n",
    "sns.scatterplot(data = penguins,\n",
    "               x = 'bill_length_mm',\n",
    "               y = 'bill_depth_mm',\n",
    "               hue = 'species',\n",
    "               palette = ['cornflowerblue', 'coral', 'pink']);"
   ]
  },
  {
   "cell_type": "markdown",
   "id": "a2083088-ef66-445c-b526-7f31a5b5f418",
   "metadata": {},
   "source": [
    "# End of Instruction"
   ]
  },
  {
   "cell_type": "markdown",
   "id": "32dfb46c-086d-45b3-8151-72bce53ecad4",
   "metadata": {},
   "source": [
    "### Read in the schools_clean .csv"
   ]
  },
  {
   "cell_type": "code",
   "execution_count": null,
   "id": "a62a5611-de24-439b-b107-fdd2751029e7",
   "metadata": {},
   "outputs": [],
   "source": []
  },
  {
   "cell_type": "markdown",
   "id": "f2fa0386-cf53-4c36-851b-655c89ce9838",
   "metadata": {},
   "source": [
    "### Make a crosstab of zipcode and level"
   ]
  },
  {
   "cell_type": "code",
   "execution_count": null,
   "id": "d8ba8217-5ecd-48f7-8469-e047dc457f36",
   "metadata": {},
   "outputs": [],
   "source": []
  },
  {
   "cell_type": "markdown",
   "id": "67b7fd32-ad68-48c1-93bc-013312639eaa",
   "metadata": {},
   "source": [
    "### Now make the same crosstab normalized"
   ]
  },
  {
   "cell_type": "code",
   "execution_count": null,
   "id": "7dba4c68-26c9-4528-b389-da06ea56d0cd",
   "metadata": {},
   "outputs": [],
   "source": []
  },
  {
   "cell_type": "markdown",
   "id": "c49e7b76-7ac2-4ca6-920b-c0dca9257f3f",
   "metadata": {},
   "source": [
    "### Now make that crosstob into a stacked barchart where each bar totals 100%"
   ]
  },
  {
   "cell_type": "code",
   "execution_count": null,
   "id": "b2189cc5-cf53-470f-8e54-421790fd3bb5",
   "metadata": {},
   "outputs": [],
   "source": []
  },
  {
   "cell_type": "markdown",
   "id": "afcf45f8-aeea-401a-8a25-3f9842f67d1a",
   "metadata": {},
   "source": [
    "### Now group by zipcode and find the number of different levels each zipcode has.  (Look up the nunique() method)"
   ]
  },
  {
   "cell_type": "code",
   "execution_count": null,
   "id": "e22da989-a6fd-4d21-bfe8-4f02feb43649",
   "metadata": {},
   "outputs": [],
   "source": []
  },
  {
   "cell_type": "markdown",
   "id": "4060849e-3c49-440f-8a6b-f2bfcac351d9",
   "metadata": {},
   "source": [
    "### Now find the average total students by school level.   (This will be a multi-step problem)"
   ]
  },
  {
   "cell_type": "code",
   "execution_count": null,
   "id": "b35a1954-d06c-4af4-9709-37722f728f56",
   "metadata": {},
   "outputs": [],
   "source": []
  }
 ],
 "metadata": {
  "kernelspec": {
   "display_name": "Python 3 (ipykernel)",
   "language": "python",
   "name": "python3"
  },
  "language_info": {
   "codemirror_mode": {
    "name": "ipython",
    "version": 3
   },
   "file_extension": ".py",
   "mimetype": "text/x-python",
   "name": "python",
   "nbconvert_exporter": "python",
   "pygments_lexer": "ipython3",
   "version": "3.11.7"
  }
 },
 "nbformat": 4,
 "nbformat_minor": 5
}
