{
 "cells": [
  {
   "cell_type": "markdown",
   "id": "cdeefa19",
   "metadata": {},
   "source": [
    "In this notebook, we will see some tools for doing exploratory data analysis (EDA) on a dataset. \n",
    "\n",
    "This is the process of familiarizing yourself with your data, and it typically includes examining the structure and components of your dataset, the distributions of individual variables, and the relationships between two or more variables.\n",
    "\n",
    "We'll be using the [Palmer Penguins](https://allisonhorst.github.io/palmerpenguins/articles/intro.html) dataset, which contains size measurements for three penguin species observed on three islands in the Palmer Archipelago of Antarctica."
   ]
  },
  {
   "cell_type": "code",
   "execution_count": null,
   "id": "46058b52",
   "metadata": {},
   "outputs": [],
   "source": [
    "import pandas as pd\n",
    "import matplotlib.pyplot as plt\n",
    "import seaborn as sns"
   ]
  },
  {
   "cell_type": "code",
   "execution_count": null,
   "id": "7651feaa",
   "metadata": {},
   "outputs": [],
   "source": [
    "penguins = pd.read_csv('../data/penguins.csv')"
   ]
  },
  {
   "cell_type": "markdown",
   "id": "77ff0ac6",
   "metadata": {},
   "source": [
    "We can start by looking at the first few rows."
   ]
  },
  {
   "cell_type": "code",
   "execution_count": null,
   "id": "f1cd5422",
   "metadata": {},
   "outputs": [],
   "source": [
    "penguins.head()"
   ]
  },
  {
   "cell_type": "markdown",
   "id": "60b9ebbc",
   "metadata": {},
   "source": [
    "**Question: Do you notice anything when you look at the first five rows of data?**"
   ]
  },
  {
   "cell_type": "markdown",
   "id": "01e52a69",
   "metadata": {},
   "source": [
    "Let's look and see how many null values we have. We can do this by using the `.info()` method."
   ]
  },
  {
   "cell_type": "code",
   "execution_count": null,
   "id": "74e4ef96",
   "metadata": {},
   "outputs": [],
   "source": [
    "penguins.info()"
   ]
  },
  {
   "cell_type": "markdown",
   "id": "f37991cc",
   "metadata": {},
   "source": [
    "Another way to count null values is by using the `.isna()` method."
   ]
  },
  {
   "cell_type": "code",
   "execution_count": null,
   "id": "5f1bec14",
   "metadata": {},
   "outputs": [],
   "source": [
    "penguins.isna().sum()"
   ]
  },
  {
   "cell_type": "markdown",
   "id": "25f3c07a",
   "metadata": {},
   "source": [
    "## Variable Types\n",
    "\n",
    "The tools that we use to understand a varaible depend on the type variable we are looking at. Broadly speaking, there are two type of variables:\n",
    "\n",
    "**Categorical Variables:**  Express a qualitative attribute. Examples: hair color, eye color, religion, favorite movie, gender\n",
    "\n",
    "**Numeric Variables:** Variables that are measured in terms of numbers. Examples: height, weight, shoe size"
   ]
  },
  {
   "cell_type": "markdown",
   "id": "9a9a69f5",
   "metadata": {},
   "source": [
    "## Categorical Variables\n",
    "\n",
    "For categorical variables, we can start by getting a count by category. This can be accomplished in pandas by using `value_counts` method."
   ]
  },
  {
   "cell_type": "code",
   "execution_count": null,
   "id": "bf8f9574",
   "metadata": {},
   "outputs": [],
   "source": [
    "penguins['sex'].value_counts()"
   ]
  },
  {
   "cell_type": "markdown",
   "id": "817409b3",
   "metadata": {},
   "source": [
    "Notice that the NaN values do not show up. Place your cursor inside the parantheses for `value_counts` and press Shift+Tab to look for a way to retain the NaN values."
   ]
  },
  {
   "cell_type": "code",
   "execution_count": null,
   "id": "9a935a8e",
   "metadata": {
    "scrolled": true
   },
   "outputs": [],
   "source": [
    "penguins['sex'].value_counts(dropna = False)"
   ]
  },
  {
   "cell_type": "markdown",
   "id": "e370982c",
   "metadata": {},
   "source": [
    "Notice also that we can normalize our value counts in order to get percents/proportions. For example, to get the percentage by species, we can use this: "
   ]
  },
  {
   "cell_type": "code",
   "execution_count": null,
   "id": "cc492323",
   "metadata": {},
   "outputs": [],
   "source": [
    "penguins['sex'].value_counts(normalize = True)"
   ]
  },
  {
   "cell_type": "markdown",
   "id": "ca4b101f",
   "metadata": {},
   "source": [
    "If we want to create a plot showing the number of penguins per species, we can do so using the `.plot` method. We need to specify that we want to create a bar chart."
   ]
  },
  {
   "cell_type": "code",
   "execution_count": null,
   "id": "a8b5e913",
   "metadata": {},
   "outputs": [],
   "source": [
    "penguins['species'].value_counts().plot(kind = 'bar');"
   ]
  },
  {
   "cell_type": "markdown",
   "id": "b724d66c",
   "metadata": {},
   "source": [
    "The default plot can be improved using a combination of arguments and matplotlib methods."
   ]
  },
  {
   "cell_type": "code",
   "execution_count": null,
   "id": "2eb7ae20",
   "metadata": {},
   "outputs": [],
   "source": [
    "penguins['species'].value_counts().plot(kind = 'bar', figsize = (10,6)) \n",
    "                                                                        # Increase the plot size                \n",
    "\n",
    "plt.xticks(rotation = 0, fontsize = 12)                                 # Remove the rotation of the labels\n",
    "                            \n",
    "plt.title('Number of Penguins by Species', fontsize = 14, fontweight = 'bold');\n",
    "                                                                        # Add a title"
   ]
  },
  {
   "cell_type": "markdown",
   "id": "f8d90c6e",
   "metadata": {},
   "source": [
    "## Numeric Variables\n",
    "\n",
    "When examining a numeric variable, we can start by calculating descriptive statistics. These can include things like mean, median, max, min, standard deviation, and quartiles.\n",
    "\n",
    "Let's say that we want to study the `body_mass_g` variable.\n",
    "\n",
    "We can quickly get a quick summary by using the `.describe()` method."
   ]
  },
  {
   "cell_type": "code",
   "execution_count": null,
   "id": "4f624012",
   "metadata": {},
   "outputs": [],
   "source": [
    "penguins['body_mass_g'].describe()"
   ]
  },
  {
   "cell_type": "markdown",
   "id": "ed1affdf",
   "metadata": {},
   "source": [
    "We can also calculate individual summary statistics, many of which have built-in _pandas_ methods."
   ]
  },
  {
   "cell_type": "code",
   "execution_count": null,
   "id": "4654d38b",
   "metadata": {},
   "outputs": [],
   "source": [
    "penguins['body_mass_g'].mean()"
   ]
  },
  {
   "cell_type": "code",
   "execution_count": null,
   "id": "a0e93e7a",
   "metadata": {},
   "outputs": [],
   "source": [
    "penguins['body_mass_g'].median()"
   ]
  },
  {
   "cell_type": "markdown",
   "id": "3d9bc04d",
   "metadata": {},
   "source": [
    "We have a number of options for inspecting the distribution of a numeric variable. In this notebook, we'll look at histograms and box plots.\n",
    "\n",
    "For histograms, we can use the `.hist()` method from _pandas_."
   ]
  },
  {
   "cell_type": "code",
   "execution_count": null,
   "id": "17bffcbc",
   "metadata": {},
   "outputs": [],
   "source": [
    "penguins['body_mass_g'].hist();"
   ]
  },
  {
   "cell_type": "markdown",
   "id": "82803a1b",
   "metadata": {},
   "source": [
    "As before, we can easily make modifications to this plot."
   ]
  },
  {
   "cell_type": "code",
   "execution_count": null,
   "id": "bbb39eea",
   "metadata": {},
   "outputs": [],
   "source": [
    "penguins['body_mass_g'].hist(bins = 25, color = 'coral', edgecolor = 'black', figsize = (10,6))\n",
    "\n",
    "plt.title('Distribution of Body Mass Values', fontsize = 16);"
   ]
  },
  {
   "cell_type": "markdown",
   "id": "48ab6654",
   "metadata": {},
   "source": [
    "The _pandas_ library also includes a boxplot method, but we can get a nicer looking one using the _seaborn_ library."
   ]
  },
  {
   "cell_type": "code",
   "execution_count": null,
   "id": "2e35b69c",
   "metadata": {},
   "outputs": [],
   "source": [
    "sns.boxplot(data = penguins, x = 'body_mass_g');"
   ]
  },
  {
   "cell_type": "markdown",
   "id": "d6dc08b4",
   "metadata": {},
   "source": [
    "Note that if we want to increase the figure size when using seaborn, we cannot pass it in as an argument but must use either the `.figure()` or `.subplots()` function from matplotlib."
   ]
  },
  {
   "cell_type": "code",
   "execution_count": null,
   "id": "aa6d4c03",
   "metadata": {},
   "outputs": [],
   "source": [
    "plt.figure(figsize = (10,4))\n",
    "\n",
    "sns.boxplot(data = penguins, x = 'body_mass_g');"
   ]
  },
  {
   "cell_type": "markdown",
   "id": "87f87423-0348-4abf-9fab-3a50cffb26fb",
   "metadata": {},
   "source": [
    "# End of Instruction"
   ]
  },
  {
   "cell_type": "markdown",
   "id": "06c03277-90c7-4d35-bd58-6fc0aa6eb4ff",
   "metadata": {},
   "source": [
    "### Read in the people.csv"
   ]
  },
  {
   "cell_type": "code",
   "execution_count": null,
   "id": "effe201b-bb7b-4333-96b3-61ea759b167b",
   "metadata": {},
   "outputs": [],
   "source": []
  },
  {
   "cell_type": "markdown",
   "id": "85db64a0-fbf3-44ef-a407-132c8be62abb",
   "metadata": {},
   "source": [
    "### Use normalized value_counts to find the percent male and percent female"
   ]
  },
  {
   "cell_type": "code",
   "execution_count": null,
   "id": "2ac35583-5d8a-4cb1-8ee2-2ebc2efb945c",
   "metadata": {},
   "outputs": [],
   "source": []
  },
  {
   "cell_type": "markdown",
   "id": "a9467c91-59aa-432d-aa89-e878b52b9618",
   "metadata": {},
   "source": [
    "### Make a histogram for all the ages in the data frame.  Change the default number of bins to be fewer.  \n",
    "### Now, change it to be more.  Which do you prefer?"
   ]
  },
  {
   "cell_type": "code",
   "execution_count": null,
   "id": "9b10467f-6f7d-43bd-acaf-c0b44779f2a5",
   "metadata": {},
   "outputs": [],
   "source": []
  },
  {
   "cell_type": "markdown",
   "id": "d22ee680-7a8d-4352-95bd-e3d9de0e3db4",
   "metadata": {},
   "source": [
    "### Make a box plot showing the distribution of BMI. Are there any outliers?"
   ]
  },
  {
   "cell_type": "code",
   "execution_count": null,
   "id": "9a7ee9e9-d240-406c-82bb-223efee76e94",
   "metadata": {},
   "outputs": [],
   "source": []
  },
  {
   "cell_type": "markdown",
   "id": "a3299fe4-f7fa-4952-bf63-0f834d7456d5",
   "metadata": {},
   "source": [
    "### Make a box plot showing the distributino of years_played_sports.  Are there any outliers?"
   ]
  },
  {
   "cell_type": "code",
   "execution_count": null,
   "id": "76586e49-92ec-47b5-a780-d557c03e3bd4",
   "metadata": {},
   "outputs": [],
   "source": []
  },
  {
   "cell_type": "markdown",
   "id": "32e235be-eb7c-44cb-aba8-9c92861d0011",
   "metadata": {},
   "source": [
    "### Make a histogram showing years_played_sports.  Which chart type do you think best represents the data?"
   ]
  },
  {
   "cell_type": "code",
   "execution_count": null,
   "id": "40e34966-852e-4c5a-9231-d05a3b715b7f",
   "metadata": {},
   "outputs": [],
   "source": []
  }
 ],
 "metadata": {
  "kernelspec": {
   "display_name": "Python 3 (ipykernel)",
   "language": "python",
   "name": "python3"
  },
  "language_info": {
   "codemirror_mode": {
    "name": "ipython",
    "version": 3
   },
   "file_extension": ".py",
   "mimetype": "text/x-python",
   "name": "python",
   "nbconvert_exporter": "python",
   "pygments_lexer": "ipython3",
   "version": "3.11.7"
  }
 },
 "nbformat": 4,
 "nbformat_minor": 5
}
