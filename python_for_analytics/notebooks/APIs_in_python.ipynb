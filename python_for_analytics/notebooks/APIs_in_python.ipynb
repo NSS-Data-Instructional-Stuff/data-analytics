{
 "cells": [
  {
   "cell_type": "code",
   "execution_count": 1,
   "metadata": {},
   "outputs": [],
   "source": [
    "import requests\n",
    "import matplotlib.pyplot as plt\n",
    "from IPython.display import Image\n",
    "import folium\n",
    "%matplotlib inline"
   ]
  },
  {
   "cell_type": "markdown",
   "metadata": {},
   "source": [
    "# APIs\n",
    "\n",
    "An Application Programming Interface, or API, is a structured way to retrieve data from a website. Using an API is safer and easier than something like webscraping, since what you get back is already in a usable format. Many organizations use APIs like:\n",
    "- Government organizations ([US Government](https://www.data.gov/developers/apis))\n",
    "- Large companies ([Twitter API](https://developer.twitter.com/en/docs))\n",
    "- News organizations ([NYT API](https://developer.nytimes.com/))\n",
    "- And [many more](https://github.com/public-apis/public-apis)\n",
    "\n",
    "If you type `how to use an api in python` in google, you get back many articles walking through how to use an API. It is a well documented and useful tool to be familiar with."
   ]
  },
  {
   "cell_type": "markdown",
   "metadata": {},
   "source": [
    "### API Keys\n",
    "\n",
    "One of the main ways APIs maintain security is by the use of some form of authentication, such as an API key. An API key can be obtained in a number of ways, depending on the API, and is a way for the application to know who you are and provides you secure access to the data.\n",
    "\n",
    "**DO NOT SHARE YOUR API KEYS OR PUT THEM IN A PUBLIC PLACE LIKE GITHUB**\n",
    "\n",
    "API keys should be stored securely on your computer and removed from any code or documents you share."
   ]
  },
  {
   "cell_type": "markdown",
   "metadata": {},
   "source": [
    "#### Lets use the NASA API as an initial example: https://api.nasa.gov/\n",
    "\n",
    "1. Scroll down and enter your First Name, Last Name, and email to generate an API key\n",
    "2. Put the API key in a safe place like a text file that won't be shared\n",
    "3. Copy the API key into the `api_key` variable in the cell below as a string"
   ]
  },
  {
   "cell_type": "code",
   "execution_count": null,
   "metadata": {},
   "outputs": [],
   "source": [
    "api_key ="
   ]
  },
  {
   "cell_type": "markdown",
   "metadata": {},
   "source": [
    "### Endpoints\n",
    "\n",
    "We will be using the `requests` package to make a `GET` request to an API. Similar to webscraping, APIs require an endpoint to tell python where to send the request.\n",
    "1. Look at the different available APIs in the `Browse APIs` tab\n",
    "2. Click on the InSight: Mars Weather Service API option\n",
    "3. Look at the `Query Parameters` and compare that to what is under the `HTTP Request` header\n",
    "4. Copy what is under the `HTTP Request` header into the endpoint variable below as a string"
   ]
  },
  {
   "cell_type": "code",
   "execution_count": null,
   "metadata": {},
   "outputs": [],
   "source": [
    "endpoint ="
   ]
  },
  {
   "cell_type": "markdown",
   "metadata": {},
   "source": [
    "The `GET` part of the endpoint is not needed, as that is the request type and we will specify that in another way\n",
    "- delete `GET`\n",
    "\n",
    "There is a typo in the endpoint\n",
    "- delete the space after `https:`\n",
    "\n",
    "Everything after the `?` are parameters that specify what information to pull back, we will specify this in a different way\n",
    "- delete the `?` and everything after it"
   ]
  },
  {
   "cell_type": "markdown",
   "metadata": {},
   "source": [
    "### Parameters\n",
    "\n",
    "Parameters are specific to each API and indicate what information you want back. These can be compared to the various ways you slice a table or df to get just the subset you want. Some parameters are required, others are optional. Always look at the documentation to know what parameters you should include and what are possible values for each one.\n",
    "\n",
    "When using the `requests` package, parameters are specified in a **dictionary**.\n",
    "1. Make an empty dictionary for the `params` variable below\n",
    "2. Look at the documentation to know what parameters you should include, add these as **keys** to the dictionary\n",
    "3. Add the appropriate values for each parameter as the **values** for the dictionary"
   ]
  },
  {
   "cell_type": "code",
   "execution_count": null,
   "metadata": {},
   "outputs": [],
   "source": [
    "params = "
   ]
  },
  {
   "cell_type": "markdown",
   "metadata": {},
   "source": [
    "You now have all the pieces to make an API request"
   ]
  },
  {
   "cell_type": "code",
   "execution_count": null,
   "metadata": {},
   "outputs": [],
   "source": [
    "response = requests.get(endpoint, params = params)"
   ]
  },
  {
   "cell_type": "markdown",
   "metadata": {},
   "source": [
    "See what was saved to `response`"
   ]
  },
  {
   "cell_type": "code",
   "execution_count": null,
   "metadata": {},
   "outputs": [],
   "source": [
    "response"
   ]
  },
  {
   "cell_type": "markdown",
   "metadata": {},
   "source": [
    "Add a `.` and press tab to see what possible methods you can perform on `response`. Choose one that seems like it would be useful to pull out the information you're looking for. After some experimentation, put your best option in the cell below and save the output to `res`"
   ]
  },
  {
   "cell_type": "code",
   "execution_count": null,
   "metadata": {},
   "outputs": [],
   "source": [
    "res = response.json()"
   ]
  },
  {
   "cell_type": "code",
   "execution_count": null,
   "metadata": {},
   "outputs": [],
   "source": [
    "res"
   ]
  },
  {
   "cell_type": "markdown",
   "metadata": {},
   "source": [
    "Based on some other outputs, the fields represent tempreture (AT), winds (HWS), pressure (PRE), as well as more detailed information about winds. The documentation also indicates that we will get data for the last 7 Sols on Mars. We will use this information to pull out the average temperature for each of the 7 days and visualize the change over time."
   ]
  },
  {
   "cell_type": "code",
   "execution_count": null,
   "metadata": {},
   "outputs": [],
   "source": [
    "temps = []\n",
    "for day_num, day_info in res.items():\n",
    "    try:\n",
    "        temps.append(day_info['AT']['av'])\n",
    "    except (TypeError, KeyError):\n",
    "        print(day_num)"
   ]
  },
  {
   "cell_type": "code",
   "execution_count": null,
   "metadata": {},
   "outputs": [],
   "source": [
    "plt.plot(temps);"
   ]
  },
  {
   "cell_type": "markdown",
   "metadata": {},
   "source": [
    "---"
   ]
  },
  {
   "cell_type": "markdown",
   "metadata": {},
   "source": [
    "Let's try another `endpoint` from NASA. This time copy the endpoint from the **Earth** section"
   ]
  },
  {
   "cell_type": "code",
   "execution_count": null,
   "metadata": {},
   "outputs": [],
   "source": [
    "endpoint = "
   ]
  },
  {
   "cell_type": "markdown",
   "metadata": {},
   "source": [
    "Add the appropriate parameters (Use the city center of Nashville as a starting point: (36.186314, -87.0654301)). Be sure to look at which parameters have defaults and which do not (those are required parameters)"
   ]
  },
  {
   "cell_type": "code",
   "execution_count": null,
   "metadata": {},
   "outputs": [],
   "source": [
    "params = {}"
   ]
  },
  {
   "cell_type": "code",
   "execution_count": null,
   "metadata": {},
   "outputs": [],
   "source": [
    "response = requests.get(endpoint, params = params)"
   ]
  },
  {
   "cell_type": "markdown",
   "metadata": {},
   "source": [
    "We'll now use the `.content` attribute from the response to render an image"
   ]
  },
  {
   "cell_type": "code",
   "execution_count": null,
   "metadata": {},
   "outputs": [],
   "source": [
    "Image(response.content)"
   ]
  },
  {
   "cell_type": "markdown",
   "metadata": {},
   "source": [
    "---"
   ]
  },
  {
   "cell_type": "markdown",
   "metadata": {},
   "source": [
    "For the last example we'll switch to using one of the APIs from Google Maps, the `nearbysearch`"
   ]
  },
  {
   "cell_type": "markdown",
   "metadata": {},
   "source": [
    "For now just follow along, but if you want to test this out in the future, you can follow these steps to get your API key (https://developers.google.com/maps/documentation/embed/get-api-key):\n",
    "1. Create an account on the Google Cloud Platform Console: console.cloud.google.com\n",
    "2. Create a new project\n",
    "3. Select the newly created project, open the drop down menu on the left, and select APIs & Services > Credentials\n",
    "4. Click Create credentials > API key\n",
    "5. Your new API key will appear in the text box, copy it to a safe place\n",
    "6. Click Close"
   ]
  },
  {
   "cell_type": "code",
   "execution_count": null,
   "metadata": {},
   "outputs": [],
   "source": [
    "def find_nearby_places(api_key,\n",
    "                      location,\n",
    "                      radius,\n",
    "                      base = 'https://maps.googleapis.com/maps/api/place/nearbysearch/',\n",
    "                      response_type = 'json',\n",
    "                      **kwargs):\n",
    "    '''\n",
    "    Constructs endpoint and params dict, makes request, and returns output as json\n",
    "    \n",
    "    api_key: requred, str, API key from google cloud console\n",
    "    location: required, str, central location for near by search, format: \"<lat>, <lng>\"\n",
    "    radius: required, str, radius of circle (in meters) to search for nearby locations\n",
    "    base: not required, str, URL base for API request\n",
    "    resoponse_type: not required, format of response\n",
    "    **kwargs: not required, search criteria for near by locations\n",
    "    '''\n",
    "    endpoint = base+response_type\n",
    "    kwargs['key'] = api_key\n",
    "    kwargs['location'] = location\n",
    "    kwargs['radius'] = radius\n",
    "    res = requests.get(endpoint, kwargs)\n",
    "    return res.json()"
   ]
  },
  {
   "cell_type": "code",
   "execution_count": null,
   "metadata": {},
   "outputs": [],
   "source": [
    "response = find_nearby_places()"
   ]
  },
  {
   "cell_type": "code",
   "execution_count": null,
   "metadata": {},
   "outputs": [],
   "source": [
    "response"
   ]
  },
  {
   "cell_type": "code",
   "execution_count": null,
   "metadata": {},
   "outputs": [],
   "source": [
    "nash_map = folium.Map([36.1612, -86.7775], zoom_start = 12)\n",
    "\n",
    "for store in response['results']:\n",
    "    lat_lng = store['geometry']['location']\n",
    "    location = [lat_lng['lat'], lat_lng['lng']]\n",
    "    popup = store['name']\n",
    "    folium.Marker(location = location, popup = popup).add_to(nash_map)\n",
    "\n",
    "nash_map"
   ]
  },
  {
   "cell_type": "code",
   "execution_count": null,
   "metadata": {},
   "outputs": [],
   "source": []
  }
 ],
 "metadata": {
  "kernelspec": {
   "display_name": "Python 3",
   "language": "python",
   "name": "python3"
  },
  "language_info": {
   "codemirror_mode": {
    "name": "ipython",
    "version": 3
   },
   "file_extension": ".py",
   "mimetype": "text/x-python",
   "name": "python",
   "nbconvert_exporter": "python",
   "pygments_lexer": "ipython3",
   "version": "3.8.5"
  }
 },
 "nbformat": 4,
 "nbformat_minor": 4
}
