{
 "cells": [
  {
   "cell_type": "code",
   "execution_count": 1,
   "metadata": {},
   "outputs": [],
   "source": [
    "import requests\n",
    "import matplotlib.pyplot as plt"
   ]
  },
  {
   "cell_type": "markdown",
   "metadata": {},
   "source": [
    "# APIs\n",
    "\n",
    "An Application Programming Interface, or API, is a structured way to retrieve data from a website. Using an API is safer and easier than something like webscraping, since what you get back is already in a usable format. Many organizations use APIs like:\n",
    "- Government organizations ([US Government](https://www.data.gov/developers/apis))\n",
    "- Large companies ([Twitter API](https://developer.twitter.com/en/docs))\n",
    "- News organizations ([NYT API](https://developer.nytimes.com/))\n",
    "- And [many more](https://github.com/public-apis/public-apis)\n",
    "\n",
    "If you type `how to use an api in python` in google, you get back many articles walking through how to use an API. It is a well documented and useful tool to be familiar with."
   ]
  },
  {
   "cell_type": "markdown",
   "metadata": {},
   "source": [
    "## Basic API Usage\n",
    "\n",
    "Let's start by using the Numbers API, an API which provides interesting facts about numbers.\n",
    "\n",
    "With any API, you should start by inspecting the documentation. For the Numbers API, the documentation is located here: http://numbersapi.com"
   ]
  },
  {
   "cell_type": "markdown",
   "metadata": {},
   "source": [
    "We will be using the `requests` package to make a `GET` request to an API. Similar to webscraping, APIs require an endpoint to tell python where to send the request.\n",
    "\n",
    "When using an API, the first thing we need to know is the expected URL structure. In this case, it is http://numbersapi.com/number/type where number is the number for which we want an interesting fact and type indicates which type of fact we want. Note that type can be omitted, and it will default to trivia."
   ]
  },
  {
   "cell_type": "code",
   "execution_count": 2,
   "metadata": {},
   "outputs": [],
   "source": [
    "endpoint = 'http://numbersapi.com/8'\n",
    "\n",
    "response = requests.get(endpoint)"
   ]
  },
  {
   "cell_type": "markdown",
   "metadata": {},
   "source": [
    "Let's check the response. If all is well, we should have a 200 response."
   ]
  },
  {
   "cell_type": "code",
   "execution_count": 3,
   "metadata": {},
   "outputs": [
    {
     "data": {
      "text/plain": [
       "<Response [200]>"
      ]
     },
     "execution_count": 3,
     "metadata": {},
     "output_type": "execute_result"
    }
   ],
   "source": [
    "response"
   ]
  },
  {
   "cell_type": "markdown",
   "metadata": {},
   "source": [
    "To access the content of the response, we can look at the `text` attribute."
   ]
  },
  {
   "cell_type": "code",
   "execution_count": 4,
   "metadata": {},
   "outputs": [
    {
     "data": {
      "text/plain": [
       "'8 is the number of principles of Yong in Chinese calligraphy.'"
      ]
     },
     "execution_count": 4,
     "metadata": {},
     "output_type": "execute_result"
    }
   ],
   "source": [
    "response.text"
   ]
  },
  {
   "cell_type": "markdown",
   "metadata": {},
   "source": [
    "What if we want to be able to easily change the number that we want to retrieve. For this, we can make use of an f-string. "
   ]
  },
  {
   "cell_type": "code",
   "execution_count": 5,
   "metadata": {},
   "outputs": [
    {
     "data": {
      "text/plain": [
       "'95 is the NBA record for Most Assists in a 7-game playoff series (by Magic Johnson of the Los Angeles Lakers in 1984).'"
      ]
     },
     "execution_count": 5,
     "metadata": {},
     "output_type": "execute_result"
    }
   ],
   "source": [
    "number = 95\n",
    "\n",
    "endpoint = f'http://numbersapi.com/{number}'\n",
    "\n",
    "response = requests.get(endpoint)\n",
    "\n",
    "response.text"
   ]
  },
  {
   "cell_type": "markdown",
   "metadata": {},
   "source": [
    "This API also allows for batch requests: http://numbersapi.com#batching"
   ]
  },
  {
   "cell_type": "code",
   "execution_count": 6,
   "metadata": {},
   "outputs": [],
   "source": [
    "number_range = \"1..10\"\n",
    "\n",
    "endpoint = f'http://numbersapi.com/{number_range}'\n",
    "\n",
    "response = requests.get(endpoint)"
   ]
  },
  {
   "cell_type": "markdown",
   "metadata": {},
   "source": [
    "We can look at the response as text."
   ]
  },
  {
   "cell_type": "code",
   "execution_count": 7,
   "metadata": {},
   "outputs": [
    {
     "data": {
      "text/plain": [
       "'{\\n \"1\": \"1 is the loneliest number.\",\\n \"2\": \"2 is the first magic number in physics.\",\\n \"3\": \"3 is number of performers in a trio.\",\\n \"4\": \"4 is the number of bits in a nibble, equivalent to half a byte.\",\\n \"5\": \"5 is the number of babies born in a quintuplet.\",\\n \"6\": \"6 is the number of ponies in the main cast of My Little Pony: Friendship is Magic.\",\\n \"7\": \"7 is the number of periods, or horizontal rows of elements, in the periodic table.\",\\n \"8\": \"8 is the number of furlongs in a mile.\",\\n \"9\": \"9 is the number of circles of Hell in Dante\\'s Divine Comedy.\",\\n \"10\": \"10 is the number of years in a decade.\"\\n}'"
      ]
     },
     "execution_count": 7,
     "metadata": {},
     "output_type": "execute_result"
    }
   ],
   "source": [
    "response.text"
   ]
  },
  {
   "cell_type": "markdown",
   "metadata": {},
   "source": [
    "However, it will be easier to work with as a json. We can use the `json` method to convert the results to a dictionary."
   ]
  },
  {
   "cell_type": "code",
   "execution_count": 8,
   "metadata": {},
   "outputs": [
    {
     "data": {
      "text/plain": [
       "{'1': '1 is the loneliest number.',\n",
       " '2': '2 is the first magic number in physics.',\n",
       " '3': '3 is number of performers in a trio.',\n",
       " '4': '4 is the number of bits in a nibble, equivalent to half a byte.',\n",
       " '5': '5 is the number of babies born in a quintuplet.',\n",
       " '6': '6 is the number of ponies in the main cast of My Little Pony: Friendship is Magic.',\n",
       " '7': '7 is the number of periods, or horizontal rows of elements, in the periodic table.',\n",
       " '8': '8 is the number of furlongs in a mile.',\n",
       " '9': \"9 is the number of circles of Hell in Dante's Divine Comedy.\",\n",
       " '10': '10 is the number of years in a decade.'}"
      ]
     },
     "execution_count": 8,
     "metadata": {},
     "output_type": "execute_result"
    }
   ],
   "source": [
    "res = response.json()\n",
    "res"
   ]
  },
  {
   "cell_type": "markdown",
   "metadata": {},
   "source": [
    "Then, we can access the individual entries by passing in the correct key."
   ]
  },
  {
   "cell_type": "code",
   "execution_count": 9,
   "metadata": {},
   "outputs": [
    {
     "data": {
      "text/plain": [
       "'5 is the number of babies born in a quintuplet.'"
      ]
     },
     "execution_count": 9,
     "metadata": {},
     "output_type": "execute_result"
    }
   ],
   "source": [
    "res['5']"
   ]
  },
  {
   "cell_type": "markdown",
   "metadata": {},
   "source": [
    "Finally, notice that we can ask for a fact about a random number."
   ]
  },
  {
   "cell_type": "code",
   "execution_count": 10,
   "metadata": {},
   "outputs": [
    {
     "data": {
      "text/plain": [
       "'270 is the average number of days in human pregnancy.'"
      ]
     },
     "execution_count": 10,
     "metadata": {},
     "output_type": "execute_result"
    }
   ],
   "source": [
    "endpoint = 'http://numbersapi.com/random'\n",
    "\n",
    "response = requests.get(endpoint)\n",
    "\n",
    "response.text"
   ]
  },
  {
   "cell_type": "markdown",
   "metadata": {},
   "source": [
    "We can specify a minimum and maximum for these random numbers: http://numbersapi.com#min-and-max\n",
    "\n",
    "#### Parameters\n",
    "\n",
    "Parameters are specific to each API and indicate what information you want back. These can be compared to the various ways you slice a table or df to get just the subset you want. Some parameters are required, others are optional. Always look at the documentation to know what parameters you should include and what are possible values for each one. When using parameters for an API call, you can do the following:\n",
    "\n",
    "1. Make an empty dictionary for the `params` variable\n",
    "2. Look at the documentation to know what parameters you should include, add these as **keys** to the dictionary\n",
    "3. Add the appropriate values for each parameter as the **values** for the dictionary\n",
    "\n",
    "For example, let's get a fact about a random number between 500 and 600"
   ]
  },
  {
   "cell_type": "code",
   "execution_count": 11,
   "metadata": {},
   "outputs": [
    {
     "data": {
      "text/plain": [
       "'536 is the number of ways to arrange the pieces of the stomachion puzzle into a square, not counting rotation or reflection.'"
      ]
     },
     "execution_count": 11,
     "metadata": {},
     "output_type": "execute_result"
    }
   ],
   "source": [
    "endpoint = 'http://numbersapi.com/random'\n",
    "\n",
    "params = {\n",
    "    'min': 500,\n",
    "    'max': 600\n",
    "}\n",
    "\n",
    "response = requests.get(endpoint, params = params)\n",
    "\n",
    "response.text"
   ]
  },
  {
   "cell_type": "markdown",
   "metadata": {},
   "source": [
    "### NASA API and API Keys\n",
    "\n",
    "Now, let's work with the NASA API: https://api.nasa.gov/\n",
    "\n",
    "One of the main ways APIs maintain security is by the use of some form of authentication, such as an API key. An API key can be obtained in a number of ways, depending on the API, and is a way for the application to know who you are and provides you secure access to the data.\n",
    "\n",
    "To work with the NASA API, you'll need to create an API key.\n",
    "\n",
    "1. Scroll down and enter your First Name, Last Name, and email to generate an API key\n",
    "2. Copy the API key into the keys.json file.\n",
    "\n",
    "**DO NOT SHARE YOUR API KEYS OR PUT THEM IN A PUBLIC PLACE LIKE GITHUB**\n",
    "\n",
    "API keys should be stored securely on your computer and removed from any code or documents you share."
   ]
  },
  {
   "cell_type": "markdown",
   "metadata": {},
   "source": [
    "Now, we can safely load your key into a variable using the json library."
   ]
  },
  {
   "cell_type": "code",
   "execution_count": 12,
   "metadata": {},
   "outputs": [],
   "source": [
    "import json"
   ]
  },
  {
   "cell_type": "code",
   "execution_count": 13,
   "metadata": {},
   "outputs": [],
   "source": [
    "with open('keys.json') as fi:\n",
    "    credentials = json.load(fi)"
   ]
  },
  {
   "cell_type": "code",
   "execution_count": 14,
   "metadata": {},
   "outputs": [],
   "source": [
    "api_key = credentials['api_key']"
   ]
  },
  {
   "cell_type": "markdown",
   "metadata": {},
   "source": [
    "1. Look at the different available APIs in the `Browse APIs` tab\n",
    "2. Click on the **Asteroids - NeoWs**\n",
    "3. Under **Neo - Feed**, copy the second line into the endpoint variable below as a string and delete the last `?`"
   ]
  },
  {
   "cell_type": "code",
   "execution_count": 15,
   "metadata": {},
   "outputs": [],
   "source": [
    "endpoint = ''"
   ]
  },
  {
   "cell_type": "markdown",
   "metadata": {},
   "source": [
    "Fill in the parameters dictionary below to retrieve information on all NeoWs between January 1, 2022 and January 7, 2022. (Be sure the include your api key as a parameter)."
   ]
  },
  {
   "cell_type": "code",
   "execution_count": 16,
   "metadata": {},
   "outputs": [],
   "source": [
    "params = {\n",
    "\n",
    "}"
   ]
  },
  {
   "cell_type": "markdown",
   "metadata": {},
   "source": [
    "You now have all the pieces to make an API request"
   ]
  },
  {
   "cell_type": "code",
   "execution_count": 17,
   "metadata": {},
   "outputs": [
    {
     "ename": "MissingSchema",
     "evalue": "Invalid URL '': No scheme supplied. Perhaps you meant https://?",
     "output_type": "error",
     "traceback": [
      "\u001b[1;31m---------------------------------------------------------------------------\u001b[0m",
      "\u001b[1;31mMissingSchema\u001b[0m                             Traceback (most recent call last)",
      "Cell \u001b[1;32mIn[17], line 1\u001b[0m\n\u001b[1;32m----> 1\u001b[0m response \u001b[38;5;241m=\u001b[39m requests\u001b[38;5;241m.\u001b[39mget(endpoint, params \u001b[38;5;241m=\u001b[39m params)\n",
      "File \u001b[1;32m~\\anaconda3\\Lib\\site-packages\\requests\\api.py:73\u001b[0m, in \u001b[0;36mget\u001b[1;34m(url, params, **kwargs)\u001b[0m\n\u001b[0;32m     62\u001b[0m \u001b[38;5;28;01mdef\u001b[39;00m \u001b[38;5;21mget\u001b[39m(url, params\u001b[38;5;241m=\u001b[39m\u001b[38;5;28;01mNone\u001b[39;00m, \u001b[38;5;241m*\u001b[39m\u001b[38;5;241m*\u001b[39mkwargs):\n\u001b[0;32m     63\u001b[0m \u001b[38;5;250m    \u001b[39m\u001b[38;5;124mr\u001b[39m\u001b[38;5;124;03m\"\"\"Sends a GET request.\u001b[39;00m\n\u001b[0;32m     64\u001b[0m \n\u001b[0;32m     65\u001b[0m \u001b[38;5;124;03m    :param url: URL for the new :class:`Request` object.\u001b[39;00m\n\u001b[1;32m   (...)\u001b[0m\n\u001b[0;32m     70\u001b[0m \u001b[38;5;124;03m    :rtype: requests.Response\u001b[39;00m\n\u001b[0;32m     71\u001b[0m \u001b[38;5;124;03m    \"\"\"\u001b[39;00m\n\u001b[1;32m---> 73\u001b[0m     \u001b[38;5;28;01mreturn\u001b[39;00m request(\u001b[38;5;124m\"\u001b[39m\u001b[38;5;124mget\u001b[39m\u001b[38;5;124m\"\u001b[39m, url, params\u001b[38;5;241m=\u001b[39mparams, \u001b[38;5;241m*\u001b[39m\u001b[38;5;241m*\u001b[39mkwargs)\n",
      "File \u001b[1;32m~\\anaconda3\\Lib\\site-packages\\requests\\api.py:59\u001b[0m, in \u001b[0;36mrequest\u001b[1;34m(method, url, **kwargs)\u001b[0m\n\u001b[0;32m     55\u001b[0m \u001b[38;5;66;03m# By using the 'with' statement we are sure the session is closed, thus we\u001b[39;00m\n\u001b[0;32m     56\u001b[0m \u001b[38;5;66;03m# avoid leaving sockets open which can trigger a ResourceWarning in some\u001b[39;00m\n\u001b[0;32m     57\u001b[0m \u001b[38;5;66;03m# cases, and look like a memory leak in others.\u001b[39;00m\n\u001b[0;32m     58\u001b[0m \u001b[38;5;28;01mwith\u001b[39;00m sessions\u001b[38;5;241m.\u001b[39mSession() \u001b[38;5;28;01mas\u001b[39;00m session:\n\u001b[1;32m---> 59\u001b[0m     \u001b[38;5;28;01mreturn\u001b[39;00m session\u001b[38;5;241m.\u001b[39mrequest(method\u001b[38;5;241m=\u001b[39mmethod, url\u001b[38;5;241m=\u001b[39murl, \u001b[38;5;241m*\u001b[39m\u001b[38;5;241m*\u001b[39mkwargs)\n",
      "File \u001b[1;32m~\\anaconda3\\Lib\\site-packages\\requests\\sessions.py:575\u001b[0m, in \u001b[0;36mSession.request\u001b[1;34m(self, method, url, params, data, headers, cookies, files, auth, timeout, allow_redirects, proxies, hooks, stream, verify, cert, json)\u001b[0m\n\u001b[0;32m    562\u001b[0m \u001b[38;5;66;03m# Create the Request.\u001b[39;00m\n\u001b[0;32m    563\u001b[0m req \u001b[38;5;241m=\u001b[39m Request(\n\u001b[0;32m    564\u001b[0m     method\u001b[38;5;241m=\u001b[39mmethod\u001b[38;5;241m.\u001b[39mupper(),\n\u001b[0;32m    565\u001b[0m     url\u001b[38;5;241m=\u001b[39murl,\n\u001b[1;32m   (...)\u001b[0m\n\u001b[0;32m    573\u001b[0m     hooks\u001b[38;5;241m=\u001b[39mhooks,\n\u001b[0;32m    574\u001b[0m )\n\u001b[1;32m--> 575\u001b[0m prep \u001b[38;5;241m=\u001b[39m \u001b[38;5;28mself\u001b[39m\u001b[38;5;241m.\u001b[39mprepare_request(req)\n\u001b[0;32m    577\u001b[0m proxies \u001b[38;5;241m=\u001b[39m proxies \u001b[38;5;129;01mor\u001b[39;00m {}\n\u001b[0;32m    579\u001b[0m settings \u001b[38;5;241m=\u001b[39m \u001b[38;5;28mself\u001b[39m\u001b[38;5;241m.\u001b[39mmerge_environment_settings(\n\u001b[0;32m    580\u001b[0m     prep\u001b[38;5;241m.\u001b[39murl, proxies, stream, verify, cert\n\u001b[0;32m    581\u001b[0m )\n",
      "File \u001b[1;32m~\\anaconda3\\Lib\\site-packages\\requests\\sessions.py:486\u001b[0m, in \u001b[0;36mSession.prepare_request\u001b[1;34m(self, request)\u001b[0m\n\u001b[0;32m    483\u001b[0m     auth \u001b[38;5;241m=\u001b[39m get_netrc_auth(request\u001b[38;5;241m.\u001b[39murl)\n\u001b[0;32m    485\u001b[0m p \u001b[38;5;241m=\u001b[39m PreparedRequest()\n\u001b[1;32m--> 486\u001b[0m p\u001b[38;5;241m.\u001b[39mprepare(\n\u001b[0;32m    487\u001b[0m     method\u001b[38;5;241m=\u001b[39mrequest\u001b[38;5;241m.\u001b[39mmethod\u001b[38;5;241m.\u001b[39mupper(),\n\u001b[0;32m    488\u001b[0m     url\u001b[38;5;241m=\u001b[39mrequest\u001b[38;5;241m.\u001b[39murl,\n\u001b[0;32m    489\u001b[0m     files\u001b[38;5;241m=\u001b[39mrequest\u001b[38;5;241m.\u001b[39mfiles,\n\u001b[0;32m    490\u001b[0m     data\u001b[38;5;241m=\u001b[39mrequest\u001b[38;5;241m.\u001b[39mdata,\n\u001b[0;32m    491\u001b[0m     json\u001b[38;5;241m=\u001b[39mrequest\u001b[38;5;241m.\u001b[39mjson,\n\u001b[0;32m    492\u001b[0m     headers\u001b[38;5;241m=\u001b[39mmerge_setting(\n\u001b[0;32m    493\u001b[0m         request\u001b[38;5;241m.\u001b[39mheaders, \u001b[38;5;28mself\u001b[39m\u001b[38;5;241m.\u001b[39mheaders, dict_class\u001b[38;5;241m=\u001b[39mCaseInsensitiveDict\n\u001b[0;32m    494\u001b[0m     ),\n\u001b[0;32m    495\u001b[0m     params\u001b[38;5;241m=\u001b[39mmerge_setting(request\u001b[38;5;241m.\u001b[39mparams, \u001b[38;5;28mself\u001b[39m\u001b[38;5;241m.\u001b[39mparams),\n\u001b[0;32m    496\u001b[0m     auth\u001b[38;5;241m=\u001b[39mmerge_setting(auth, \u001b[38;5;28mself\u001b[39m\u001b[38;5;241m.\u001b[39mauth),\n\u001b[0;32m    497\u001b[0m     cookies\u001b[38;5;241m=\u001b[39mmerged_cookies,\n\u001b[0;32m    498\u001b[0m     hooks\u001b[38;5;241m=\u001b[39mmerge_hooks(request\u001b[38;5;241m.\u001b[39mhooks, \u001b[38;5;28mself\u001b[39m\u001b[38;5;241m.\u001b[39mhooks),\n\u001b[0;32m    499\u001b[0m )\n\u001b[0;32m    500\u001b[0m \u001b[38;5;28;01mreturn\u001b[39;00m p\n",
      "File \u001b[1;32m~\\anaconda3\\Lib\\site-packages\\requests\\models.py:368\u001b[0m, in \u001b[0;36mPreparedRequest.prepare\u001b[1;34m(self, method, url, headers, files, data, params, auth, cookies, hooks, json)\u001b[0m\n\u001b[0;32m    365\u001b[0m \u001b[38;5;250m\u001b[39m\u001b[38;5;124;03m\"\"\"Prepares the entire request with the given parameters.\"\"\"\u001b[39;00m\n\u001b[0;32m    367\u001b[0m \u001b[38;5;28mself\u001b[39m\u001b[38;5;241m.\u001b[39mprepare_method(method)\n\u001b[1;32m--> 368\u001b[0m \u001b[38;5;28mself\u001b[39m\u001b[38;5;241m.\u001b[39mprepare_url(url, params)\n\u001b[0;32m    369\u001b[0m \u001b[38;5;28mself\u001b[39m\u001b[38;5;241m.\u001b[39mprepare_headers(headers)\n\u001b[0;32m    370\u001b[0m \u001b[38;5;28mself\u001b[39m\u001b[38;5;241m.\u001b[39mprepare_cookies(cookies)\n",
      "File \u001b[1;32m~\\anaconda3\\Lib\\site-packages\\requests\\models.py:439\u001b[0m, in \u001b[0;36mPreparedRequest.prepare_url\u001b[1;34m(self, url, params)\u001b[0m\n\u001b[0;32m    436\u001b[0m     \u001b[38;5;28;01mraise\u001b[39;00m InvalidURL(\u001b[38;5;241m*\u001b[39me\u001b[38;5;241m.\u001b[39margs)\n\u001b[0;32m    438\u001b[0m \u001b[38;5;28;01mif\u001b[39;00m \u001b[38;5;129;01mnot\u001b[39;00m scheme:\n\u001b[1;32m--> 439\u001b[0m     \u001b[38;5;28;01mraise\u001b[39;00m MissingSchema(\n\u001b[0;32m    440\u001b[0m         \u001b[38;5;124mf\u001b[39m\u001b[38;5;124m\"\u001b[39m\u001b[38;5;124mInvalid URL \u001b[39m\u001b[38;5;132;01m{\u001b[39;00murl\u001b[38;5;132;01m!r}\u001b[39;00m\u001b[38;5;124m: No scheme supplied. \u001b[39m\u001b[38;5;124m\"\u001b[39m\n\u001b[0;32m    441\u001b[0m         \u001b[38;5;124mf\u001b[39m\u001b[38;5;124m\"\u001b[39m\u001b[38;5;124mPerhaps you meant https://\u001b[39m\u001b[38;5;132;01m{\u001b[39;00murl\u001b[38;5;132;01m}\u001b[39;00m\u001b[38;5;124m?\u001b[39m\u001b[38;5;124m\"\u001b[39m\n\u001b[0;32m    442\u001b[0m     )\n\u001b[0;32m    444\u001b[0m \u001b[38;5;28;01mif\u001b[39;00m \u001b[38;5;129;01mnot\u001b[39;00m host:\n\u001b[0;32m    445\u001b[0m     \u001b[38;5;28;01mraise\u001b[39;00m InvalidURL(\u001b[38;5;124mf\u001b[39m\u001b[38;5;124m\"\u001b[39m\u001b[38;5;124mInvalid URL \u001b[39m\u001b[38;5;132;01m{\u001b[39;00murl\u001b[38;5;132;01m!r}\u001b[39;00m\u001b[38;5;124m: No host supplied\u001b[39m\u001b[38;5;124m\"\u001b[39m)\n",
      "\u001b[1;31mMissingSchema\u001b[0m: Invalid URL '': No scheme supplied. Perhaps you meant https://?"
     ]
    }
   ],
   "source": [
    "response = requests.get(endpoint, params = params)"
   ]
  },
  {
   "cell_type": "markdown",
   "metadata": {},
   "source": [
    "See what was saved to `response`"
   ]
  },
  {
   "cell_type": "code",
   "execution_count": null,
   "metadata": {},
   "outputs": [],
   "source": [
    "response"
   ]
  },
  {
   "cell_type": "markdown",
   "metadata": {},
   "source": [
    "This API returns the results as a json, so we'll access them using the `json` method."
   ]
  },
  {
   "cell_type": "code",
   "execution_count": null,
   "metadata": {},
   "outputs": [],
   "source": [
    "res = response.json()\n",
    "res"
   ]
  },
  {
   "cell_type": "code",
   "execution_count": null,
   "metadata": {},
   "outputs": [],
   "source": [
    "res.keys()"
   ]
  },
  {
   "cell_type": "markdown",
   "metadata": {},
   "source": [
    "The information that we're interested in is located under `near_earth_objects`."
   ]
  },
  {
   "cell_type": "code",
   "execution_count": null,
   "metadata": {},
   "outputs": [],
   "source": [
    "res['near_earth_objects']"
   ]
  },
  {
   "cell_type": "code",
   "execution_count": null,
   "metadata": {},
   "outputs": [],
   "source": [
    "res['near_earth_objects'].keys()"
   ]
  },
  {
   "cell_type": "markdown",
   "metadata": {},
   "source": [
    "**Question:** How many near earth objects were there on January 3?"
   ]
  },
  {
   "cell_type": "code",
   "execution_count": null,
   "metadata": {},
   "outputs": [],
   "source": [
    "# Your Code Here"
   ]
  },
  {
   "cell_type": "markdown",
   "metadata": {},
   "source": [
    "**Question:** Is the first returned result for January 3 potentially hazardous (as indicated by the `is_potentially_hazardous_asteroid` field)?"
   ]
  },
  {
   "cell_type": "code",
   "execution_count": null,
   "metadata": {},
   "outputs": [],
   "source": [
    "# Your Code Here"
   ]
  },
  {
   "cell_type": "markdown",
   "metadata": {},
   "source": [
    "**Question:** What was the relative velocity, in miles per hour of the first object returned for January 3?"
   ]
  },
  {
   "cell_type": "code",
   "execution_count": null,
   "metadata": {},
   "outputs": [],
   "source": [
    "# Your Code Here"
   ]
  },
  {
   "cell_type": "markdown",
   "metadata": {},
   "source": [
    "The for loop below iterates over the data returned and pulls out information for each asteroid. It then saves the information to lists, that are used for making a scatter plot of the asteroids."
   ]
  },
  {
   "cell_type": "code",
   "execution_count": null,
   "metadata": {},
   "outputs": [],
   "source": [
    "max_diam = []\n",
    "hazardous = []\n",
    "miss_dist = []\n",
    "for day, objs in res['near_earth_objects'].items():\n",
    "    for obj in objs:\n",
    "        max_diam.append(float(obj['estimated_diameter']['miles']['estimated_diameter_max']))\n",
    "        hazardous.append(obj['is_potentially_hazardous_asteroid'])\n",
    "        miss_dist.append(float(obj['close_approach_data'][0]['miss_distance']['miles']))\n",
    "\n",
    "plt.figure(figsize = (17, 10))\n",
    "plt.scatter(max_diam, miss_dist, c = hazardous)\n",
    "plt.xlabel('max diameter (miles)')\n",
    "plt.ylabel('miss distance (miles)');"
   ]
  },
  {
   "cell_type": "markdown",
   "metadata": {},
   "source": [
    "If you want to work with the response from an API using _pandas_, you'll want to convert it to a DataFrame. In some circumstances, you can easily convert a json to a DataFrame, but in other cases, you have to do a little bit of work."
   ]
  },
  {
   "cell_type": "code",
   "execution_count": null,
   "metadata": {},
   "outputs": [],
   "source": [
    "import pandas as pd"
   ]
  },
  {
   "cell_type": "markdown",
   "metadata": {},
   "source": [
    "The easiest case is when you have a list of dictionaries. Here, you can simply use the `DataFrame` constructor. Let's see how this works using one of the days. If you wanted to get all of the results into a single DataFrame, you could iterate through and concatenate. "
   ]
  },
  {
   "cell_type": "code",
   "execution_count": null,
   "metadata": {},
   "outputs": [],
   "source": [
    "pd.DataFrame(response.json()['near_earth_objects']['2022-01-07']).head(2)"
   ]
  },
  {
   "cell_type": "markdown",
   "metadata": {},
   "source": [
    "You'll notice that we still have dictionaries in some of the columns. This can be remedied using the `json_normalize` function."
   ]
  },
  {
   "cell_type": "code",
   "execution_count": null,
   "metadata": {},
   "outputs": [],
   "source": [
    "pd.json_normalize(response.json()['near_earth_objects']['2022-01-07']).head(2)"
   ]
  },
  {
   "cell_type": "markdown",
   "metadata": {},
   "source": [
    "This almost does it, but the `close_approach_data` column contains a list, which `json_normalize` can't handle. To fix this, we can use the `explode` method which will unpack the list across multiple columns, if needed."
   ]
  },
  {
   "cell_type": "code",
   "execution_count": null,
   "metadata": {},
   "outputs": [],
   "source": [
    "response_df = pd.json_normalize(response.json()['near_earth_objects']['2022-01-07'])\n",
    "response_df.explode('close_approach_data').head(2)"
   ]
  },
  {
   "cell_type": "markdown",
   "metadata": {},
   "source": [
    "Once exploded, you can use the `json_normalize` function again."
   ]
  },
  {
   "cell_type": "code",
   "execution_count": null,
   "metadata": {},
   "outputs": [],
   "source": [
    "pd.json_normalize(response_df.explode('close_approach_data')['close_approach_data']).head(2)"
   ]
  },
  {
   "cell_type": "markdown",
   "metadata": {},
   "source": [
    "And finally, you can concatenate the two pieces together."
   ]
  },
  {
   "cell_type": "code",
   "execution_count": null,
   "metadata": {},
   "outputs": [],
   "source": [
    "pd.concat([\n",
    "    response_df.explode('close_approach_data').drop(columns = ['close_approach_data']),\n",
    "    pd.json_normalize(response_df.explode('close_approach_data')['close_approach_data'])\n",
    "], axis = 1).head(2)"
   ]
  },
  {
   "cell_type": "markdown",
   "metadata": {},
   "source": [
    "Let's try another `endpoint` from NASA. This time copy the endpoint from the **APOD** (Astronomy Picture of the Day) section.\n",
    "\n",
    "Fill in the endpoint and parameters in order to retrieve the image for January 1, 2019."
   ]
  },
  {
   "cell_type": "code",
   "execution_count": null,
   "metadata": {},
   "outputs": [],
   "source": [
    "endpoint = ''\n",
    "\n",
    "params = {\n",
    "\n",
    "}"
   ]
  },
  {
   "cell_type": "code",
   "execution_count": null,
   "metadata": {},
   "outputs": [],
   "source": [
    "response = requests.get(endpoint, params = params)"
   ]
  },
  {
   "cell_type": "code",
   "execution_count": null,
   "metadata": {},
   "outputs": [],
   "source": [
    "response"
   ]
  },
  {
   "cell_type": "code",
   "execution_count": null,
   "metadata": {},
   "outputs": [],
   "source": [
    "response.json()"
   ]
  },
  {
   "cell_type": "markdown",
   "metadata": {},
   "source": [
    "Finally, let's grab the image url so that we can retrieve the actual image."
   ]
  },
  {
   "cell_type": "code",
   "execution_count": null,
   "metadata": {},
   "outputs": [],
   "source": [
    "image_response = requests.get(response.json()['url'])"
   ]
  },
  {
   "cell_type": "markdown",
   "metadata": {},
   "source": [
    "For image responses, we don't want to look at the text or json, but instead take the content. We'll now use the `.content` attribute from the response to render an image."
   ]
  },
  {
   "cell_type": "code",
   "execution_count": null,
   "metadata": {},
   "outputs": [],
   "source": [
    "from IPython.display import Image"
   ]
  },
  {
   "cell_type": "code",
   "execution_count": null,
   "metadata": {},
   "outputs": [],
   "source": [
    "Image(image_response.content)"
   ]
  },
  {
   "cell_type": "code",
   "execution_count": null,
   "metadata": {},
   "outputs": [],
   "source": []
  },
  {
   "cell_type": "code",
   "execution_count": null,
   "metadata": {},
   "outputs": [],
   "source": []
  },
  {
   "cell_type": "code",
   "execution_count": null,
   "metadata": {},
   "outputs": [],
   "source": []
  },
  {
   "cell_type": "code",
   "execution_count": null,
   "metadata": {},
   "outputs": [],
   "source": []
  },
  {
   "cell_type": "code",
   "execution_count": 18,
   "metadata": {},
   "outputs": [],
   "source": [
    "endpoint = 'https://data.nashville.gov/resource/fuaa-r5cm.json'"
   ]
  },
  {
   "cell_type": "code",
   "execution_count": 21,
   "metadata": {},
   "outputs": [],
   "source": [
    "response = requests.get(endpoint)"
   ]
  },
  {
   "cell_type": "code",
   "execution_count": 27,
   "metadata": {},
   "outputs": [
    {
     "data": {
      "text/plain": [
       "'<!DOCTYPE html>\\n<!--[if lt IE 9]>  <html class=\"ie lt-ie9 ie8\"> <![endif]-->\\n<!--[if IE 9]>     <html class=\"ie ie9\"> <![endif]-->\\n<!--[if !IE]><!--> <html> <!--<![endif]-->\\n<head>\\n  <meta charset=\"UTF-8\">\\n  <meta name=\"viewport\" content=\"width=device-width, initial-scale=1.0\">\\n  <title>ArcGIS Hub Unsupported</title>\\n  <link rel=\"stylesheet\" href=\"https://s3-us-west-1.amazonaws.com/patterns.esri.com/files/calcite-web/1.2.5/css/calcite-web.min.css\">\\n  <style>\\n    .gateway {\\n      margin-top: 6.5rem;\\n      min-height: 40.625rem;\\n    }\\n\\n    .gateway-splash {\\n      text-align: center;\\n      color: rgba(0,0,0,.87);\\n    }\\n    \\n    .black-text {\\n      color: rgba(0,0,0,.87);\\n    }\\n\\n    img {\\n      height: 400px;\\n      width: auto;\\n      width: auto;\\n      width: auto;\\n    }\\n\\n    h4 {\\n      font-weight: 600;\\n      font-size: 1.375rem;\\n      margin-top: 6rem;\\n    }\\n\\n    p {\\n      color: #555555;\\n    }\\n\\n    .button-container {\\n      margin-top: 1.875rem;\\n    }\\n  </style>\\n</head>\\n<body>\\n  <header class=\"top-nav\">\\n    <div class=\"grid-container\">\\n      <div class=\"column-16 center-column\">\\n        <a id=\"topnav\" href=\"https://hub.arcgis.com\" class=\"top-nav-title\">ArcGIS Hub</a>\\n      </div>\\n    </div>\\n  </header>  \\n  <div class=\"container gateway gateway-splash\">\\n    <div class=\"img-wrapper\">\\n      <img src=\"https://hubcdn.arcgis.com/static/images/undraw_warning_cyit.svg\" alt=\"This site is not longer supported\">\\n    </div>\\n    <h4>This site is no longer supported</h4>\\n    <p>If you have questions, <a class=\"link-blue\" href=\"https://support.esri.com/en/contact-tech-support\">contact support</a>.</p>\\n    <p><a class=\"link-blue\" href=\"https://www.esri.com/arcgis-blog/products/arcgis-hub/national-government/updating-legacy-open-data-sites-in-arcgis-hub/\">Learn how to migrate your site to Hub.</a></p>\\n    <div class=\"button-container\">\\n      <a class=\"btn\" href=\"https://hub.arcgis.com\" type=\"button\">Go to ArcGIS Hub</a>\\n    </div>\\n  </div>\\n</body>\\n</html>'"
      ]
     },
     "execution_count": 27,
     "metadata": {},
     "output_type": "execute_result"
    }
   ],
   "source": [
    "response.text"
   ]
  },
  {
   "cell_type": "code",
   "execution_count": 65,
   "metadata": {},
   "outputs": [],
   "source": [
    "from bs4 import BeautifulSoup as BS"
   ]
  },
  {
   "cell_type": "code",
   "execution_count": 36,
   "metadata": {},
   "outputs": [],
   "source": [
    "import pandas as pd"
   ]
  },
  {
   "cell_type": "code",
   "execution_count": 86,
   "metadata": {},
   "outputs": [],
   "source": [
    "end = 'NY.GDP.PCAP.PP.KD'"
   ]
  },
  {
   "cell_type": "code",
   "execution_count": 87,
   "metadata": {},
   "outputs": [],
   "source": [
    "endpoint = 'http://api.worldbank.org/v2/country/all/indicator/'"
   ]
  },
  {
   "cell_type": "code",
   "execution_count": 106,
   "metadata": {},
   "outputs": [],
   "source": [
    "params ={\n",
    "    'format' : 'json',\n",
    "    'per_page' : '20000'\n",
    "}"
   ]
  },
  {
   "cell_type": "code",
   "execution_count": 107,
   "metadata": {},
   "outputs": [],
   "source": [
    "response  = requests.get(endpoint + end, params = params)"
   ]
  },
  {
   "cell_type": "code",
   "execution_count": 108,
   "metadata": {},
   "outputs": [],
   "source": [
    "df_1 = pd.json_normalize(response.json()[1])"
   ]
  },
  {
   "cell_type": "code",
   "execution_count": 109,
   "metadata": {},
   "outputs": [
    {
     "data": {
      "text/html": [
       "<div>\n",
       "<style scoped>\n",
       "    .dataframe tbody tr th:only-of-type {\n",
       "        vertical-align: middle;\n",
       "    }\n",
       "\n",
       "    .dataframe tbody tr th {\n",
       "        vertical-align: top;\n",
       "    }\n",
       "\n",
       "    .dataframe thead th {\n",
       "        text-align: right;\n",
       "    }\n",
       "</style>\n",
       "<table border=\"1\" class=\"dataframe\">\n",
       "  <thead>\n",
       "    <tr style=\"text-align: right;\">\n",
       "      <th></th>\n",
       "      <th>countryiso3code</th>\n",
       "      <th>date</th>\n",
       "      <th>value</th>\n",
       "      <th>unit</th>\n",
       "      <th>obs_status</th>\n",
       "      <th>decimal</th>\n",
       "      <th>indicator.id</th>\n",
       "      <th>indicator.value</th>\n",
       "      <th>country.id</th>\n",
       "      <th>country.value</th>\n",
       "    </tr>\n",
       "  </thead>\n",
       "  <tbody>\n",
       "    <tr>\n",
       "      <th>0</th>\n",
       "      <td>AFE</td>\n",
       "      <td>2023</td>\n",
       "      <td>4047.007031</td>\n",
       "      <td></td>\n",
       "      <td></td>\n",
       "      <td>0</td>\n",
       "      <td>NY.GDP.PCAP.PP.KD</td>\n",
       "      <td>GDP per capita, PPP (constant 2021 internation...</td>\n",
       "      <td>ZH</td>\n",
       "      <td>Africa Eastern and Southern</td>\n",
       "    </tr>\n",
       "    <tr>\n",
       "      <th>1</th>\n",
       "      <td>AFE</td>\n",
       "      <td>2022</td>\n",
       "      <td>4038.638689</td>\n",
       "      <td></td>\n",
       "      <td></td>\n",
       "      <td>0</td>\n",
       "      <td>NY.GDP.PCAP.PP.KD</td>\n",
       "      <td>GDP per capita, PPP (constant 2021 internation...</td>\n",
       "      <td>ZH</td>\n",
       "      <td>Africa Eastern and Southern</td>\n",
       "    </tr>\n",
       "    <tr>\n",
       "      <th>2</th>\n",
       "      <td>AFE</td>\n",
       "      <td>2021</td>\n",
       "      <td>3994.171654</td>\n",
       "      <td></td>\n",
       "      <td></td>\n",
       "      <td>0</td>\n",
       "      <td>NY.GDP.PCAP.PP.KD</td>\n",
       "      <td>GDP per capita, PPP (constant 2021 internation...</td>\n",
       "      <td>ZH</td>\n",
       "      <td>Africa Eastern and Southern</td>\n",
       "    </tr>\n",
       "    <tr>\n",
       "      <th>3</th>\n",
       "      <td>AFE</td>\n",
       "      <td>2020</td>\n",
       "      <td>3919.499230</td>\n",
       "      <td></td>\n",
       "      <td></td>\n",
       "      <td>0</td>\n",
       "      <td>NY.GDP.PCAP.PP.KD</td>\n",
       "      <td>GDP per capita, PPP (constant 2021 internation...</td>\n",
       "      <td>ZH</td>\n",
       "      <td>Africa Eastern and Southern</td>\n",
       "    </tr>\n",
       "    <tr>\n",
       "      <th>4</th>\n",
       "      <td>AFE</td>\n",
       "      <td>2019</td>\n",
       "      <td>4130.057222</td>\n",
       "      <td></td>\n",
       "      <td></td>\n",
       "      <td>0</td>\n",
       "      <td>NY.GDP.PCAP.PP.KD</td>\n",
       "      <td>GDP per capita, PPP (constant 2021 internation...</td>\n",
       "      <td>ZH</td>\n",
       "      <td>Africa Eastern and Southern</td>\n",
       "    </tr>\n",
       "    <tr>\n",
       "      <th>...</th>\n",
       "      <td>...</td>\n",
       "      <td>...</td>\n",
       "      <td>...</td>\n",
       "      <td>...</td>\n",
       "      <td>...</td>\n",
       "      <td>...</td>\n",
       "      <td>...</td>\n",
       "      <td>...</td>\n",
       "      <td>...</td>\n",
       "      <td>...</td>\n",
       "    </tr>\n",
       "    <tr>\n",
       "      <th>17019</th>\n",
       "      <td>ZWE</td>\n",
       "      <td>1964</td>\n",
       "      <td>NaN</td>\n",
       "      <td></td>\n",
       "      <td></td>\n",
       "      <td>0</td>\n",
       "      <td>NY.GDP.PCAP.PP.KD</td>\n",
       "      <td>GDP per capita, PPP (constant 2021 internation...</td>\n",
       "      <td>ZW</td>\n",
       "      <td>Zimbabwe</td>\n",
       "    </tr>\n",
       "    <tr>\n",
       "      <th>17020</th>\n",
       "      <td>ZWE</td>\n",
       "      <td>1963</td>\n",
       "      <td>NaN</td>\n",
       "      <td></td>\n",
       "      <td></td>\n",
       "      <td>0</td>\n",
       "      <td>NY.GDP.PCAP.PP.KD</td>\n",
       "      <td>GDP per capita, PPP (constant 2021 internation...</td>\n",
       "      <td>ZW</td>\n",
       "      <td>Zimbabwe</td>\n",
       "    </tr>\n",
       "    <tr>\n",
       "      <th>17021</th>\n",
       "      <td>ZWE</td>\n",
       "      <td>1962</td>\n",
       "      <td>NaN</td>\n",
       "      <td></td>\n",
       "      <td></td>\n",
       "      <td>0</td>\n",
       "      <td>NY.GDP.PCAP.PP.KD</td>\n",
       "      <td>GDP per capita, PPP (constant 2021 internation...</td>\n",
       "      <td>ZW</td>\n",
       "      <td>Zimbabwe</td>\n",
       "    </tr>\n",
       "    <tr>\n",
       "      <th>17022</th>\n",
       "      <td>ZWE</td>\n",
       "      <td>1961</td>\n",
       "      <td>NaN</td>\n",
       "      <td></td>\n",
       "      <td></td>\n",
       "      <td>0</td>\n",
       "      <td>NY.GDP.PCAP.PP.KD</td>\n",
       "      <td>GDP per capita, PPP (constant 2021 internation...</td>\n",
       "      <td>ZW</td>\n",
       "      <td>Zimbabwe</td>\n",
       "    </tr>\n",
       "    <tr>\n",
       "      <th>17023</th>\n",
       "      <td>ZWE</td>\n",
       "      <td>1960</td>\n",
       "      <td>NaN</td>\n",
       "      <td></td>\n",
       "      <td></td>\n",
       "      <td>0</td>\n",
       "      <td>NY.GDP.PCAP.PP.KD</td>\n",
       "      <td>GDP per capita, PPP (constant 2021 internation...</td>\n",
       "      <td>ZW</td>\n",
       "      <td>Zimbabwe</td>\n",
       "    </tr>\n",
       "  </tbody>\n",
       "</table>\n",
       "<p>17024 rows × 10 columns</p>\n",
       "</div>"
      ],
      "text/plain": [
       "      countryiso3code  date        value unit obs_status  decimal  \\\n",
       "0                 AFE  2023  4047.007031                        0   \n",
       "1                 AFE  2022  4038.638689                        0   \n",
       "2                 AFE  2021  3994.171654                        0   \n",
       "3                 AFE  2020  3919.499230                        0   \n",
       "4                 AFE  2019  4130.057222                        0   \n",
       "...               ...   ...          ...  ...        ...      ...   \n",
       "17019             ZWE  1964          NaN                        0   \n",
       "17020             ZWE  1963          NaN                        0   \n",
       "17021             ZWE  1962          NaN                        0   \n",
       "17022             ZWE  1961          NaN                        0   \n",
       "17023             ZWE  1960          NaN                        0   \n",
       "\n",
       "            indicator.id                                    indicator.value  \\\n",
       "0      NY.GDP.PCAP.PP.KD  GDP per capita, PPP (constant 2021 internation...   \n",
       "1      NY.GDP.PCAP.PP.KD  GDP per capita, PPP (constant 2021 internation...   \n",
       "2      NY.GDP.PCAP.PP.KD  GDP per capita, PPP (constant 2021 internation...   \n",
       "3      NY.GDP.PCAP.PP.KD  GDP per capita, PPP (constant 2021 internation...   \n",
       "4      NY.GDP.PCAP.PP.KD  GDP per capita, PPP (constant 2021 internation...   \n",
       "...                  ...                                                ...   \n",
       "17019  NY.GDP.PCAP.PP.KD  GDP per capita, PPP (constant 2021 internation...   \n",
       "17020  NY.GDP.PCAP.PP.KD  GDP per capita, PPP (constant 2021 internation...   \n",
       "17021  NY.GDP.PCAP.PP.KD  GDP per capita, PPP (constant 2021 internation...   \n",
       "17022  NY.GDP.PCAP.PP.KD  GDP per capita, PPP (constant 2021 internation...   \n",
       "17023  NY.GDP.PCAP.PP.KD  GDP per capita, PPP (constant 2021 internation...   \n",
       "\n",
       "      country.id                country.value  \n",
       "0             ZH  Africa Eastern and Southern  \n",
       "1             ZH  Africa Eastern and Southern  \n",
       "2             ZH  Africa Eastern and Southern  \n",
       "3             ZH  Africa Eastern and Southern  \n",
       "4             ZH  Africa Eastern and Southern  \n",
       "...          ...                          ...  \n",
       "17019         ZW                     Zimbabwe  \n",
       "17020         ZW                     Zimbabwe  \n",
       "17021         ZW                     Zimbabwe  \n",
       "17022         ZW                     Zimbabwe  \n",
       "17023         ZW                     Zimbabwe  \n",
       "\n",
       "[17024 rows x 10 columns]"
      ]
     },
     "execution_count": 109,
     "metadata": {},
     "output_type": "execute_result"
    }
   ],
   "source": [
    "df_1"
   ]
  },
  {
   "cell_type": "code",
   "execution_count": 116,
   "metadata": {},
   "outputs": [],
   "source": [
    "ender = 'SP.DYN.LE00.IN'\n",
    "\n",
    "params = {\n",
    "    'format' : 'json',\n",
    "    'per_page' : '20000'\n",
    "}\n",
    "    "
   ]
  },
  {
   "cell_type": "code",
   "execution_count": 117,
   "metadata": {},
   "outputs": [],
   "source": [
    "response = requests.get(endpoint + ender, params = params)"
   ]
  },
  {
   "cell_type": "code",
   "execution_count": 119,
   "metadata": {},
   "outputs": [],
   "source": [
    "df_2 = pd.json_normalize(response.json()[1])"
   ]
  },
  {
   "cell_type": "code",
   "execution_count": 146,
   "metadata": {},
   "outputs": [],
   "source": [
    "all_data = pd.merge(df_1, df_2, on = ['date', 'country.id', 'country.value'])"
   ]
  },
  {
   "cell_type": "code",
   "execution_count": 147,
   "metadata": {
    "scrolled": true
   },
   "outputs": [
    {
     "data": {
      "text/html": [
       "<div>\n",
       "<style scoped>\n",
       "    .dataframe tbody tr th:only-of-type {\n",
       "        vertical-align: middle;\n",
       "    }\n",
       "\n",
       "    .dataframe tbody tr th {\n",
       "        vertical-align: top;\n",
       "    }\n",
       "\n",
       "    .dataframe thead th {\n",
       "        text-align: right;\n",
       "    }\n",
       "</style>\n",
       "<table border=\"1\" class=\"dataframe\">\n",
       "  <thead>\n",
       "    <tr style=\"text-align: right;\">\n",
       "      <th></th>\n",
       "      <th>countryiso3code_x</th>\n",
       "      <th>date</th>\n",
       "      <th>value_x</th>\n",
       "      <th>unit_x</th>\n",
       "      <th>obs_status_x</th>\n",
       "      <th>decimal_x</th>\n",
       "      <th>indicator.id_x</th>\n",
       "      <th>indicator.value_x</th>\n",
       "      <th>country.id</th>\n",
       "      <th>country.value</th>\n",
       "      <th>countryiso3code_y</th>\n",
       "      <th>value_y</th>\n",
       "      <th>unit_y</th>\n",
       "      <th>obs_status_y</th>\n",
       "      <th>decimal_y</th>\n",
       "      <th>indicator.id_y</th>\n",
       "      <th>indicator.value_y</th>\n",
       "    </tr>\n",
       "  </thead>\n",
       "  <tbody>\n",
       "    <tr>\n",
       "      <th>0</th>\n",
       "      <td>AFE</td>\n",
       "      <td>2023</td>\n",
       "      <td>4047.007031</td>\n",
       "      <td></td>\n",
       "      <td></td>\n",
       "      <td>0</td>\n",
       "      <td>NY.GDP.PCAP.PP.KD</td>\n",
       "      <td>GDP per capita, PPP (constant 2021 internation...</td>\n",
       "      <td>ZH</td>\n",
       "      <td>Africa Eastern and Southern</td>\n",
       "      <td>AFE</td>\n",
       "      <td>NaN</td>\n",
       "      <td></td>\n",
       "      <td></td>\n",
       "      <td>0</td>\n",
       "      <td>SP.DYN.LE00.IN</td>\n",
       "      <td>Life expectancy at birth, total (years)</td>\n",
       "    </tr>\n",
       "    <tr>\n",
       "      <th>1</th>\n",
       "      <td>AFE</td>\n",
       "      <td>2022</td>\n",
       "      <td>4038.638689</td>\n",
       "      <td></td>\n",
       "      <td></td>\n",
       "      <td>0</td>\n",
       "      <td>NY.GDP.PCAP.PP.KD</td>\n",
       "      <td>GDP per capita, PPP (constant 2021 internation...</td>\n",
       "      <td>ZH</td>\n",
       "      <td>Africa Eastern and Southern</td>\n",
       "      <td>AFE</td>\n",
       "      <td>62.899031</td>\n",
       "      <td></td>\n",
       "      <td></td>\n",
       "      <td>0</td>\n",
       "      <td>SP.DYN.LE00.IN</td>\n",
       "      <td>Life expectancy at birth, total (years)</td>\n",
       "    </tr>\n",
       "    <tr>\n",
       "      <th>2</th>\n",
       "      <td>AFE</td>\n",
       "      <td>2021</td>\n",
       "      <td>3994.171654</td>\n",
       "      <td></td>\n",
       "      <td></td>\n",
       "      <td>0</td>\n",
       "      <td>NY.GDP.PCAP.PP.KD</td>\n",
       "      <td>GDP per capita, PPP (constant 2021 internation...</td>\n",
       "      <td>ZH</td>\n",
       "      <td>Africa Eastern and Southern</td>\n",
       "      <td>AFE</td>\n",
       "      <td>62.454590</td>\n",
       "      <td></td>\n",
       "      <td></td>\n",
       "      <td>0</td>\n",
       "      <td>SP.DYN.LE00.IN</td>\n",
       "      <td>Life expectancy at birth, total (years)</td>\n",
       "    </tr>\n",
       "    <tr>\n",
       "      <th>3</th>\n",
       "      <td>AFE</td>\n",
       "      <td>2020</td>\n",
       "      <td>3919.499230</td>\n",
       "      <td></td>\n",
       "      <td></td>\n",
       "      <td>0</td>\n",
       "      <td>NY.GDP.PCAP.PP.KD</td>\n",
       "      <td>GDP per capita, PPP (constant 2021 internation...</td>\n",
       "      <td>ZH</td>\n",
       "      <td>Africa Eastern and Southern</td>\n",
       "      <td>AFE</td>\n",
       "      <td>63.313860</td>\n",
       "      <td></td>\n",
       "      <td></td>\n",
       "      <td>0</td>\n",
       "      <td>SP.DYN.LE00.IN</td>\n",
       "      <td>Life expectancy at birth, total (years)</td>\n",
       "    </tr>\n",
       "    <tr>\n",
       "      <th>4</th>\n",
       "      <td>AFE</td>\n",
       "      <td>2019</td>\n",
       "      <td>4130.057222</td>\n",
       "      <td></td>\n",
       "      <td></td>\n",
       "      <td>0</td>\n",
       "      <td>NY.GDP.PCAP.PP.KD</td>\n",
       "      <td>GDP per capita, PPP (constant 2021 internation...</td>\n",
       "      <td>ZH</td>\n",
       "      <td>Africa Eastern and Southern</td>\n",
       "      <td>AFE</td>\n",
       "      <td>63.755678</td>\n",
       "      <td></td>\n",
       "      <td></td>\n",
       "      <td>0</td>\n",
       "      <td>SP.DYN.LE00.IN</td>\n",
       "      <td>Life expectancy at birth, total (years)</td>\n",
       "    </tr>\n",
       "    <tr>\n",
       "      <th>...</th>\n",
       "      <td>...</td>\n",
       "      <td>...</td>\n",
       "      <td>...</td>\n",
       "      <td>...</td>\n",
       "      <td>...</td>\n",
       "      <td>...</td>\n",
       "      <td>...</td>\n",
       "      <td>...</td>\n",
       "      <td>...</td>\n",
       "      <td>...</td>\n",
       "      <td>...</td>\n",
       "      <td>...</td>\n",
       "      <td>...</td>\n",
       "      <td>...</td>\n",
       "      <td>...</td>\n",
       "      <td>...</td>\n",
       "      <td>...</td>\n",
       "    </tr>\n",
       "    <tr>\n",
       "      <th>17019</th>\n",
       "      <td>ZWE</td>\n",
       "      <td>1964</td>\n",
       "      <td>NaN</td>\n",
       "      <td></td>\n",
       "      <td></td>\n",
       "      <td>0</td>\n",
       "      <td>NY.GDP.PCAP.PP.KD</td>\n",
       "      <td>GDP per capita, PPP (constant 2021 internation...</td>\n",
       "      <td>ZW</td>\n",
       "      <td>Zimbabwe</td>\n",
       "      <td>ZWE</td>\n",
       "      <td>54.994000</td>\n",
       "      <td></td>\n",
       "      <td></td>\n",
       "      <td>0</td>\n",
       "      <td>SP.DYN.LE00.IN</td>\n",
       "      <td>Life expectancy at birth, total (years)</td>\n",
       "    </tr>\n",
       "    <tr>\n",
       "      <th>17020</th>\n",
       "      <td>ZWE</td>\n",
       "      <td>1963</td>\n",
       "      <td>NaN</td>\n",
       "      <td></td>\n",
       "      <td></td>\n",
       "      <td>0</td>\n",
       "      <td>NY.GDP.PCAP.PP.KD</td>\n",
       "      <td>GDP per capita, PPP (constant 2021 internation...</td>\n",
       "      <td>ZW</td>\n",
       "      <td>Zimbabwe</td>\n",
       "      <td>ZWE</td>\n",
       "      <td>54.549000</td>\n",
       "      <td></td>\n",
       "      <td></td>\n",
       "      <td>0</td>\n",
       "      <td>SP.DYN.LE00.IN</td>\n",
       "      <td>Life expectancy at birth, total (years)</td>\n",
       "    </tr>\n",
       "    <tr>\n",
       "      <th>17021</th>\n",
       "      <td>ZWE</td>\n",
       "      <td>1962</td>\n",
       "      <td>NaN</td>\n",
       "      <td></td>\n",
       "      <td></td>\n",
       "      <td>0</td>\n",
       "      <td>NY.GDP.PCAP.PP.KD</td>\n",
       "      <td>GDP per capita, PPP (constant 2021 internation...</td>\n",
       "      <td>ZW</td>\n",
       "      <td>Zimbabwe</td>\n",
       "      <td>ZWE</td>\n",
       "      <td>54.071000</td>\n",
       "      <td></td>\n",
       "      <td></td>\n",
       "      <td>0</td>\n",
       "      <td>SP.DYN.LE00.IN</td>\n",
       "      <td>Life expectancy at birth, total (years)</td>\n",
       "    </tr>\n",
       "    <tr>\n",
       "      <th>17022</th>\n",
       "      <td>ZWE</td>\n",
       "      <td>1961</td>\n",
       "      <td>NaN</td>\n",
       "      <td></td>\n",
       "      <td></td>\n",
       "      <td>0</td>\n",
       "      <td>NY.GDP.PCAP.PP.KD</td>\n",
       "      <td>GDP per capita, PPP (constant 2021 internation...</td>\n",
       "      <td>ZW</td>\n",
       "      <td>Zimbabwe</td>\n",
       "      <td>ZWE</td>\n",
       "      <td>53.619000</td>\n",
       "      <td></td>\n",
       "      <td></td>\n",
       "      <td>0</td>\n",
       "      <td>SP.DYN.LE00.IN</td>\n",
       "      <td>Life expectancy at birth, total (years)</td>\n",
       "    </tr>\n",
       "    <tr>\n",
       "      <th>17023</th>\n",
       "      <td>ZWE</td>\n",
       "      <td>1960</td>\n",
       "      <td>NaN</td>\n",
       "      <td></td>\n",
       "      <td></td>\n",
       "      <td>0</td>\n",
       "      <td>NY.GDP.PCAP.PP.KD</td>\n",
       "      <td>GDP per capita, PPP (constant 2021 internation...</td>\n",
       "      <td>ZW</td>\n",
       "      <td>Zimbabwe</td>\n",
       "      <td>ZWE</td>\n",
       "      <td>53.235000</td>\n",
       "      <td></td>\n",
       "      <td></td>\n",
       "      <td>0</td>\n",
       "      <td>SP.DYN.LE00.IN</td>\n",
       "      <td>Life expectancy at birth, total (years)</td>\n",
       "    </tr>\n",
       "  </tbody>\n",
       "</table>\n",
       "<p>17024 rows × 17 columns</p>\n",
       "</div>"
      ],
      "text/plain": [
       "      countryiso3code_x  date      value_x unit_x obs_status_x  decimal_x  \\\n",
       "0                   AFE  2023  4047.007031                              0   \n",
       "1                   AFE  2022  4038.638689                              0   \n",
       "2                   AFE  2021  3994.171654                              0   \n",
       "3                   AFE  2020  3919.499230                              0   \n",
       "4                   AFE  2019  4130.057222                              0   \n",
       "...                 ...   ...          ...    ...          ...        ...   \n",
       "17019               ZWE  1964          NaN                              0   \n",
       "17020               ZWE  1963          NaN                              0   \n",
       "17021               ZWE  1962          NaN                              0   \n",
       "17022               ZWE  1961          NaN                              0   \n",
       "17023               ZWE  1960          NaN                              0   \n",
       "\n",
       "          indicator.id_x                                  indicator.value_x  \\\n",
       "0      NY.GDP.PCAP.PP.KD  GDP per capita, PPP (constant 2021 internation...   \n",
       "1      NY.GDP.PCAP.PP.KD  GDP per capita, PPP (constant 2021 internation...   \n",
       "2      NY.GDP.PCAP.PP.KD  GDP per capita, PPP (constant 2021 internation...   \n",
       "3      NY.GDP.PCAP.PP.KD  GDP per capita, PPP (constant 2021 internation...   \n",
       "4      NY.GDP.PCAP.PP.KD  GDP per capita, PPP (constant 2021 internation...   \n",
       "...                  ...                                                ...   \n",
       "17019  NY.GDP.PCAP.PP.KD  GDP per capita, PPP (constant 2021 internation...   \n",
       "17020  NY.GDP.PCAP.PP.KD  GDP per capita, PPP (constant 2021 internation...   \n",
       "17021  NY.GDP.PCAP.PP.KD  GDP per capita, PPP (constant 2021 internation...   \n",
       "17022  NY.GDP.PCAP.PP.KD  GDP per capita, PPP (constant 2021 internation...   \n",
       "17023  NY.GDP.PCAP.PP.KD  GDP per capita, PPP (constant 2021 internation...   \n",
       "\n",
       "      country.id                country.value countryiso3code_y    value_y  \\\n",
       "0             ZH  Africa Eastern and Southern               AFE        NaN   \n",
       "1             ZH  Africa Eastern and Southern               AFE  62.899031   \n",
       "2             ZH  Africa Eastern and Southern               AFE  62.454590   \n",
       "3             ZH  Africa Eastern and Southern               AFE  63.313860   \n",
       "4             ZH  Africa Eastern and Southern               AFE  63.755678   \n",
       "...          ...                          ...               ...        ...   \n",
       "17019         ZW                     Zimbabwe               ZWE  54.994000   \n",
       "17020         ZW                     Zimbabwe               ZWE  54.549000   \n",
       "17021         ZW                     Zimbabwe               ZWE  54.071000   \n",
       "17022         ZW                     Zimbabwe               ZWE  53.619000   \n",
       "17023         ZW                     Zimbabwe               ZWE  53.235000   \n",
       "\n",
       "      unit_y obs_status_y  decimal_y  indicator.id_y  \\\n",
       "0                                  0  SP.DYN.LE00.IN   \n",
       "1                                  0  SP.DYN.LE00.IN   \n",
       "2                                  0  SP.DYN.LE00.IN   \n",
       "3                                  0  SP.DYN.LE00.IN   \n",
       "4                                  0  SP.DYN.LE00.IN   \n",
       "...      ...          ...        ...             ...   \n",
       "17019                              0  SP.DYN.LE00.IN   \n",
       "17020                              0  SP.DYN.LE00.IN   \n",
       "17021                              0  SP.DYN.LE00.IN   \n",
       "17022                              0  SP.DYN.LE00.IN   \n",
       "17023                              0  SP.DYN.LE00.IN   \n",
       "\n",
       "                             indicator.value_y  \n",
       "0      Life expectancy at birth, total (years)  \n",
       "1      Life expectancy at birth, total (years)  \n",
       "2      Life expectancy at birth, total (years)  \n",
       "3      Life expectancy at birth, total (years)  \n",
       "4      Life expectancy at birth, total (years)  \n",
       "...                                        ...  \n",
       "17019  Life expectancy at birth, total (years)  \n",
       "17020  Life expectancy at birth, total (years)  \n",
       "17021  Life expectancy at birth, total (years)  \n",
       "17022  Life expectancy at birth, total (years)  \n",
       "17023  Life expectancy at birth, total (years)  \n",
       "\n",
       "[17024 rows x 17 columns]"
      ]
     },
     "execution_count": 147,
     "metadata": {},
     "output_type": "execute_result"
    }
   ],
   "source": [
    "all_data"
   ]
  },
  {
   "cell_type": "code",
   "execution_count": null,
   "metadata": {},
   "outputs": [],
   "source": []
  },
  {
   "cell_type": "code",
   "execution_count": 122,
   "metadata": {},
   "outputs": [],
   "source": [
    "endpoint ='http://api.worldbank.org/v2/country'"
   ]
  },
  {
   "cell_type": "code",
   "execution_count": 135,
   "metadata": {},
   "outputs": [],
   "source": [
    "params = {\n",
    "    'format' : 'json',\n",
    "    'per_page' : '500'\n",
    "}"
   ]
  },
  {
   "cell_type": "code",
   "execution_count": 136,
   "metadata": {},
   "outputs": [],
   "source": [
    "response = requests.get(endpoint, params = params)"
   ]
  },
  {
   "cell_type": "code",
   "execution_count": 137,
   "metadata": {},
   "outputs": [],
   "source": [
    "df_3 = pd.json_normalize(response.json()[1])"
   ]
  },
  {
   "cell_type": "code",
   "execution_count": 142,
   "metadata": {},
   "outputs": [],
   "source": [
    "df_3 = df_3.loc[df_3['region.id'] != 'NA']"
   ]
  },
  {
   "cell_type": "code",
   "execution_count": 143,
   "metadata": {},
   "outputs": [
    {
     "data": {
      "text/html": [
       "<div>\n",
       "<style scoped>\n",
       "    .dataframe tbody tr th:only-of-type {\n",
       "        vertical-align: middle;\n",
       "    }\n",
       "\n",
       "    .dataframe tbody tr th {\n",
       "        vertical-align: top;\n",
       "    }\n",
       "\n",
       "    .dataframe thead th {\n",
       "        text-align: right;\n",
       "    }\n",
       "</style>\n",
       "<table border=\"1\" class=\"dataframe\">\n",
       "  <thead>\n",
       "    <tr style=\"text-align: right;\">\n",
       "      <th></th>\n",
       "      <th>id</th>\n",
       "      <th>iso2Code</th>\n",
       "      <th>name</th>\n",
       "      <th>capitalCity</th>\n",
       "      <th>longitude</th>\n",
       "      <th>latitude</th>\n",
       "      <th>region.id</th>\n",
       "      <th>region.iso2code</th>\n",
       "      <th>region.value</th>\n",
       "      <th>adminregion.id</th>\n",
       "      <th>adminregion.iso2code</th>\n",
       "      <th>adminregion.value</th>\n",
       "      <th>incomeLevel.id</th>\n",
       "      <th>incomeLevel.iso2code</th>\n",
       "      <th>incomeLevel.value</th>\n",
       "      <th>lendingType.id</th>\n",
       "      <th>lendingType.iso2code</th>\n",
       "      <th>lendingType.value</th>\n",
       "    </tr>\n",
       "  </thead>\n",
       "  <tbody>\n",
       "    <tr>\n",
       "      <th>0</th>\n",
       "      <td>ABW</td>\n",
       "      <td>AW</td>\n",
       "      <td>Aruba</td>\n",
       "      <td>Oranjestad</td>\n",
       "      <td>-70.0167</td>\n",
       "      <td>12.5167</td>\n",
       "      <td>LCN</td>\n",
       "      <td>ZJ</td>\n",
       "      <td>Latin America &amp; Caribbean</td>\n",
       "      <td></td>\n",
       "      <td></td>\n",
       "      <td></td>\n",
       "      <td>HIC</td>\n",
       "      <td>XD</td>\n",
       "      <td>High income</td>\n",
       "      <td>LNX</td>\n",
       "      <td>XX</td>\n",
       "      <td>Not classified</td>\n",
       "    </tr>\n",
       "    <tr>\n",
       "      <th>2</th>\n",
       "      <td>AFG</td>\n",
       "      <td>AF</td>\n",
       "      <td>Afghanistan</td>\n",
       "      <td>Kabul</td>\n",
       "      <td>69.1761</td>\n",
       "      <td>34.5228</td>\n",
       "      <td>SAS</td>\n",
       "      <td>8S</td>\n",
       "      <td>South Asia</td>\n",
       "      <td>SAS</td>\n",
       "      <td>8S</td>\n",
       "      <td>South Asia</td>\n",
       "      <td>LIC</td>\n",
       "      <td>XM</td>\n",
       "      <td>Low income</td>\n",
       "      <td>IDX</td>\n",
       "      <td>XI</td>\n",
       "      <td>IDA</td>\n",
       "    </tr>\n",
       "    <tr>\n",
       "      <th>5</th>\n",
       "      <td>AGO</td>\n",
       "      <td>AO</td>\n",
       "      <td>Angola</td>\n",
       "      <td>Luanda</td>\n",
       "      <td>13.242</td>\n",
       "      <td>-8.81155</td>\n",
       "      <td>SSF</td>\n",
       "      <td>ZG</td>\n",
       "      <td>Sub-Saharan Africa</td>\n",
       "      <td>SSA</td>\n",
       "      <td>ZF</td>\n",
       "      <td>Sub-Saharan Africa (excluding high income)</td>\n",
       "      <td>LMC</td>\n",
       "      <td>XN</td>\n",
       "      <td>Lower middle income</td>\n",
       "      <td>IBD</td>\n",
       "      <td>XF</td>\n",
       "      <td>IBRD</td>\n",
       "    </tr>\n",
       "    <tr>\n",
       "      <th>6</th>\n",
       "      <td>ALB</td>\n",
       "      <td>AL</td>\n",
       "      <td>Albania</td>\n",
       "      <td>Tirane</td>\n",
       "      <td>19.8172</td>\n",
       "      <td>41.3317</td>\n",
       "      <td>ECS</td>\n",
       "      <td>Z7</td>\n",
       "      <td>Europe &amp; Central Asia</td>\n",
       "      <td>ECA</td>\n",
       "      <td>7E</td>\n",
       "      <td>Europe &amp; Central Asia (excluding high income)</td>\n",
       "      <td>UMC</td>\n",
       "      <td>XT</td>\n",
       "      <td>Upper middle income</td>\n",
       "      <td>IBD</td>\n",
       "      <td>XF</td>\n",
       "      <td>IBRD</td>\n",
       "    </tr>\n",
       "    <tr>\n",
       "      <th>7</th>\n",
       "      <td>AND</td>\n",
       "      <td>AD</td>\n",
       "      <td>Andorra</td>\n",
       "      <td>Andorra la Vella</td>\n",
       "      <td>1.5218</td>\n",
       "      <td>42.5075</td>\n",
       "      <td>ECS</td>\n",
       "      <td>Z7</td>\n",
       "      <td>Europe &amp; Central Asia</td>\n",
       "      <td></td>\n",
       "      <td></td>\n",
       "      <td></td>\n",
       "      <td>HIC</td>\n",
       "      <td>XD</td>\n",
       "      <td>High income</td>\n",
       "      <td>LNX</td>\n",
       "      <td>XX</td>\n",
       "      <td>Not classified</td>\n",
       "    </tr>\n",
       "    <tr>\n",
       "      <th>...</th>\n",
       "      <td>...</td>\n",
       "      <td>...</td>\n",
       "      <td>...</td>\n",
       "      <td>...</td>\n",
       "      <td>...</td>\n",
       "      <td>...</td>\n",
       "      <td>...</td>\n",
       "      <td>...</td>\n",
       "      <td>...</td>\n",
       "      <td>...</td>\n",
       "      <td>...</td>\n",
       "      <td>...</td>\n",
       "      <td>...</td>\n",
       "      <td>...</td>\n",
       "      <td>...</td>\n",
       "      <td>...</td>\n",
       "      <td>...</td>\n",
       "      <td>...</td>\n",
       "    </tr>\n",
       "    <tr>\n",
       "      <th>290</th>\n",
       "      <td>XKX</td>\n",
       "      <td>XK</td>\n",
       "      <td>Kosovo</td>\n",
       "      <td>Pristina</td>\n",
       "      <td>20.926</td>\n",
       "      <td>42.565</td>\n",
       "      <td>ECS</td>\n",
       "      <td>Z7</td>\n",
       "      <td>Europe &amp; Central Asia</td>\n",
       "      <td>ECA</td>\n",
       "      <td>7E</td>\n",
       "      <td>Europe &amp; Central Asia (excluding high income)</td>\n",
       "      <td>UMC</td>\n",
       "      <td>XT</td>\n",
       "      <td>Upper middle income</td>\n",
       "      <td>IDX</td>\n",
       "      <td>XI</td>\n",
       "      <td>IDA</td>\n",
       "    </tr>\n",
       "    <tr>\n",
       "      <th>292</th>\n",
       "      <td>YEM</td>\n",
       "      <td>YE</td>\n",
       "      <td>Yemen, Rep.</td>\n",
       "      <td>Sana'a</td>\n",
       "      <td>44.2075</td>\n",
       "      <td>15.352</td>\n",
       "      <td>MEA</td>\n",
       "      <td>ZQ</td>\n",
       "      <td>Middle East &amp; North Africa</td>\n",
       "      <td>MNA</td>\n",
       "      <td>XQ</td>\n",
       "      <td>Middle East &amp; North Africa (excluding high inc...</td>\n",
       "      <td>LIC</td>\n",
       "      <td>XM</td>\n",
       "      <td>Low income</td>\n",
       "      <td>IDX</td>\n",
       "      <td>XI</td>\n",
       "      <td>IDA</td>\n",
       "    </tr>\n",
       "    <tr>\n",
       "      <th>293</th>\n",
       "      <td>ZAF</td>\n",
       "      <td>ZA</td>\n",
       "      <td>South Africa</td>\n",
       "      <td>Pretoria</td>\n",
       "      <td>28.1871</td>\n",
       "      <td>-25.746</td>\n",
       "      <td>SSF</td>\n",
       "      <td>ZG</td>\n",
       "      <td>Sub-Saharan Africa</td>\n",
       "      <td>SSA</td>\n",
       "      <td>ZF</td>\n",
       "      <td>Sub-Saharan Africa (excluding high income)</td>\n",
       "      <td>UMC</td>\n",
       "      <td>XT</td>\n",
       "      <td>Upper middle income</td>\n",
       "      <td>IBD</td>\n",
       "      <td>XF</td>\n",
       "      <td>IBRD</td>\n",
       "    </tr>\n",
       "    <tr>\n",
       "      <th>294</th>\n",
       "      <td>ZMB</td>\n",
       "      <td>ZM</td>\n",
       "      <td>Zambia</td>\n",
       "      <td>Lusaka</td>\n",
       "      <td>28.2937</td>\n",
       "      <td>-15.3982</td>\n",
       "      <td>SSF</td>\n",
       "      <td>ZG</td>\n",
       "      <td>Sub-Saharan Africa</td>\n",
       "      <td>SSA</td>\n",
       "      <td>ZF</td>\n",
       "      <td>Sub-Saharan Africa (excluding high income)</td>\n",
       "      <td>LMC</td>\n",
       "      <td>XN</td>\n",
       "      <td>Lower middle income</td>\n",
       "      <td>IDX</td>\n",
       "      <td>XI</td>\n",
       "      <td>IDA</td>\n",
       "    </tr>\n",
       "    <tr>\n",
       "      <th>295</th>\n",
       "      <td>ZWE</td>\n",
       "      <td>ZW</td>\n",
       "      <td>Zimbabwe</td>\n",
       "      <td>Harare</td>\n",
       "      <td>31.0672</td>\n",
       "      <td>-17.8312</td>\n",
       "      <td>SSF</td>\n",
       "      <td>ZG</td>\n",
       "      <td>Sub-Saharan Africa</td>\n",
       "      <td>SSA</td>\n",
       "      <td>ZF</td>\n",
       "      <td>Sub-Saharan Africa (excluding high income)</td>\n",
       "      <td>LMC</td>\n",
       "      <td>XN</td>\n",
       "      <td>Lower middle income</td>\n",
       "      <td>IDB</td>\n",
       "      <td>XH</td>\n",
       "      <td>Blend</td>\n",
       "    </tr>\n",
       "  </tbody>\n",
       "</table>\n",
       "<p>217 rows × 18 columns</p>\n",
       "</div>"
      ],
      "text/plain": [
       "      id iso2Code          name       capitalCity longitude  latitude  \\\n",
       "0    ABW       AW         Aruba        Oranjestad  -70.0167   12.5167   \n",
       "2    AFG       AF   Afghanistan             Kabul   69.1761   34.5228   \n",
       "5    AGO       AO        Angola            Luanda    13.242  -8.81155   \n",
       "6    ALB       AL       Albania            Tirane   19.8172   41.3317   \n",
       "7    AND       AD       Andorra  Andorra la Vella    1.5218   42.5075   \n",
       "..   ...      ...           ...               ...       ...       ...   \n",
       "290  XKX       XK        Kosovo          Pristina    20.926    42.565   \n",
       "292  YEM       YE   Yemen, Rep.            Sana'a   44.2075    15.352   \n",
       "293  ZAF       ZA  South Africa          Pretoria   28.1871   -25.746   \n",
       "294  ZMB       ZM        Zambia            Lusaka   28.2937  -15.3982   \n",
       "295  ZWE       ZW      Zimbabwe            Harare   31.0672  -17.8312   \n",
       "\n",
       "    region.id region.iso2code                region.value adminregion.id  \\\n",
       "0         LCN              ZJ  Latin America & Caribbean                   \n",
       "2         SAS              8S                  South Asia            SAS   \n",
       "5         SSF              ZG         Sub-Saharan Africa             SSA   \n",
       "6         ECS              Z7       Europe & Central Asia            ECA   \n",
       "7         ECS              Z7       Europe & Central Asia                  \n",
       "..        ...             ...                         ...            ...   \n",
       "290       ECS              Z7       Europe & Central Asia            ECA   \n",
       "292       MEA              ZQ  Middle East & North Africa            MNA   \n",
       "293       SSF              ZG         Sub-Saharan Africa             SSA   \n",
       "294       SSF              ZG         Sub-Saharan Africa             SSA   \n",
       "295       SSF              ZG         Sub-Saharan Africa             SSA   \n",
       "\n",
       "    adminregion.iso2code                                  adminregion.value  \\\n",
       "0                                                                             \n",
       "2                     8S                                         South Asia   \n",
       "5                     ZF         Sub-Saharan Africa (excluding high income)   \n",
       "6                     7E      Europe & Central Asia (excluding high income)   \n",
       "7                                                                             \n",
       "..                   ...                                                ...   \n",
       "290                   7E      Europe & Central Asia (excluding high income)   \n",
       "292                   XQ  Middle East & North Africa (excluding high inc...   \n",
       "293                   ZF         Sub-Saharan Africa (excluding high income)   \n",
       "294                   ZF         Sub-Saharan Africa (excluding high income)   \n",
       "295                   ZF         Sub-Saharan Africa (excluding high income)   \n",
       "\n",
       "    incomeLevel.id incomeLevel.iso2code    incomeLevel.value lendingType.id  \\\n",
       "0              HIC                   XD          High income            LNX   \n",
       "2              LIC                   XM           Low income            IDX   \n",
       "5              LMC                   XN  Lower middle income            IBD   \n",
       "6              UMC                   XT  Upper middle income            IBD   \n",
       "7              HIC                   XD          High income            LNX   \n",
       "..             ...                  ...                  ...            ...   \n",
       "290            UMC                   XT  Upper middle income            IDX   \n",
       "292            LIC                   XM           Low income            IDX   \n",
       "293            UMC                   XT  Upper middle income            IBD   \n",
       "294            LMC                   XN  Lower middle income            IDX   \n",
       "295            LMC                   XN  Lower middle income            IDB   \n",
       "\n",
       "    lendingType.iso2code lendingType.value  \n",
       "0                     XX    Not classified  \n",
       "2                     XI               IDA  \n",
       "5                     XF              IBRD  \n",
       "6                     XF              IBRD  \n",
       "7                     XX    Not classified  \n",
       "..                   ...               ...  \n",
       "290                   XI               IDA  \n",
       "292                   XI               IDA  \n",
       "293                   XF              IBRD  \n",
       "294                   XI               IDA  \n",
       "295                   XH             Blend  \n",
       "\n",
       "[217 rows x 18 columns]"
      ]
     },
     "execution_count": 143,
     "metadata": {},
     "output_type": "execute_result"
    }
   ],
   "source": [
    "df_3"
   ]
  },
  {
   "cell_type": "code",
   "execution_count": 150,
   "metadata": {},
   "outputs": [],
   "source": [
    "new_df = pd.merge(all_data, df_3, left_on = 'country.value', right_on = 'name', how = 'inner')"
   ]
  },
  {
   "cell_type": "code",
   "execution_count": 151,
   "metadata": {},
   "outputs": [
    {
     "data": {
      "text/plain": [
       "country.value\n",
       "Afghanistan      64\n",
       "Pakistan         64\n",
       "Nepal            64\n",
       "Netherlands      64\n",
       "New Caledonia    64\n",
       "                 ..\n",
       "Greece           64\n",
       "Greenland        64\n",
       "Grenada          64\n",
       "Guam             64\n",
       "Zimbabwe         64\n",
       "Name: count, Length: 217, dtype: int64"
      ]
     },
     "execution_count": 151,
     "metadata": {},
     "output_type": "execute_result"
    }
   ],
   "source": [
    "new_df['country.value'].value_counts()"
   ]
  },
  {
   "cell_type": "code",
   "execution_count": 156,
   "metadata": {},
   "outputs": [
    {
     "data": {
      "text/plain": [
       "Index(['countryiso3code_x', 'date', 'value_x', 'unit_x', 'obs_status_x',\n",
       "       'decimal_x', 'indicator.id_x', 'indicator.value_x', 'country.id',\n",
       "       'country.value', 'countryiso3code_y', 'value_y', 'unit_y',\n",
       "       'obs_status_y', 'decimal_y', 'indicator.id_y', 'indicator.value_y',\n",
       "       'id', 'iso2Code', 'name', 'capitalCity', 'longitude', 'latitude',\n",
       "       'region.id', 'region.iso2code', 'region.value', 'adminregion.id',\n",
       "       'adminregion.iso2code', 'adminregion.value', 'incomeLevel.id',\n",
       "       'incomeLevel.iso2code', 'incomeLevel.value', 'lendingType.id',\n",
       "       'lendingType.iso2code', 'lendingType.value'],\n",
       "      dtype='object')"
      ]
     },
     "execution_count": 156,
     "metadata": {},
     "output_type": "execute_result"
    }
   ],
   "source": [
    "new_df.columns"
   ]
  },
  {
   "cell_type": "code",
   "execution_count": 157,
   "metadata": {},
   "outputs": [
    {
     "data": {
      "text/plain": [
       "Index(['id', 'iso2Code', 'name', 'capitalCity', 'longitude', 'latitude',\n",
       "       'region.id', 'region.iso2code', 'region.value', 'adminregion.id',\n",
       "       'adminregion.iso2code', 'adminregion.value', 'incomeLevel.id',\n",
       "       'incomeLevel.iso2code', 'incomeLevel.value', 'lendingType.id',\n",
       "       'lendingType.iso2code', 'lendingType.value'],\n",
       "      dtype='object')"
      ]
     },
     "execution_count": 157,
     "metadata": {},
     "output_type": "execute_result"
    }
   ],
   "source": [
    "df_3.columns"
   ]
  },
  {
   "cell_type": "code",
   "execution_count": 158,
   "metadata": {},
   "outputs": [
    {
     "data": {
      "text/html": [
       "<div>\n",
       "<style scoped>\n",
       "    .dataframe tbody tr th:only-of-type {\n",
       "        vertical-align: middle;\n",
       "    }\n",
       "\n",
       "    .dataframe tbody tr th {\n",
       "        vertical-align: top;\n",
       "    }\n",
       "\n",
       "    .dataframe thead th {\n",
       "        text-align: right;\n",
       "    }\n",
       "</style>\n",
       "<table border=\"1\" class=\"dataframe\">\n",
       "  <thead>\n",
       "    <tr style=\"text-align: right;\">\n",
       "      <th></th>\n",
       "      <th>countryiso3code_x</th>\n",
       "      <th>date</th>\n",
       "      <th>value_x</th>\n",
       "      <th>unit_x</th>\n",
       "      <th>obs_status_x</th>\n",
       "      <th>decimal_x</th>\n",
       "      <th>indicator.id_x</th>\n",
       "      <th>indicator.value_x</th>\n",
       "      <th>country.id</th>\n",
       "      <th>country.value</th>\n",
       "      <th>...</th>\n",
       "      <th>region.value_y</th>\n",
       "      <th>adminregion.id_y</th>\n",
       "      <th>adminregion.iso2code_y</th>\n",
       "      <th>adminregion.value_y</th>\n",
       "      <th>incomeLevel.id_y</th>\n",
       "      <th>incomeLevel.iso2code_y</th>\n",
       "      <th>incomeLevel.value_y</th>\n",
       "      <th>lendingType.id_y</th>\n",
       "      <th>lendingType.iso2code_y</th>\n",
       "      <th>lendingType.value_y</th>\n",
       "    </tr>\n",
       "  </thead>\n",
       "  <tbody>\n",
       "    <tr>\n",
       "      <th>0</th>\n",
       "      <td>AFG</td>\n",
       "      <td>2023</td>\n",
       "      <td>NaN</td>\n",
       "      <td></td>\n",
       "      <td></td>\n",
       "      <td>0</td>\n",
       "      <td>NY.GDP.PCAP.PP.KD</td>\n",
       "      <td>GDP per capita, PPP (constant 2021 internation...</td>\n",
       "      <td>AF</td>\n",
       "      <td>Afghanistan</td>\n",
       "      <td>...</td>\n",
       "      <td>South Asia</td>\n",
       "      <td>SAS</td>\n",
       "      <td>8S</td>\n",
       "      <td>South Asia</td>\n",
       "      <td>LIC</td>\n",
       "      <td>XM</td>\n",
       "      <td>Low income</td>\n",
       "      <td>IDX</td>\n",
       "      <td>XI</td>\n",
       "      <td>IDA</td>\n",
       "    </tr>\n",
       "    <tr>\n",
       "      <th>1</th>\n",
       "      <td>AFG</td>\n",
       "      <td>2022</td>\n",
       "      <td>1955.212904</td>\n",
       "      <td></td>\n",
       "      <td></td>\n",
       "      <td>0</td>\n",
       "      <td>NY.GDP.PCAP.PP.KD</td>\n",
       "      <td>GDP per capita, PPP (constant 2021 internation...</td>\n",
       "      <td>AF</td>\n",
       "      <td>Afghanistan</td>\n",
       "      <td>...</td>\n",
       "      <td>South Asia</td>\n",
       "      <td>SAS</td>\n",
       "      <td>8S</td>\n",
       "      <td>South Asia</td>\n",
       "      <td>LIC</td>\n",
       "      <td>XM</td>\n",
       "      <td>Low income</td>\n",
       "      <td>IDX</td>\n",
       "      <td>XI</td>\n",
       "      <td>IDA</td>\n",
       "    </tr>\n",
       "    <tr>\n",
       "      <th>2</th>\n",
       "      <td>AFG</td>\n",
       "      <td>2021</td>\n",
       "      <td>2138.870247</td>\n",
       "      <td></td>\n",
       "      <td></td>\n",
       "      <td>0</td>\n",
       "      <td>NY.GDP.PCAP.PP.KD</td>\n",
       "      <td>GDP per capita, PPP (constant 2021 internation...</td>\n",
       "      <td>AF</td>\n",
       "      <td>Afghanistan</td>\n",
       "      <td>...</td>\n",
       "      <td>South Asia</td>\n",
       "      <td>SAS</td>\n",
       "      <td>8S</td>\n",
       "      <td>South Asia</td>\n",
       "      <td>LIC</td>\n",
       "      <td>XM</td>\n",
       "      <td>Low income</td>\n",
       "      <td>IDX</td>\n",
       "      <td>XI</td>\n",
       "      <td>IDA</td>\n",
       "    </tr>\n",
       "    <tr>\n",
       "      <th>3</th>\n",
       "      <td>AFG</td>\n",
       "      <td>2020</td>\n",
       "      <td>2776.561521</td>\n",
       "      <td></td>\n",
       "      <td></td>\n",
       "      <td>0</td>\n",
       "      <td>NY.GDP.PCAP.PP.KD</td>\n",
       "      <td>GDP per capita, PPP (constant 2021 internation...</td>\n",
       "      <td>AF</td>\n",
       "      <td>Afghanistan</td>\n",
       "      <td>...</td>\n",
       "      <td>South Asia</td>\n",
       "      <td>SAS</td>\n",
       "      <td>8S</td>\n",
       "      <td>South Asia</td>\n",
       "      <td>LIC</td>\n",
       "      <td>XM</td>\n",
       "      <td>Low income</td>\n",
       "      <td>IDX</td>\n",
       "      <td>XI</td>\n",
       "      <td>IDA</td>\n",
       "    </tr>\n",
       "    <tr>\n",
       "      <th>4</th>\n",
       "      <td>AFG</td>\n",
       "      <td>2019</td>\n",
       "      <td>2933.958598</td>\n",
       "      <td></td>\n",
       "      <td></td>\n",
       "      <td>0</td>\n",
       "      <td>NY.GDP.PCAP.PP.KD</td>\n",
       "      <td>GDP per capita, PPP (constant 2021 internation...</td>\n",
       "      <td>AF</td>\n",
       "      <td>Afghanistan</td>\n",
       "      <td>...</td>\n",
       "      <td>South Asia</td>\n",
       "      <td>SAS</td>\n",
       "      <td>8S</td>\n",
       "      <td>South Asia</td>\n",
       "      <td>LIC</td>\n",
       "      <td>XM</td>\n",
       "      <td>Low income</td>\n",
       "      <td>IDX</td>\n",
       "      <td>XI</td>\n",
       "      <td>IDA</td>\n",
       "    </tr>\n",
       "    <tr>\n",
       "      <th>...</th>\n",
       "      <td>...</td>\n",
       "      <td>...</td>\n",
       "      <td>...</td>\n",
       "      <td>...</td>\n",
       "      <td>...</td>\n",
       "      <td>...</td>\n",
       "      <td>...</td>\n",
       "      <td>...</td>\n",
       "      <td>...</td>\n",
       "      <td>...</td>\n",
       "      <td>...</td>\n",
       "      <td>...</td>\n",
       "      <td>...</td>\n",
       "      <td>...</td>\n",
       "      <td>...</td>\n",
       "      <td>...</td>\n",
       "      <td>...</td>\n",
       "      <td>...</td>\n",
       "      <td>...</td>\n",
       "      <td>...</td>\n",
       "      <td>...</td>\n",
       "    </tr>\n",
       "    <tr>\n",
       "      <th>13883</th>\n",
       "      <td>ZWE</td>\n",
       "      <td>1964</td>\n",
       "      <td>NaN</td>\n",
       "      <td></td>\n",
       "      <td></td>\n",
       "      <td>0</td>\n",
       "      <td>NY.GDP.PCAP.PP.KD</td>\n",
       "      <td>GDP per capita, PPP (constant 2021 internation...</td>\n",
       "      <td>ZW</td>\n",
       "      <td>Zimbabwe</td>\n",
       "      <td>...</td>\n",
       "      <td>Sub-Saharan Africa</td>\n",
       "      <td>SSA</td>\n",
       "      <td>ZF</td>\n",
       "      <td>Sub-Saharan Africa (excluding high income)</td>\n",
       "      <td>LMC</td>\n",
       "      <td>XN</td>\n",
       "      <td>Lower middle income</td>\n",
       "      <td>IDB</td>\n",
       "      <td>XH</td>\n",
       "      <td>Blend</td>\n",
       "    </tr>\n",
       "    <tr>\n",
       "      <th>13884</th>\n",
       "      <td>ZWE</td>\n",
       "      <td>1963</td>\n",
       "      <td>NaN</td>\n",
       "      <td></td>\n",
       "      <td></td>\n",
       "      <td>0</td>\n",
       "      <td>NY.GDP.PCAP.PP.KD</td>\n",
       "      <td>GDP per capita, PPP (constant 2021 internation...</td>\n",
       "      <td>ZW</td>\n",
       "      <td>Zimbabwe</td>\n",
       "      <td>...</td>\n",
       "      <td>Sub-Saharan Africa</td>\n",
       "      <td>SSA</td>\n",
       "      <td>ZF</td>\n",
       "      <td>Sub-Saharan Africa (excluding high income)</td>\n",
       "      <td>LMC</td>\n",
       "      <td>XN</td>\n",
       "      <td>Lower middle income</td>\n",
       "      <td>IDB</td>\n",
       "      <td>XH</td>\n",
       "      <td>Blend</td>\n",
       "    </tr>\n",
       "    <tr>\n",
       "      <th>13885</th>\n",
       "      <td>ZWE</td>\n",
       "      <td>1962</td>\n",
       "      <td>NaN</td>\n",
       "      <td></td>\n",
       "      <td></td>\n",
       "      <td>0</td>\n",
       "      <td>NY.GDP.PCAP.PP.KD</td>\n",
       "      <td>GDP per capita, PPP (constant 2021 internation...</td>\n",
       "      <td>ZW</td>\n",
       "      <td>Zimbabwe</td>\n",
       "      <td>...</td>\n",
       "      <td>Sub-Saharan Africa</td>\n",
       "      <td>SSA</td>\n",
       "      <td>ZF</td>\n",
       "      <td>Sub-Saharan Africa (excluding high income)</td>\n",
       "      <td>LMC</td>\n",
       "      <td>XN</td>\n",
       "      <td>Lower middle income</td>\n",
       "      <td>IDB</td>\n",
       "      <td>XH</td>\n",
       "      <td>Blend</td>\n",
       "    </tr>\n",
       "    <tr>\n",
       "      <th>13886</th>\n",
       "      <td>ZWE</td>\n",
       "      <td>1961</td>\n",
       "      <td>NaN</td>\n",
       "      <td></td>\n",
       "      <td></td>\n",
       "      <td>0</td>\n",
       "      <td>NY.GDP.PCAP.PP.KD</td>\n",
       "      <td>GDP per capita, PPP (constant 2021 internation...</td>\n",
       "      <td>ZW</td>\n",
       "      <td>Zimbabwe</td>\n",
       "      <td>...</td>\n",
       "      <td>Sub-Saharan Africa</td>\n",
       "      <td>SSA</td>\n",
       "      <td>ZF</td>\n",
       "      <td>Sub-Saharan Africa (excluding high income)</td>\n",
       "      <td>LMC</td>\n",
       "      <td>XN</td>\n",
       "      <td>Lower middle income</td>\n",
       "      <td>IDB</td>\n",
       "      <td>XH</td>\n",
       "      <td>Blend</td>\n",
       "    </tr>\n",
       "    <tr>\n",
       "      <th>13887</th>\n",
       "      <td>ZWE</td>\n",
       "      <td>1960</td>\n",
       "      <td>NaN</td>\n",
       "      <td></td>\n",
       "      <td></td>\n",
       "      <td>0</td>\n",
       "      <td>NY.GDP.PCAP.PP.KD</td>\n",
       "      <td>GDP per capita, PPP (constant 2021 internation...</td>\n",
       "      <td>ZW</td>\n",
       "      <td>Zimbabwe</td>\n",
       "      <td>...</td>\n",
       "      <td>Sub-Saharan Africa</td>\n",
       "      <td>SSA</td>\n",
       "      <td>ZF</td>\n",
       "      <td>Sub-Saharan Africa (excluding high income)</td>\n",
       "      <td>LMC</td>\n",
       "      <td>XN</td>\n",
       "      <td>Lower middle income</td>\n",
       "      <td>IDB</td>\n",
       "      <td>XH</td>\n",
       "      <td>Blend</td>\n",
       "    </tr>\n",
       "  </tbody>\n",
       "</table>\n",
       "<p>13888 rows × 52 columns</p>\n",
       "</div>"
      ],
      "text/plain": [
       "      countryiso3code_x  date      value_x unit_x obs_status_x  decimal_x  \\\n",
       "0                   AFG  2023          NaN                              0   \n",
       "1                   AFG  2022  1955.212904                              0   \n",
       "2                   AFG  2021  2138.870247                              0   \n",
       "3                   AFG  2020  2776.561521                              0   \n",
       "4                   AFG  2019  2933.958598                              0   \n",
       "...                 ...   ...          ...    ...          ...        ...   \n",
       "13883               ZWE  1964          NaN                              0   \n",
       "13884               ZWE  1963          NaN                              0   \n",
       "13885               ZWE  1962          NaN                              0   \n",
       "13886               ZWE  1961          NaN                              0   \n",
       "13887               ZWE  1960          NaN                              0   \n",
       "\n",
       "          indicator.id_x                                  indicator.value_x  \\\n",
       "0      NY.GDP.PCAP.PP.KD  GDP per capita, PPP (constant 2021 internation...   \n",
       "1      NY.GDP.PCAP.PP.KD  GDP per capita, PPP (constant 2021 internation...   \n",
       "2      NY.GDP.PCAP.PP.KD  GDP per capita, PPP (constant 2021 internation...   \n",
       "3      NY.GDP.PCAP.PP.KD  GDP per capita, PPP (constant 2021 internation...   \n",
       "4      NY.GDP.PCAP.PP.KD  GDP per capita, PPP (constant 2021 internation...   \n",
       "...                  ...                                                ...   \n",
       "13883  NY.GDP.PCAP.PP.KD  GDP per capita, PPP (constant 2021 internation...   \n",
       "13884  NY.GDP.PCAP.PP.KD  GDP per capita, PPP (constant 2021 internation...   \n",
       "13885  NY.GDP.PCAP.PP.KD  GDP per capita, PPP (constant 2021 internation...   \n",
       "13886  NY.GDP.PCAP.PP.KD  GDP per capita, PPP (constant 2021 internation...   \n",
       "13887  NY.GDP.PCAP.PP.KD  GDP per capita, PPP (constant 2021 internation...   \n",
       "\n",
       "      country.id country.value  ...       region.value_y  adminregion.id_y  \\\n",
       "0             AF   Afghanistan  ...           South Asia               SAS   \n",
       "1             AF   Afghanistan  ...           South Asia               SAS   \n",
       "2             AF   Afghanistan  ...           South Asia               SAS   \n",
       "3             AF   Afghanistan  ...           South Asia               SAS   \n",
       "4             AF   Afghanistan  ...           South Asia               SAS   \n",
       "...          ...           ...  ...                  ...               ...   \n",
       "13883         ZW      Zimbabwe  ...  Sub-Saharan Africa                SSA   \n",
       "13884         ZW      Zimbabwe  ...  Sub-Saharan Africa                SSA   \n",
       "13885         ZW      Zimbabwe  ...  Sub-Saharan Africa                SSA   \n",
       "13886         ZW      Zimbabwe  ...  Sub-Saharan Africa                SSA   \n",
       "13887         ZW      Zimbabwe  ...  Sub-Saharan Africa                SSA   \n",
       "\n",
       "      adminregion.iso2code_y                         adminregion.value_y  \\\n",
       "0                         8S                                  South Asia   \n",
       "1                         8S                                  South Asia   \n",
       "2                         8S                                  South Asia   \n",
       "3                         8S                                  South Asia   \n",
       "4                         8S                                  South Asia   \n",
       "...                      ...                                         ...   \n",
       "13883                     ZF  Sub-Saharan Africa (excluding high income)   \n",
       "13884                     ZF  Sub-Saharan Africa (excluding high income)   \n",
       "13885                     ZF  Sub-Saharan Africa (excluding high income)   \n",
       "13886                     ZF  Sub-Saharan Africa (excluding high income)   \n",
       "13887                     ZF  Sub-Saharan Africa (excluding high income)   \n",
       "\n",
       "       incomeLevel.id_y incomeLevel.iso2code_y  incomeLevel.value_y  \\\n",
       "0                   LIC                     XM           Low income   \n",
       "1                   LIC                     XM           Low income   \n",
       "2                   LIC                     XM           Low income   \n",
       "3                   LIC                     XM           Low income   \n",
       "4                   LIC                     XM           Low income   \n",
       "...                 ...                    ...                  ...   \n",
       "13883               LMC                     XN  Lower middle income   \n",
       "13884               LMC                     XN  Lower middle income   \n",
       "13885               LMC                     XN  Lower middle income   \n",
       "13886               LMC                     XN  Lower middle income   \n",
       "13887               LMC                     XN  Lower middle income   \n",
       "\n",
       "      lendingType.id_y lendingType.iso2code_y lendingType.value_y  \n",
       "0                  IDX                     XI                 IDA  \n",
       "1                  IDX                     XI                 IDA  \n",
       "2                  IDX                     XI                 IDA  \n",
       "3                  IDX                     XI                 IDA  \n",
       "4                  IDX                     XI                 IDA  \n",
       "...                ...                    ...                 ...  \n",
       "13883              IDB                     XH               Blend  \n",
       "13884              IDB                     XH               Blend  \n",
       "13885              IDB                     XH               Blend  \n",
       "13886              IDB                     XH               Blend  \n",
       "13887              IDB                     XH               Blend  \n",
       "\n",
       "[13888 rows x 52 columns]"
      ]
     },
     "execution_count": 158,
     "metadata": {},
     "output_type": "execute_result"
    }
   ],
   "source": [
    "pd.merge(new_df, df_3, on = 'iso2Code')"
   ]
  },
  {
   "cell_type": "code",
   "execution_count": null,
   "metadata": {},
   "outputs": [],
   "source": []
  }
 ],
 "metadata": {
  "kernelspec": {
   "display_name": "Python 3 (ipykernel)",
   "language": "python",
   "name": "python3"
  },
  "language_info": {
   "codemirror_mode": {
    "name": "ipython",
    "version": 3
   },
   "file_extension": ".py",
   "mimetype": "text/x-python",
   "name": "python",
   "nbconvert_exporter": "python",
   "pygments_lexer": "ipython3",
   "version": "3.11.7"
  }
 },
 "nbformat": 4,
 "nbformat_minor": 4
}
