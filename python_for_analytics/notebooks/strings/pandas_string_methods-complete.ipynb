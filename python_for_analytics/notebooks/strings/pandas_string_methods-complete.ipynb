{
 "cells": [
  {
   "cell_type": "markdown",
   "id": "60d81861",
   "metadata": {},
   "source": [
    "## String Methods in _pandas_\n",
    "\n",
    "In this notebook, you'll learn about several string methods and how to use them with a _pandas_ DataFrame.\n",
    "\n",
    "We'll be reading in and trying to combine two datasets."
   ]
  },
  {
   "cell_type": "code",
   "execution_count": null,
   "id": "0e57ffed",
   "metadata": {},
   "outputs": [],
   "source": [
    "import pandas as pd"
   ]
  },
  {
   "cell_type": "markdown",
   "id": "5d945222",
   "metadata": {},
   "source": [
    "Our first dataset contains unemployment data that was obtained from the Burea of Labor Statistics."
   ]
  },
  {
   "cell_type": "code",
   "execution_count": null,
   "id": "8825ce50",
   "metadata": {},
   "outputs": [],
   "source": [
    "unemployment = pd.read_csv('data/tn_unemployment.csv')\n",
    "\n",
    "unemployment.head()"
   ]
  },
  {
   "cell_type": "markdown",
   "id": "6341d75c",
   "metadata": {},
   "source": [
    "Now, let's bring in our second DataFrame, which contains population data per county."
   ]
  },
  {
   "cell_type": "code",
   "execution_count": null,
   "id": "c0d4bf10",
   "metadata": {},
   "outputs": [],
   "source": [
    "population = pd.read_csv('data/tn_population.csv')\n",
    "\n",
    "population.head()"
   ]
  },
  {
   "cell_type": "markdown",
   "id": "77c17e64",
   "metadata": {},
   "source": [
    "Our goal is to combine the unemployment and population data. In order to do this, _pandas_ needs a common column to join on. \n",
    "\n",
    "Notice that both DataFrames have a Name column. However, we can't merge them at the moment since the capitalization is different, and one includes the state."
   ]
  },
  {
   "cell_type": "markdown",
   "id": "9a6be226",
   "metadata": {},
   "source": [
    "When working with text data in `pandas`, it is often useful to utilize the built-in sting methods. To use these methods, you must prepend a `.str` before the desired method.\n",
    "\n",
    "### Changing Case\n",
    "\n",
    "For example, we can make column entirely uppercase using the `upper()` method."
   ]
  },
  {
   "cell_type": "code",
   "execution_count": null,
   "id": "285e8203",
   "metadata": {},
   "outputs": [],
   "source": [
    "unemployment['Name'].str.upper()"
   ]
  },
  {
   "cell_type": "markdown",
   "id": "7aa0d244",
   "metadata": {},
   "source": [
    "Alternatively, we can capitalize the first letter of each word using the `title()` method."
   ]
  },
  {
   "cell_type": "code",
   "execution_count": null,
   "id": "469996e6",
   "metadata": {},
   "outputs": [],
   "source": [
    "population['Name'].str.title()"
   ]
  },
  {
   "cell_type": "markdown",
   "id": "f672db79",
   "metadata": {},
   "source": [
    "Let's use the second method which will get our columns closer to where they need to be."
   ]
  },
  {
   "cell_type": "code",
   "execution_count": null,
   "id": "636c2b51",
   "metadata": {},
   "outputs": [],
   "source": [
    "population['Name'] = population['Name'].str.title()"
   ]
  },
  {
   "cell_type": "markdown",
   "id": "aee8ea48",
   "metadata": {},
   "source": [
    "### Replace\n",
    "\n",
    "Another often useful method is the `replace()` method. To use this method, specify what pattern you want to replace and then the replacement text."
   ]
  },
  {
   "cell_type": "code",
   "execution_count": null,
   "id": "e34c2168",
   "metadata": {},
   "outputs": [],
   "source": [
    "unemployment['Period'].str.replace('21', '2021')"
   ]
  },
  {
   "cell_type": "markdown",
   "id": "43ec5d84",
   "metadata": {},
   "source": [
    "**Try It Out** Use string slicing to remove the \", TN\" from the Name column of the unemployment DataFrame."
   ]
  },
  {
   "cell_type": "code",
   "execution_count": null,
   "id": "6f47a0d1",
   "metadata": {},
   "outputs": [],
   "source": [
    "# Your Code Here\n",
    "unemployment['Name'].str.replace(', TN', '')"
   ]
  },
  {
   "cell_type": "markdown",
   "id": "6d08326e",
   "metadata": {},
   "source": [
    "### String Slicing\n",
    "\n",
    "We can also slice strings using _pandas_ much like we can with regular strings."
   ]
  },
  {
   "cell_type": "code",
   "execution_count": null,
   "id": "9a31c150",
   "metadata": {},
   "outputs": [],
   "source": [
    "unemployment['Period'].str[:3]"
   ]
  },
  {
   "cell_type": "markdown",
   "id": "6cb4455b",
   "metadata": {},
   "source": [
    "**Try It Out** Use string slicing to remove the \", TN\" from the Name column of the unemployment DataFrame."
   ]
  },
  {
   "cell_type": "code",
   "execution_count": null,
   "id": "b2ba1b1d",
   "metadata": {},
   "outputs": [],
   "source": [
    "# Your Code Here\n",
    "unemployment['Name'].str[:-4]"
   ]
  },
  {
   "cell_type": "markdown",
   "id": "a7cceb6c",
   "metadata": {},
   "source": [
    "### String Concatenation\n",
    "\n",
    "Note that we can also use + with string to concatenate them. For example, we could add on the \", TN\" to the population Name column."
   ]
  },
  {
   "cell_type": "code",
   "execution_count": null,
   "id": "b301c9b1",
   "metadata": {},
   "outputs": [],
   "source": [
    "population['Name'] + \", TN\""
   ]
  },
  {
   "cell_type": "markdown",
   "id": "25670c3a",
   "metadata": {},
   "source": [
    "### Splitting Strings\n",
    "\n",
    "Another useful string method is `.str.split()`, which allows us to divide a string into a list of parts by specifying what to split on. \n",
    "\n",
    "Notice that if we split on the comma, the first piece will match what is contained in the `Name` column of the population DataFrame."
   ]
  },
  {
   "cell_type": "code",
   "execution_count": null,
   "id": "b3d700d6",
   "metadata": {},
   "outputs": [],
   "source": [
    "unemployment['Name'].str.split(',')"
   ]
  },
  {
   "cell_type": "markdown",
   "id": "af3bd918",
   "metadata": {},
   "source": [
    "By default, this method returns a list. We can make it return a DataFrame by using the `expand` argument."
   ]
  },
  {
   "cell_type": "code",
   "execution_count": null,
   "id": "bb56e30b",
   "metadata": {},
   "outputs": [],
   "source": [
    "unemployment['Name'].str.split(',', expand = True)"
   ]
  },
  {
   "cell_type": "markdown",
   "id": "c9498e3c",
   "metadata": {},
   "source": [
    "We only want the first column."
   ]
  },
  {
   "cell_type": "code",
   "execution_count": null,
   "id": "06eebe9c",
   "metadata": {},
   "outputs": [],
   "source": [
    "unemployment['Name'].str.split(',', expand = True)[0]"
   ]
  },
  {
   "cell_type": "markdown",
   "id": "996be192",
   "metadata": {},
   "source": [
    "Finally, we can assign this back to the `Name` column."
   ]
  },
  {
   "cell_type": "code",
   "execution_count": null,
   "id": "fde09c4a",
   "metadata": {},
   "outputs": [],
   "source": [
    "unemployment['Name'] = unemployment['Name'].str.split(',', expand = True)[0]"
   ]
  },
  {
   "cell_type": "code",
   "execution_count": null,
   "id": "39c76978",
   "metadata": {},
   "outputs": [],
   "source": [
    "unemployment.head()"
   ]
  },
  {
   "cell_type": "markdown",
   "id": "23739a89",
   "metadata": {},
   "source": [
    "Finally, we are ready to merge our DataFrames."
   ]
  },
  {
   "cell_type": "code",
   "execution_count": null,
   "id": "f3776746",
   "metadata": {},
   "outputs": [],
   "source": [
    "pd.merge(left = population, right = unemployment)"
   ]
  }
 ],
 "metadata": {
  "kernelspec": {
   "display_name": "Python 3 (ipykernel)",
   "language": "python",
   "name": "python3"
  },
  "language_info": {
   "codemirror_mode": {
    "name": "ipython",
    "version": 3
   },
   "file_extension": ".py",
   "mimetype": "text/x-python",
   "name": "python",
   "nbconvert_exporter": "python",
   "pygments_lexer": "ipython3",
   "version": "3.11.7"
  }
 },
 "nbformat": 4,
 "nbformat_minor": 5
}
