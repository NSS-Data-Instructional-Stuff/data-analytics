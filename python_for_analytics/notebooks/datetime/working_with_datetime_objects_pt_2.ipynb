{
 "cells": [
  {
   "cell_type": "code",
   "execution_count": 1,
   "metadata": {},
   "outputs": [],
   "source": [
    "import pandas as pd"
   ]
  },
  {
   "cell_type": "code",
   "execution_count": 2,
   "metadata": {},
   "outputs": [],
   "source": [
    "accidents = pd.read_csv('data/Traffic_Accidents.csv')"
   ]
  },
  {
   "cell_type": "code",
   "execution_count": 3,
   "metadata": {},
   "outputs": [
    {
     "data": {
      "text/html": [
       "<div>\n",
       "<style scoped>\n",
       "    .dataframe tbody tr th:only-of-type {\n",
       "        vertical-align: middle;\n",
       "    }\n",
       "\n",
       "    .dataframe tbody tr th {\n",
       "        vertical-align: top;\n",
       "    }\n",
       "\n",
       "    .dataframe thead th {\n",
       "        text-align: right;\n",
       "    }\n",
       "</style>\n",
       "<table border=\"1\" class=\"dataframe\">\n",
       "  <thead>\n",
       "    <tr style=\"text-align: right;\">\n",
       "      <th></th>\n",
       "      <th>Accident Number</th>\n",
       "      <th>Date and Time</th>\n",
       "      <th>Number of Motor Vehicles</th>\n",
       "      <th>Number of Injuries</th>\n",
       "      <th>Number of Fatalities</th>\n",
       "      <th>Property Damage</th>\n",
       "      <th>Hit and Run</th>\n",
       "      <th>Reporting Officer</th>\n",
       "      <th>Collision Type Code</th>\n",
       "      <th>Collision Type Description</th>\n",
       "      <th>...</th>\n",
       "      <th>Harmful Code Description</th>\n",
       "      <th>Street Address</th>\n",
       "      <th>City</th>\n",
       "      <th>State</th>\n",
       "      <th>ZIP</th>\n",
       "      <th>RPA</th>\n",
       "      <th>Precinct</th>\n",
       "      <th>Latitude</th>\n",
       "      <th>Longitude</th>\n",
       "      <th>Mapped Location</th>\n",
       "    </tr>\n",
       "  </thead>\n",
       "  <tbody>\n",
       "    <tr>\n",
       "      <th>0</th>\n",
       "      <td>20190038972</td>\n",
       "      <td>01/15/2019 07:40:00 PM</td>\n",
       "      <td>2</td>\n",
       "      <td>0</td>\n",
       "      <td>0</td>\n",
       "      <td>NaN</td>\n",
       "      <td>N</td>\n",
       "      <td>256374.0</td>\n",
       "      <td>4.0</td>\n",
       "      <td>ANGLE</td>\n",
       "      <td>...</td>\n",
       "      <td>MOTOR VEHICLE IN TRANSPORT</td>\n",
       "      <td>BELL RD &amp; CEDAR POINTE PKWY</td>\n",
       "      <td>ANTIOCH</td>\n",
       "      <td>TN</td>\n",
       "      <td>37013.0</td>\n",
       "      <td>8753.0</td>\n",
       "      <td>SOUTH</td>\n",
       "      <td>36.0449</td>\n",
       "      <td>-86.6671</td>\n",
       "      <td>POINT (-86.6671 36.0449)</td>\n",
       "    </tr>\n",
       "    <tr>\n",
       "      <th>1</th>\n",
       "      <td>20190045402</td>\n",
       "      <td>01/17/2019 11:09:00 PM</td>\n",
       "      <td>2</td>\n",
       "      <td>0</td>\n",
       "      <td>0</td>\n",
       "      <td>NaN</td>\n",
       "      <td>Y</td>\n",
       "      <td>405424.0</td>\n",
       "      <td>11.0</td>\n",
       "      <td>Front to Rear</td>\n",
       "      <td>...</td>\n",
       "      <td>PARKED MOTOR VEHICLE</td>\n",
       "      <td>3248 PERCY PRIEST DR</td>\n",
       "      <td>NASHVILLE</td>\n",
       "      <td>TN</td>\n",
       "      <td>37214.0</td>\n",
       "      <td>8955.0</td>\n",
       "      <td>HERMIT</td>\n",
       "      <td>36.1531</td>\n",
       "      <td>-86.6291</td>\n",
       "      <td>POINT (-86.6291 36.1531)</td>\n",
       "    </tr>\n",
       "    <tr>\n",
       "      <th>2</th>\n",
       "      <td>20190051468</td>\n",
       "      <td>01/20/2019 12:57:00 PM</td>\n",
       "      <td>2</td>\n",
       "      <td>0</td>\n",
       "      <td>0</td>\n",
       "      <td>NaN</td>\n",
       "      <td>N</td>\n",
       "      <td>834798.0</td>\n",
       "      <td>6.0</td>\n",
       "      <td>SIDESWIPE - OPPOSITE DIRECTION</td>\n",
       "      <td>...</td>\n",
       "      <td>PARKED MOTOR VEHICLE</td>\n",
       "      <td>700 THOMPSON LN</td>\n",
       "      <td>NASHVILLE</td>\n",
       "      <td>TN</td>\n",
       "      <td>37204.0</td>\n",
       "      <td>8305.0</td>\n",
       "      <td>MIDTOW</td>\n",
       "      <td>36.1122</td>\n",
       "      <td>-86.7625</td>\n",
       "      <td>POINT (-86.7625 36.1122)</td>\n",
       "    </tr>\n",
       "    <tr>\n",
       "      <th>3</th>\n",
       "      <td>20190088097</td>\n",
       "      <td>02/02/2019 12:38:00 AM</td>\n",
       "      <td>2</td>\n",
       "      <td>0</td>\n",
       "      <td>0</td>\n",
       "      <td>NaN</td>\n",
       "      <td>Y</td>\n",
       "      <td>660929.0</td>\n",
       "      <td>4.0</td>\n",
       "      <td>ANGLE</td>\n",
       "      <td>...</td>\n",
       "      <td>MOTOR VEHICLE IN TRANSPORT;PARKED MOTOR VEHICLE</td>\n",
       "      <td>400 RADNO</td>\n",
       "      <td>NASHVILLE</td>\n",
       "      <td>TN</td>\n",
       "      <td>NaN</td>\n",
       "      <td>NaN</td>\n",
       "      <td>NaN</td>\n",
       "      <td>36.0483</td>\n",
       "      <td>-86.4369</td>\n",
       "      <td>POINT (-86.4369 36.0483)</td>\n",
       "    </tr>\n",
       "    <tr>\n",
       "      <th>4</th>\n",
       "      <td>20190091289</td>\n",
       "      <td>02/03/2019 01:25:00 PM</td>\n",
       "      <td>2</td>\n",
       "      <td>0</td>\n",
       "      <td>0</td>\n",
       "      <td>NaN</td>\n",
       "      <td>N</td>\n",
       "      <td>212369.0</td>\n",
       "      <td>4.0</td>\n",
       "      <td>ANGLE</td>\n",
       "      <td>...</td>\n",
       "      <td>MOTOR VEHICLE IN TRANSPORT</td>\n",
       "      <td>ELLINGTON AG CENTER PVTDR &amp; EDMONDSON PK</td>\n",
       "      <td>NASHVILLE</td>\n",
       "      <td>TN</td>\n",
       "      <td>37220.0</td>\n",
       "      <td>8615.0</td>\n",
       "      <td>MIDTOW</td>\n",
       "      <td>36.0618</td>\n",
       "      <td>-86.7405</td>\n",
       "      <td>POINT (-86.7405 36.0618)</td>\n",
       "    </tr>\n",
       "  </tbody>\n",
       "</table>\n",
       "<p>5 rows × 25 columns</p>\n",
       "</div>"
      ],
      "text/plain": [
       "   Accident Number           Date and Time  Number of Motor Vehicles  \\\n",
       "0      20190038972  01/15/2019 07:40:00 PM                         2   \n",
       "1      20190045402  01/17/2019 11:09:00 PM                         2   \n",
       "2      20190051468  01/20/2019 12:57:00 PM                         2   \n",
       "3      20190088097  02/02/2019 12:38:00 AM                         2   \n",
       "4      20190091289  02/03/2019 01:25:00 PM                         2   \n",
       "\n",
       "   Number of Injuries  Number of Fatalities Property Damage Hit and Run  \\\n",
       "0                   0                     0             NaN           N   \n",
       "1                   0                     0             NaN           Y   \n",
       "2                   0                     0             NaN           N   \n",
       "3                   0                     0             NaN           Y   \n",
       "4                   0                     0             NaN           N   \n",
       "\n",
       "   Reporting Officer  Collision Type Code      Collision Type Description  \\\n",
       "0           256374.0                  4.0                           ANGLE   \n",
       "1           405424.0                 11.0                   Front to Rear   \n",
       "2           834798.0                  6.0  SIDESWIPE - OPPOSITE DIRECTION   \n",
       "3           660929.0                  4.0                           ANGLE   \n",
       "4           212369.0                  4.0                           ANGLE   \n",
       "\n",
       "   ...                         Harmful Code Description  \\\n",
       "0  ...                       MOTOR VEHICLE IN TRANSPORT   \n",
       "1  ...                             PARKED MOTOR VEHICLE   \n",
       "2  ...                             PARKED MOTOR VEHICLE   \n",
       "3  ...  MOTOR VEHICLE IN TRANSPORT;PARKED MOTOR VEHICLE   \n",
       "4  ...                       MOTOR VEHICLE IN TRANSPORT   \n",
       "\n",
       "                             Street Address       City State      ZIP     RPA  \\\n",
       "0               BELL RD & CEDAR POINTE PKWY    ANTIOCH    TN  37013.0  8753.0   \n",
       "1                      3248 PERCY PRIEST DR  NASHVILLE    TN  37214.0  8955.0   \n",
       "2                           700 THOMPSON LN  NASHVILLE    TN  37204.0  8305.0   \n",
       "3                                 400 RADNO  NASHVILLE    TN      NaN     NaN   \n",
       "4  ELLINGTON AG CENTER PVTDR & EDMONDSON PK  NASHVILLE    TN  37220.0  8615.0   \n",
       "\n",
       "  Precinct Latitude Longitude           Mapped Location  \n",
       "0    SOUTH  36.0449  -86.6671  POINT (-86.6671 36.0449)  \n",
       "1   HERMIT  36.1531  -86.6291  POINT (-86.6291 36.1531)  \n",
       "2   MIDTOW  36.1122  -86.7625  POINT (-86.7625 36.1122)  \n",
       "3      NaN  36.0483  -86.4369  POINT (-86.4369 36.0483)  \n",
       "4   MIDTOW  36.0618  -86.7405  POINT (-86.7405 36.0618)  \n",
       "\n",
       "[5 rows x 25 columns]"
      ]
     },
     "execution_count": 3,
     "metadata": {},
     "output_type": "execute_result"
    }
   ],
   "source": [
    "accidents.head()"
   ]
  },
  {
   "cell_type": "markdown",
   "metadata": {},
   "source": [
    "First, let's convert the Date and Time column to the datetime type. To save time, we can specify the format."
   ]
  },
  {
   "cell_type": "code",
   "execution_count": null,
   "metadata": {},
   "outputs": [],
   "source": [
    "accidents['Date and Time'] = pd.to_datetime(accidents['Date and Time'], format = '%m/%d/%Y %I:%M:%S %p')"
   ]
  },
  {
   "cell_type": "markdown",
   "metadata": {},
   "source": [
    "Once we have it in datetime format it becomes easy to answer questions like \"How many accidents were there per month?\"."
   ]
  },
  {
   "cell_type": "code",
   "execution_count": null,
   "metadata": {},
   "outputs": [],
   "source": [
    "(accidents\n",
    " .assign(month = accidents['Date and Time'].dt.month_name())\n",
    " .month\n",
    " .value_counts(sort = False)\n",
    ")"
   ]
  },
  {
   "cell_type": "markdown",
   "metadata": {},
   "source": [
    "Let's look at how the number of accidents vary by hour of the day.\n",
    "\n",
    "One method we could try is to extract out the date and hour portions and do a `groupby` + `count`."
   ]
  },
  {
   "cell_type": "code",
   "execution_count": null,
   "metadata": {},
   "outputs": [],
   "source": [
    "(accidents\n",
    " .assign(date = accidents['Date and Time'].dt.date, \n",
    "         hour = accidents['Date and Time'].dt.hour)     # Create a date and hour column so that we can group\n",
    " .groupby(['date', 'hour'])\n",
    " ['Accident Number']\n",
    " .count()\n",
    " .reset_index()\n",
    " .head(10)\n",
    ")"
   ]
  },
  {
   "cell_type": "markdown",
   "metadata": {},
   "source": [
    "There is a big problem with this, which can be seen if you look carefully at the output above. There are no rows for 6:00, 7:00, or 8:00 on January 1. This is because there were no accidents during these hours, so there were no rows to count.\n",
    "\n",
    "A better method (and one that will require less work to pull off) is to use a `Grouper` to group by hour."
   ]
  },
  {
   "cell_type": "code",
   "execution_count": null,
   "metadata": {},
   "outputs": [],
   "source": [
    "(accidents\n",
    " .groupby(pd.Grouper(key = 'Date and Time',     # point it to your datetime column\n",
    "                     freq = '1h',               # How much do you want to group together values?\n",
    "                     origin = 'epoch'           # This will start times at midnight of 1970-01-01. This ensure\n",
    "                                                # This ensures that we are starting our first grouped period on the hour\n",
    "                    ))\n",
    " ['Accident Number']\n",
    " .count()\n",
    " .reset_index()\n",
    " .head(10)\n",
    ")"
   ]
  },
  {
   "cell_type": "markdown",
   "metadata": {},
   "source": [
    "Late night on November 11, 2019 [Nashville received a rare November snow](https://fox17.com/news/local/nws-nashville-sees-rare-early-november-snow). Let's investigate to see if we can detect any effect on the number of accidents the following morning."
   ]
  },
  {
   "cell_type": "code",
   "execution_count": null,
   "metadata": {},
   "outputs": [],
   "source": [
    "# First, filter down to the following day\n",
    "snow_day = accidents[(accidents['Date and Time'] >= '2019-11-12') & \n",
    "                     (accidents['Date and Time'] < '2019-11-13')]"
   ]
  },
  {
   "cell_type": "markdown",
   "metadata": {},
   "source": [
    "Now, let's apply a grouper to the our snow day."
   ]
  },
  {
   "cell_type": "code",
   "execution_count": null,
   "metadata": {},
   "outputs": [],
   "source": [
    "(snow_day\n",
    " .groupby(pd.Grouper(key = 'Date and Time',\n",
    "                     freq = '1h',\n",
    "                     origin = 'epoch'\n",
    "                    ))\n",
    " ['Accident Number']\n",
    " .count()\n",
    " .plot(figsize = (10,5))\n",
    ");"
   ]
  },
  {
   "cell_type": "markdown",
   "metadata": {},
   "source": [
    "It does look like there were quite a few accidents in the morning, but in isolation, it is hard to know if what we are seeing is unusual. Let's do a comparison with the rest of the data."
   ]
  },
  {
   "cell_type": "code",
   "execution_count": null,
   "metadata": {},
   "outputs": [],
   "source": [
    "accidents_grouped = (accidents\n",
    "                     .assign(weekday = accidents['Date and Time'].dt.day_name())\n",
    "                     .query('weekday != \"Saturday\" and weekday != \"Sunday\"')   # remove the weekends\n",
    "                     .groupby(pd.Grouper(key = 'Date and Time',\n",
    "                                         freq = '1h',\n",
    "                                         origin = 'epoch'\n",
    "                                        ))\n",
    " ['Accident Number']\n",
    " .count()\n",
    " .reset_index()       # convert the Date and Time column back to a regular column\n",
    ")"
   ]
  },
  {
   "cell_type": "code",
   "execution_count": null,
   "metadata": {},
   "outputs": [],
   "source": [
    "(accidents_grouped\n",
    " .assign(hour = accidents_grouped['Date and Time'].dt.hour)\n",
    " .groupby('hour')\n",
    " ['Accident Number']\n",
    " .agg(['mean', 'std', 'median','max'])\n",
    ")"
   ]
  },
  {
   "cell_type": "markdown",
   "metadata": {},
   "source": [
    "From this, we can see that in the morning, the 7:00 hour is usually the worst, with an average of more than 5 accidents.\n",
    "\n",
    "Looking back at the snow day, we can see that while the morning hours did have a high number of crashes, none of them were the worst that occurred in 2019.\n",
    "\n",
    "However, together the hours or 6, 7, 8, and 9 all had above-average number of crashes. Maybe we can compare this block of time to this block of time across the whole dataset.\n",
    "\n",
    "One way to accomplish this is to change our grouping frequency to 4 hours. Note that we also need to adjust the origin value so that 6:00 - 10:00 get grouped together."
   ]
  },
  {
   "cell_type": "code",
   "execution_count": null,
   "metadata": {},
   "outputs": [],
   "source": [
    "snow_day.groupby(pd.Grouper(key = 'Date and Time',     \n",
    "                                     freq = '4h',               \n",
    "                                     origin = '2018-12-31 02:00:00'  # This will result in the 6:00 AM - 10:00 AM times to be grouped together           \n",
    "                           ))['Date and Time'].count()"
   ]
  },
  {
   "cell_type": "markdown",
   "metadata": {},
   "source": [
    "Let's also regroup the full dataset."
   ]
  },
  {
   "cell_type": "code",
   "execution_count": null,
   "metadata": {},
   "outputs": [],
   "source": [
    "accidents_grouped = (accidents\n",
    "                     .assign(weekday = accidents['Date and Time'].dt.day_name())\n",
    "                     .query('weekday != \"Saturday\" and weekday != \"Sunday\"')\n",
    "                     .groupby(pd.Grouper(key = 'Date and Time',     \n",
    "                                     freq = '4h',               \n",
    "                                     origin = '2018-12-31 02:00:00'                                      \n",
    "                                    ))\n",
    " ['Accident Number']\n",
    " .count()\n",
    " .reset_index()\n",
    ")"
   ]
  },
  {
   "cell_type": "code",
   "execution_count": null,
   "metadata": {},
   "outputs": [],
   "source": [
    "(accidents_grouped\n",
    " .assign(hour = accidents_grouped['Date and Time'].dt.hour)\n",
    " .groupby('hour')\n",
    " ['Accident Number']\n",
    " .agg(['mean', 'std', 'median', 'max'])\n",
    ")"
   ]
  },
  {
   "cell_type": "markdown",
   "metadata": {},
   "source": [
    "Comparing the snow day to the overall average for the 4 hour period starting at 6:00 AM, we can see that there were an above-average number of accidents. It wasn't the worst day in the whole year, but let's investigate and see where it lands."
   ]
  },
  {
   "cell_type": "code",
   "execution_count": null,
   "metadata": {},
   "outputs": [],
   "source": [
    "(accidents_grouped\n",
    " .assign(hour = accidents_grouped['Date and Time'].dt.hour,\n",
    "         weekday = accidents_grouped['Date and Time'].dt.day_name())\n",
    " .query('hour == 6')\n",
    " .nlargest(5, 'Accident Number')\n",
    ")"
   ]
  },
  {
   "cell_type": "markdown",
   "metadata": {},
   "source": [
    "This day was the worst Tuesday in 2019, and is tied for the 4th worst day in the whole year."
   ]
  },
  {
   "cell_type": "markdown",
   "metadata": {},
   "source": [
    "# End of Instruction"
   ]
  },
  {
   "cell_type": "markdown",
   "metadata": {},
   "source": [
    "### You want to compare accidents by hour based on Season.  First, divide the dataframe based on season using this rule: March-May = Spring, June-August = Summer, September - November = Fall, December - February = Winter."
   ]
  },
  {
   "cell_type": "code",
   "execution_count": null,
   "metadata": {},
   "outputs": [],
   "source": []
  },
  {
   "cell_type": "markdown",
   "metadata": {},
   "source": [
    "### Next, find the average number of accident per day for each hour by season."
   ]
  },
  {
   "cell_type": "code",
   "execution_count": null,
   "metadata": {},
   "outputs": [],
   "source": []
  },
  {
   "cell_type": "markdown",
   "metadata": {},
   "source": [
    "### Finally, create a facetgrid that compares the mean accidents over a 24-hour span by season.  Is there anything interesting?  Any follow up questions you can think of?"
   ]
  },
  {
   "cell_type": "code",
   "execution_count": null,
   "metadata": {},
   "outputs": [],
   "source": []
  }
 ],
 "metadata": {
  "kernelspec": {
   "display_name": "Python 3 (ipykernel)",
   "language": "python",
   "name": "python3"
  },
  "language_info": {
   "codemirror_mode": {
    "name": "ipython",
    "version": 3
   },
   "file_extension": ".py",
   "mimetype": "text/x-python",
   "name": "python",
   "nbconvert_exporter": "python",
   "pygments_lexer": "ipython3",
   "version": "3.11.7"
  }
 },
 "nbformat": 4,
 "nbformat_minor": 4
}
