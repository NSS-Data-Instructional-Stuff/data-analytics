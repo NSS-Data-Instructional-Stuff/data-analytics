{
 "cells": [
  {
   "cell_type": "code",
   "execution_count": null,
   "id": "03b80e83",
   "metadata": {},
   "outputs": [],
   "source": [
    "import pandas as pd"
   ]
  },
  {
   "cell_type": "markdown",
   "id": "4a98a2a0",
   "metadata": {},
   "source": [
    "## Syntax  - when do we use these?\n",
    "- `()` - when calling a function or method; to create a tuple\n",
    "- `{}` - when creating a dictionary or set \n",
    "- `[]` - when slicing an iterable; to create a list"
   ]
  },
  {
   "cell_type": "markdown",
   "id": "3f527d9d",
   "metadata": {},
   "source": [
    "### Tuple\n",
    "- An ordered, immutable collection\n",
    "- () are optional but prefered"
   ]
  },
  {
   "cell_type": "code",
   "execution_count": null,
   "id": "68c6b78d",
   "metadata": {},
   "outputs": [],
   "source": [
    "tuple1 = ('Chris', 'Sobiya', 'Rene')"
   ]
  },
  {
   "cell_type": "code",
   "execution_count": null,
   "id": "1ddf396c",
   "metadata": {},
   "outputs": [],
   "source": [
    "tuple2 = 'Chris', 'Sobiya', 'Rene'"
   ]
  },
  {
   "cell_type": "code",
   "execution_count": null,
   "id": "0fc052a2",
   "metadata": {},
   "outputs": [],
   "source": [
    "print(tuple1)\n",
    "print(tuple2)"
   ]
  },
  {
   "cell_type": "code",
   "execution_count": null,
   "id": "4141ab9b",
   "metadata": {},
   "outputs": [],
   "source": [
    "tuple3 = tuple1 + tuple2\n",
    "print(tuple3)"
   ]
  },
  {
   "cell_type": "code",
   "execution_count": null,
   "id": "26c58649",
   "metadata": {},
   "outputs": [],
   "source": [
    "tuple3[0]"
   ]
  },
  {
   "cell_type": "code",
   "execution_count": null,
   "id": "c0ee5d88",
   "metadata": {
    "scrolled": true
   },
   "outputs": [],
   "source": [
    "tuple3[0] = 'Steve'"
   ]
  },
  {
   "cell_type": "markdown",
   "id": "be012d42",
   "metadata": {},
   "source": [
    "### Set\n",
    "- An unordered, collection of unique values\n",
    "- Uses {}"
   ]
  },
  {
   "cell_type": "code",
   "execution_count": null,
   "id": "191bff01",
   "metadata": {},
   "outputs": [],
   "source": [
    "tuple3"
   ]
  },
  {
   "cell_type": "code",
   "execution_count": null,
   "id": "b868364f",
   "metadata": {},
   "outputs": [],
   "source": [
    "set1 = set(tuple3)"
   ]
  },
  {
   "cell_type": "code",
   "execution_count": null,
   "id": "07f315bb",
   "metadata": {},
   "outputs": [],
   "source": [
    "set1"
   ]
  },
  {
   "cell_type": "markdown",
   "id": "aff59185",
   "metadata": {},
   "source": [
    "### Dictionary\n",
    "- A collection of key:value pairs\n",
    "- Uses {}"
   ]
  },
  {
   "cell_type": "code",
   "execution_count": null,
   "id": "3d00fabf",
   "metadata": {},
   "outputs": [],
   "source": [
    "dict1 = {1111 : \"April\" , 2222 : \"Jamal\", 3333 : \"Krystal\", 4444 : \"Lee\", 5555 : \"Carlos\"}"
   ]
  },
  {
   "cell_type": "code",
   "execution_count": null,
   "id": "4ca4cbe9",
   "metadata": {},
   "outputs": [],
   "source": [
    "dict1[1111]"
   ]
  },
  {
   "cell_type": "code",
   "execution_count": null,
   "id": "087e45ed",
   "metadata": {},
   "outputs": [],
   "source": [
    "dict1[1111] = \"Fran\""
   ]
  },
  {
   "cell_type": "code",
   "execution_count": null,
   "id": "0a273964",
   "metadata": {},
   "outputs": [],
   "source": [
    "dict1[1111]"
   ]
  },
  {
   "cell_type": "code",
   "execution_count": null,
   "id": "259a0399",
   "metadata": {},
   "outputs": [],
   "source": [
    "dict1"
   ]
  },
  {
   "cell_type": "markdown",
   "id": "aaea9c45",
   "metadata": {},
   "source": [
    "### List\n",
    "- A ordered, mutable collection\n",
    "- Uses []"
   ]
  },
  {
   "cell_type": "markdown",
   "id": "bd6a1e46",
   "metadata": {},
   "source": [
    "### Simple list of postive integers"
   ]
  },
  {
   "cell_type": "code",
   "execution_count": null,
   "id": "cae7d54f",
   "metadata": {},
   "outputs": [],
   "source": [
    "numbers = [78, 43, 9, 13, 50, 23]"
   ]
  },
  {
   "cell_type": "code",
   "execution_count": null,
   "id": "c7252044",
   "metadata": {},
   "outputs": [],
   "source": [
    "numbers[0]"
   ]
  },
  {
   "cell_type": "code",
   "execution_count": null,
   "id": "4a023177",
   "metadata": {},
   "outputs": [],
   "source": [
    "numbers[0] = 12"
   ]
  },
  {
   "cell_type": "code",
   "execution_count": null,
   "id": "b097414e",
   "metadata": {},
   "outputs": [],
   "source": [
    "numbers"
   ]
  },
  {
   "cell_type": "code",
   "execution_count": null,
   "id": "9255ff3e",
   "metadata": {},
   "outputs": [],
   "source": [
    "names = ['Fran', 'Jamal', 'Krystal', 'Lee', 'Carlos']"
   ]
  },
  {
   "cell_type": "code",
   "execution_count": null,
   "id": "032b4944",
   "metadata": {},
   "outputs": [],
   "source": [
    "new_dict = dict(zip(names, numbers))"
   ]
  },
  {
   "cell_type": "code",
   "execution_count": null,
   "id": "7c10cd68",
   "metadata": {},
   "outputs": [],
   "source": [
    "new_dict"
   ]
  },
  {
   "cell_type": "code",
   "execution_count": null,
   "id": "b96aba76",
   "metadata": {},
   "outputs": [],
   "source": [
    "names"
   ]
  },
  {
   "cell_type": "code",
   "execution_count": null,
   "id": "63ef9985",
   "metadata": {},
   "outputs": [],
   "source": [
    "names.append('Ash')\n",
    "names"
   ]
  },
  {
   "cell_type": "markdown",
   "id": "3a4b484b",
   "metadata": {},
   "source": [
    "### Itterate through the list of numbers printing each in turn"
   ]
  },
  {
   "cell_type": "code",
   "execution_count": null,
   "id": "3baf5a02",
   "metadata": {},
   "outputs": [],
   "source": [
    "for num in numbers:\n",
    "    print('Number:', num)\n",
    "    "
   ]
  },
  {
   "cell_type": "markdown",
   "id": "11036987",
   "metadata": {},
   "source": [
    "### Find the largest number in a list greater than 0"
   ]
  },
  {
   "cell_type": "code",
   "execution_count": null,
   "id": "20954833",
   "metadata": {},
   "outputs": [],
   "source": [
    "largest = 0\n",
    "\n",
    "for num in numbers:\n",
    "    if num > largest:\n",
    "        largest = num\n",
    "        \n",
    "print(\"The largest number is: \", largest)"
   ]
  },
  {
   "cell_type": "markdown",
   "id": "78190e18",
   "metadata": {},
   "source": [
    "### Use a counter to find the largest number of any list of at least 1 item"
   ]
  },
  {
   "cell_type": "code",
   "execution_count": null,
   "id": "0607f71e",
   "metadata": {},
   "outputs": [],
   "source": [
    "count = 0\n",
    "\n",
    "for num in numbers:\n",
    "    if count == 0:\n",
    "        largest = num\n",
    "        \n",
    "    if num > largest:\n",
    "        largest = num\n",
    "    \n",
    "    count+=1\n",
    "\n",
    "print(\"The largest number is: \", largest)"
   ]
  },
  {
   "cell_type": "markdown",
   "id": "27c2944e",
   "metadata": {},
   "source": [
    "### Read in the schools_clean.csv and look at the resulting dataframe"
   ]
  },
  {
   "cell_type": "code",
   "execution_count": null,
   "id": "3e545dc9",
   "metadata": {},
   "outputs": [],
   "source": [
    "schools = pd.read_csv(\"schools_clean.csv\")"
   ]
  },
  {
   "cell_type": "code",
   "execution_count": null,
   "id": "7b4a7aa7",
   "metadata": {},
   "outputs": [],
   "source": [
    "schools"
   ]
  },
  {
   "cell_type": "markdown",
   "id": "5b249bcb",
   "metadata": {},
   "source": [
    "### Use iterrows to iterate though the dataframe, then, depending on school level, note the population of the highest grade served.\n",
    "### Use a '-1' to note any row that does not work"
   ]
  },
  {
   "cell_type": "code",
   "execution_count": null,
   "id": "e724391e",
   "metadata": {},
   "outputs": [],
   "source": [
    "for index, row in schools.iterrows():\n",
    "    if row.level == \"Elementary School\":\n",
    "        schools.loc[index, 'highest_grade'] = schools.loc[index, 'grade_4']\n",
    "    elif row.level == \"Middle School\":\n",
    "        schools.loc[index, 'highest_grade'] = schools.loc[index, 'grade_8']\n",
    "    elif row.level == \"High School\":\n",
    "        schools.loc[index, \"highest_grade\"] = schools.loc[index, 'grade_12']\n",
    "    else:\n",
    "        schools.loc[index, \"highest_grade\"] = -1"
   ]
  },
  {
   "cell_type": "code",
   "execution_count": null,
   "id": "a3f70448",
   "metadata": {},
   "outputs": [],
   "source": [
    "schools"
   ]
  },
  {
   "cell_type": "markdown",
   "id": "4767c344",
   "metadata": {},
   "source": [
    "### Next we want to use a dictionary to act as a counter too see the frequency of languages used in a set of 100 tweets.   Please note, this is just an example of how, and this could more easily be done with a value_counts()."
   ]
  },
  {
   "cell_type": "code",
   "execution_count": null,
   "id": "4556b2c0",
   "metadata": {},
   "outputs": [],
   "source": [
    "tweets = pd.read_csv('tweets.csv')\n",
    "tweets.head()"
   ]
  },
  {
   "cell_type": "code",
   "execution_count": null,
   "id": "5e481837",
   "metadata": {},
   "outputs": [],
   "source": [
    "tweets.columns"
   ]
  },
  {
   "cell_type": "code",
   "execution_count": null,
   "id": "e7f7ddd8",
   "metadata": {},
   "outputs": [],
   "source": [
    "tweets.lang.value_counts()"
   ]
  },
  {
   "cell_type": "code",
   "execution_count": null,
   "id": "6c372cfd",
   "metadata": {},
   "outputs": [],
   "source": [
    "lang_dict = {}\n",
    "\n",
    "for lang in tweets.lang:\n",
    "    if lang not in lang_dict:\n",
    "        lang_dict[lang] = 1\n",
    "    else:\n",
    "        lang_dict[lang]+=1"
   ]
  },
  {
   "cell_type": "code",
   "execution_count": null,
   "id": "da7f1776",
   "metadata": {
    "scrolled": true
   },
   "outputs": [],
   "source": [
    "lang_dict"
   ]
  },
  {
   "cell_type": "code",
   "execution_count": null,
   "id": "54b698ec",
   "metadata": {},
   "outputs": [],
   "source": []
  },
  {
   "cell_type": "markdown",
   "id": "4118c58d",
   "metadata": {},
   "source": [
    "### Create a function that takes a temperature in Fahrenheit and return that temperature in Celcius"
   ]
  },
  {
   "cell_type": "code",
   "execution_count": null,
   "id": "6e07b9c4",
   "metadata": {},
   "outputs": [],
   "source": [
    "def temp_switch(temp):\n",
    "    \n",
    "    celcius = (temp - 32) * 5/9\n",
    "        \n",
    "    return celcius"
   ]
  },
  {
   "cell_type": "code",
   "execution_count": null,
   "id": "0817ed87",
   "metadata": {},
   "outputs": [],
   "source": [
    "temp_switch(0)"
   ]
  },
  {
   "cell_type": "markdown",
   "id": "7d3c6b23",
   "metadata": {},
   "source": [
    "### Create a function that accepts 2 arguements and give the largest number between 1 and x that evenly goes into y."
   ]
  },
  {
   "cell_type": "code",
   "execution_count": null,
   "id": "99bd8759",
   "metadata": {},
   "outputs": [],
   "source": [
    "def moddy(x,y):\n",
    "    \n",
    "    highest = 0\n",
    "    for i in range(1, x):\n",
    "        \n",
    "        if y%i == 0:\n",
    "            highest = i\n",
    "    \n",
    "    return(highest)\n",
    "        "
   ]
  },
  {
   "cell_type": "markdown",
   "id": "440b4361",
   "metadata": {},
   "source": [
    "### Test our function"
   ]
  },
  {
   "cell_type": "code",
   "execution_count": null,
   "id": "4641bc25",
   "metadata": {},
   "outputs": [],
   "source": [
    "moddy(13, 28)"
   ]
  },
  {
   "cell_type": "markdown",
   "id": "2cabe4d1-f160-494f-892d-06e63d651377",
   "metadata": {},
   "source": [
    "# End of Instruction"
   ]
  },
  {
   "cell_type": "markdown",
   "id": "98cca046-b235-406f-a4be-1576f20c901e",
   "metadata": {},
   "source": [
    "### Read in the hofplayers data"
   ]
  },
  {
   "cell_type": "code",
   "execution_count": null,
   "id": "d1b8e2a6-d41e-4067-8f9d-acafb94742d6",
   "metadata": {},
   "outputs": [],
   "source": []
  },
  {
   "cell_type": "markdown",
   "id": "d66ef8b5-56b9-451b-9015-54ed7c097151",
   "metadata": {},
   "source": [
    "### Create a loop that goes through each row of the dataframe to see if that players birth country and death country were the same.\n",
    "### If they were, then see if the birth state and death state were the same. if they were check to see if the birth city and death city are the same\n",
    "### Each players should be categorized Either: \"Same Country\", \"Same State\", \"Same City\", \"Unknown\""
   ]
  },
  {
   "cell_type": "code",
   "execution_count": null,
   "id": "3bb5bde8-faa8-4587-b948-acad80fa9789",
   "metadata": {},
   "outputs": [],
   "source": []
  },
  {
   "cell_type": "markdown",
   "id": "6859628e-c5de-45c7-a15d-538278ef127a",
   "metadata": {},
   "source": [
    "### Create a counter dictionary that counts the number of player in the hall of fame by state"
   ]
  },
  {
   "cell_type": "code",
   "execution_count": null,
   "id": "422bae27-cd30-43c6-93b5-21a83601175a",
   "metadata": {},
   "outputs": [],
   "source": []
  }
 ],
 "metadata": {
  "kernelspec": {
   "display_name": "Python 3 (ipykernel)",
   "language": "python",
   "name": "python3"
  },
  "language_info": {
   "codemirror_mode": {
    "name": "ipython",
    "version": 3
   },
   "file_extension": ".py",
   "mimetype": "text/x-python",
   "name": "python",
   "nbconvert_exporter": "python",
   "pygments_lexer": "ipython3",
   "version": "3.11.7"
  }
 },
 "nbformat": 4,
 "nbformat_minor": 5
}
