{
 "cells": [
  {
   "cell_type": "markdown",
   "id": "107398b6",
   "metadata": {},
   "source": [
    "The [Tennessee Department of Health](https://www.tn.gov/health/health-program-areas/statistics/health-data/death-statistics.html) published data on number of deaths by cause broken down by county. In this notebook, you'll see how you can make use of for loops and functions to efficiently read in, clean up, and combine data coming from muliple files."
   ]
  },
  {
   "cell_type": "code",
   "execution_count": null,
   "id": "c39b0114",
   "metadata": {},
   "outputs": [],
   "source": [
    "import pandas as pd"
   ]
  },
  {
   "cell_type": "markdown",
   "id": "dae35bd0",
   "metadata": {},
   "source": [
    "The first dataset we'll work with is contained in `TN Deaths Malignant Neoplasms - 2018.xlsx`.\n",
    "\n",
    "If you inspect the file, you'll see that the data is divided up into two tables.\n",
    "\n",
    "First, let's see how we can read in the lefthand table. We can use the `read_excel` function and point it to columns A - G."
   ]
  },
  {
   "cell_type": "code",
   "execution_count": null,
   "id": "f22c9245",
   "metadata": {},
   "outputs": [],
   "source": [
    "neoplasms = pd.read_excel('data/TN Deaths Malignant Neoplasms - 2018.xlsx',\n",
    "             header = 4,\n",
    "             usecols = 'A:G'\n",
    "             )"
   ]
  },
  {
   "cell_type": "code",
   "execution_count": null,
   "id": "e165592d",
   "metadata": {},
   "outputs": [],
   "source": [
    "neoplasms"
   ]
  },
  {
   "cell_type": "markdown",
   "id": "f38fefbe",
   "metadata": {},
   "source": [
    "We don't need the first row and the last few, so we can remove these using `.loc`."
   ]
  },
  {
   "cell_type": "code",
   "execution_count": null,
   "id": "13d0c6c3",
   "metadata": {},
   "outputs": [],
   "source": [
    "neoplasms = neoplasms.loc[1:48]"
   ]
  },
  {
   "cell_type": "code",
   "execution_count": null,
   "id": "e12f6fff",
   "metadata": {},
   "outputs": [],
   "source": [
    "neoplasms"
   ]
  },
  {
   "cell_type": "markdown",
   "id": "e17f2145",
   "metadata": {},
   "source": [
    "Next, let's give the DataFrame better column names."
   ]
  },
  {
   "cell_type": "code",
   "execution_count": null,
   "id": "156158ab",
   "metadata": {},
   "outputs": [],
   "source": [
    "colnames = ['county', 'total_number', 'total_rate', 'white_number', 'white_rate', 'black_number', 'black_rate']\n",
    "neoplasms.columns = colnames"
   ]
  },
  {
   "cell_type": "code",
   "execution_count": null,
   "id": "04b62306",
   "metadata": {},
   "outputs": [],
   "source": [
    "neoplasms.info()"
   ]
  },
  {
   "cell_type": "markdown",
   "id": "efa0e917",
   "metadata": {},
   "source": [
    "We've got a couple of columns being treated as objects rather than as numeric values. We can fix this using the `pd.to_numeric` function. "
   ]
  },
  {
   "cell_type": "code",
   "execution_count": null,
   "id": "f29e1412",
   "metadata": {},
   "outputs": [],
   "source": [
    "# Convert the total_number column to numeric\n",
    "neoplasms['total_number'] = pd.to_numeric(neoplasms['total_number'], errors = 'coerce')\n",
    "\n",
    "# Convert the total_rate column to numeric\n",
    "neoplasms['total_rate'] = pd.to_numeric(neoplasms['total_rate'], errors = 'coerce')\n",
    "\n",
    "# We could continue this for all of the columns, but we can save ourselves some trouble by using a for loop"
   ]
  },
  {
   "cell_type": "markdown",
   "id": "214add0a",
   "metadata": {},
   "source": [
    "Notice that we are using the same setup for each column, with the only thing changing being the columns name. This is the perfect opportunity to utilize a loop to save typing and avoid copy/paste errors."
   ]
  },
  {
   "cell_type": "code",
   "execution_count": null,
   "id": "59372e36",
   "metadata": {},
   "outputs": [],
   "source": [
    "numeric_cols = ['total_number', 'total_rate', 'white_number', 'white_rate',\n",
    "       'black_number', 'black_rate']\n",
    "\n",
    "# Utilize a for loop on the list of numeric columns to convert each "
   ]
  },
  {
   "cell_type": "markdown",
   "id": "53c501ed",
   "metadata": {},
   "source": [
    "Notice that the entire process will be idential for the righthand table with the only piece changing the columns to point the `read_excel` to. This is another opportunity to make use of a for loop. Since we will be reusing this piece of code later on other causes of death, let's switch from calling the dataframe `neoplasms` to a more generic `df`.\n",
    "\n",
    "We'll create a list to store the two resulting DataFrames."
   ]
  },
  {
   "cell_type": "code",
   "execution_count": null,
   "id": "4a1dc02c",
   "metadata": {},
   "outputs": [],
   "source": [
    "# Convert the above to a for loop\n",
    "dfs = []\n"
   ]
  },
  {
   "cell_type": "markdown",
   "id": "7a91bd83",
   "metadata": {},
   "source": [
    "Finally, we can combine our two dataframes into one using `concat`."
   ]
  },
  {
   "cell_type": "code",
   "execution_count": null,
   "id": "fccfc16a",
   "metadata": {},
   "outputs": [],
   "source": [
    "# Combine them together\n"
   ]
  },
  {
   "cell_type": "markdown",
   "id": "19b1c881",
   "metadata": {},
   "source": [
    "We'll keep just one of the value columns, `total_number`. \n",
    "\n",
    "There is also a heart disease dataset that we would like to combine with this one, so let's rename this column to something more descriptive."
   ]
  },
  {
   "cell_type": "code",
   "execution_count": null,
   "id": "d12918d7",
   "metadata": {},
   "outputs": [],
   "source": [
    "neoplasms = neoplasms[['county', 'total_number']].rename(columns = {'total_number': 'neoplasms'})"
   ]
  },
  {
   "cell_type": "markdown",
   "id": "85c26e4d",
   "metadata": {},
   "source": [
    "Now, let's reuse the code block above to read in the heart disease data."
   ]
  },
  {
   "cell_type": "code",
   "execution_count": null,
   "id": "aaa3a814",
   "metadata": {},
   "outputs": [],
   "source": [
    "# Fill this in with code to read in the heart disease data\n"
   ]
  },
  {
   "cell_type": "markdown",
   "id": "6efc7b32",
   "metadata": {},
   "source": [
    "Now, let's combine together the results so that we end up with a column per cause of death."
   ]
  },
  {
   "cell_type": "code",
   "execution_count": null,
   "id": "aa8cc192",
   "metadata": {},
   "outputs": [],
   "source": [
    "# Combine the two dataframes\n"
   ]
  },
  {
   "cell_type": "markdown",
   "id": "b734e0d6",
   "metadata": {},
   "source": [
    "What if we want to pull in all of the data that we have? We could copy and paste the above for loop, changing filenames, but we have so much repetition of the same code, we might be better off utilizing a function. Let's convert the above to a function which returns a cleaned up dataframe."
   ]
  },
  {
   "cell_type": "code",
   "execution_count": null,
   "id": "6c670a21",
   "metadata": {},
   "outputs": [],
   "source": [
    "# Create a function for the above work\n"
   ]
  },
  {
   "cell_type": "markdown",
   "id": "caf744aa",
   "metadata": {},
   "source": [
    "Test it out on the accidents deaths."
   ]
  },
  {
   "cell_type": "code",
   "execution_count": null,
   "id": "b5ab3b55",
   "metadata": {},
   "outputs": [],
   "source": []
  },
  {
   "cell_type": "markdown",
   "id": "bde0e9ae",
   "metadata": {},
   "source": [
    "Since we have a function, we can use this to pull in all of the data we need. If we had a list of filenames, it would make our job easier, and fortunately, the `glob` library can help us out here."
   ]
  },
  {
   "cell_type": "code",
   "execution_count": null,
   "id": "d10ea343",
   "metadata": {},
   "outputs": [],
   "source": [
    "import glob\n",
    "filenames = glob.glob('data/*.xlsx')\n",
    "\n",
    "filenames"
   ]
  },
  {
   "cell_type": "markdown",
   "id": "71477b3a",
   "metadata": {},
   "source": [
    "Now, just make a list of causes to go with each filename."
   ]
  },
  {
   "cell_type": "code",
   "execution_count": null,
   "id": "4d7f8b61",
   "metadata": {},
   "outputs": [],
   "source": [
    "causes = ['diabetes', 'accident', 'cerebrovascular', 'heart_disease', 'malignant_neoplasms']"
   ]
  },
  {
   "cell_type": "markdown",
   "id": "e5040986",
   "metadata": {},
   "source": [
    "Using these two lists and a for loop, we can pull in and clean up all of the needed data."
   ]
  },
  {
   "cell_type": "code",
   "execution_count": null,
   "id": "daa9428e",
   "metadata": {},
   "outputs": [],
   "source": [
    "dfs = []\n",
    "\n",
    "# Loop through the filenames and causes to pull in all of the data"
   ]
  },
  {
   "cell_type": "markdown",
   "id": "5e60ad94",
   "metadata": {},
   "source": [
    "Finally, let's combine all of the resulting dataframes together into one dataframe."
   ]
  },
  {
   "cell_type": "code",
   "execution_count": null,
   "id": "74d85cf0",
   "metadata": {},
   "outputs": [],
   "source": [
    "deaths = dfs[0]\n",
    "\n",
    "for df in dfs[1:]:\n",
    "    deaths = pd.merge(left = deaths, right = df)"
   ]
  },
  {
   "cell_type": "code",
   "execution_count": null,
   "id": "821e45bc",
   "metadata": {},
   "outputs": [],
   "source": [
    "deaths"
   ]
  }
 ],
 "metadata": {
  "kernelspec": {
   "display_name": "Python 3 (ipykernel)",
   "language": "python",
   "name": "python3"
  },
  "language_info": {
   "codemirror_mode": {
    "name": "ipython",
    "version": 3
   },
   "file_extension": ".py",
   "mimetype": "text/x-python",
   "name": "python",
   "nbconvert_exporter": "python",
   "pygments_lexer": "ipython3",
   "version": "3.8.3"
  }
 },
 "nbformat": 4,
 "nbformat_minor": 5
}
