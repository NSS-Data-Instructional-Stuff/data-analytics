{
 "cells": [
  {
   "cell_type": "code",
   "execution_count": null,
   "id": "cfa528db",
   "metadata": {},
   "outputs": [],
   "source": [
    "import pandas as pd\n",
    "import matplotlib.pyplot as plt"
   ]
  },
  {
   "cell_type": "markdown",
   "id": "d846fa92",
   "metadata": {},
   "source": [
    "### Dogecoin"
   ]
  },
  {
   "cell_type": "code",
   "execution_count": null,
   "id": "37493444",
   "metadata": {},
   "outputs": [],
   "source": [
    "doge = pd.read_csv('../data/DOGE-USD.csv')"
   ]
  },
  {
   "cell_type": "code",
   "execution_count": null,
   "id": "857b0b62",
   "metadata": {},
   "outputs": [],
   "source": [
    "doge['Date'] = pd.to_datetime(doge['Date'])\n",
    "\n",
    "doge = doge[['Date', 'Close']]"
   ]
  },
  {
   "cell_type": "code",
   "execution_count": null,
   "id": "4faa2b08",
   "metadata": {},
   "outputs": [],
   "source": [
    "doge[doge.Date >= '04-01-2021'].set_index('Date')['Close'].plot()\n",
    "plt.title('Dogecoin Closing Price')\n",
    "plt.tight_layout()\n",
    "plt.savefig('../images/doge/doge_01.png', dpi = 150);"
   ]
  },
  {
   "cell_type": "code",
   "execution_count": null,
   "id": "4f71717d",
   "metadata": {},
   "outputs": [],
   "source": [
    "doge['rolling_7_day_average'] = doge.rolling('7d', on = 'Date')['Close'].mean()"
   ]
  },
  {
   "cell_type": "code",
   "execution_count": null,
   "id": "5d57f54a",
   "metadata": {},
   "outputs": [],
   "source": [
    "fig, ax = plt.subplots(figsize = (10,6))\n",
    "\n",
    "doge[doge.Date >= '04-01-2021'].set_index('Date')[['Close', 'rolling_7_day_average']].plot(ax = ax)\n",
    "plt.title('Dogecoin Closing Price')\n",
    "plt.tight_layout()\n",
    "plt.savefig('../images/doge/doge_02.png', dpi = 150);"
   ]
  },
  {
   "cell_type": "markdown",
   "id": "7e8c487e",
   "metadata": {},
   "source": [
    "### Davidson County Crashes Data"
   ]
  },
  {
   "cell_type": "code",
   "execution_count": null,
   "id": "f9b0c996",
   "metadata": {},
   "outputs": [],
   "source": [
    "traffic = pd.read_csv('../data/Traffic_Accidents.csv')"
   ]
  },
  {
   "cell_type": "code",
   "execution_count": null,
   "id": "bc289541",
   "metadata": {},
   "outputs": [],
   "source": [
    "traffic['Date and Time'] = pd.to_datetime(traffic['Date and Time'])\n",
    "\n",
    "traffic['date'] = traffic['Date and Time'].dt.date"
   ]
  },
  {
   "cell_type": "code",
   "execution_count": null,
   "id": "d32136bc",
   "metadata": {},
   "outputs": [],
   "source": [
    "plt.figure(figsize = (12,6))\n",
    "traffic.date.value_counts().sort_index().plot()\n",
    "plt.title('Daily Count of Accidents - Davidson County', fontsize = 18)\n",
    "\n",
    "plt.tight_layout()\n",
    "plt.savefig('../images/crashes/dc_crashes01.png', dpi = 150);"
   ]
  },
  {
   "cell_type": "code",
   "execution_count": null,
   "id": "cf39dde7",
   "metadata": {},
   "outputs": [],
   "source": [
    "traffic['Date and Time'] = pd.to_datetime(traffic['Date and Time'])\n",
    "\n",
    "traffic = traffic.sort_values('Date and Time')\n",
    "\n",
    "traffic['total_crashes_30_days'] = (traffic\n",
    "                                    .rolling('30d', on = 'Date and Time')['Accident Number']\n",
    "                                    .count())\n",
    "\n",
    "traffic['rolling_daily_average'] = traffic['total_crashes_30_days'] / 30"
   ]
  },
  {
   "cell_type": "code",
   "execution_count": null,
   "id": "f4e8873c",
   "metadata": {},
   "outputs": [],
   "source": [
    "plt.figure(figsize = (12,6))\n",
    "traffic[traffic['Date and Time'] > '02/01/2020'].set_index('Date and Time')['rolling_daily_average'].plot(color = 'red', label = '30 Day Moving Average')\n",
    "traffic[traffic['Date and Time'] > '02/01/2020'].date.value_counts().sort_index().plot(label = 'Daily Count')\n",
    "plt.title('Daily Count of Accidents - Davidson County', fontsize = 18)\n",
    "plt.legend()\n",
    "plt.tight_layout()\n",
    "plt.savefig('../images/crashes/dc_crashes02.png', dpi = 150);"
   ]
  },
  {
   "cell_type": "code",
   "execution_count": null,
   "id": "b2d91458",
   "metadata": {},
   "outputs": [],
   "source": [
    "traffic_by_precinct = (traffic\n",
    "                       .groupby('Precinct')\n",
    "                       .rolling('30d', on = 'Date and Time')['Accident Number']\n",
    "                       .count()\n",
    "                       .reset_index()\n",
    "                       .set_index('Date and Time')\n",
    "                      )\n",
    "traffic_by_precinct['rolling_daily_average'] = traffic_by_precinct['Accident Number'] / 30"
   ]
  },
  {
   "cell_type": "code",
   "execution_count": null,
   "id": "fec4434a",
   "metadata": {},
   "outputs": [],
   "source": [
    "plt.figure(figsize = (12, 6))\n",
    "\n",
    "for precinct, color in zip(['SOUTH', 'HERMIT', 'MIDTOW', 'NORTH'], ['red', 'blue', 'orange', 'purple']):\n",
    "    traffic_by_precinct[(traffic_by_precinct.index > '02-01-2020') & (traffic_by_precinct.Precinct == precinct)]['rolling_daily_average'].plot(label = precinct, color = color)\n",
    "\n",
    "    plt.annotate(text = precinct,\n",
    "                 xy = ('2021-05-25', traffic_by_precinct[traffic_by_precinct.Precinct == precinct]['rolling_daily_average'].tolist()[-1]),\n",
    "                va = 'center', ha = 'left', fontsize = 14)\n",
    "        \n",
    "xmin, xmax = plt.xlim()\n",
    "plt.xlim(xmin, '2021-07-10')\n",
    "\n",
    "plt.title('30 Day Moving Averge Count of Accidents by Selected Precincts', fontsize = 18)\n",
    "plt.tight_layout()\n",
    "plt.savefig('../images/crashes/dc_crashes03.png', dpi = 150);"
   ]
  }
 ],
 "metadata": {
  "kernelspec": {
   "display_name": "Python 3",
   "language": "python",
   "name": "python3"
  },
  "language_info": {
   "codemirror_mode": {
    "name": "ipython",
    "version": 3
   },
   "file_extension": ".py",
   "mimetype": "text/x-python",
   "name": "python",
   "nbconvert_exporter": "python",
   "pygments_lexer": "ipython3",
   "version": "3.8.3"
  }
 },
 "nbformat": 4,
 "nbformat_minor": 5
}
