{
 "cells": [
  {
   "cell_type": "markdown",
   "id": "8b5b757c",
   "metadata": {},
   "source": [
    "## WeGo Data Introduction"
   ]
  },
  {
   "cell_type": "code",
   "execution_count": null,
   "id": "eda20091",
   "metadata": {},
   "outputs": [],
   "source": [
    "import pandas as pd"
   ]
  },
  {
   "cell_type": "code",
   "execution_count": null,
   "id": "94a27296",
   "metadata": {},
   "outputs": [],
   "source": [
    "wego = pd.read_csv(\"../data/Headway Data, 8-1-2023 to 9-30-2023.csv\")\n",
    "\n",
    "wego.head()"
   ]
  },
  {
   "cell_type": "code",
   "execution_count": null,
   "id": "fd801470",
   "metadata": {},
   "outputs": [],
   "source": [
    "wego.columns"
   ]
  },
  {
   "cell_type": "markdown",
   "id": "9a56c25e",
   "metadata": {},
   "source": [
    "In the data, the bus route can be identified by its ROUTE_ABBR value.  \n",
    "**3:** West End  \n",
    "**7:** Hillsboro  \n",
    "**22:** Bordeaux  \n",
    "**23:** Dickerson Pike  \n",
    "**50:** Charlotte Pike  \n",
    "**52:** Nolensville Pike  \n",
    "**55:** Murfreesboro Pike  \n",
    "**56:** Gallatin Pike"
   ]
  },
  {
   "cell_type": "code",
   "execution_count": null,
   "id": "3633b09a",
   "metadata": {},
   "outputs": [],
   "source": [
    "wego['ROUTE_ABBR'].value_counts().sort_index()"
   ]
  },
  {
   "cell_type": "markdown",
   "id": "8e0afb1b",
   "metadata": {},
   "source": [
    "The trip can be identified by the DATE/CALENDAR_ID plus the TRIP_ID.  \n",
    "**Warning:** The TRIP_ID refers to the route and time but will be used across multiple days.\n",
    "\n",
    "The data contains multiple **time points** for each trip. There are more stops along the route than time points, but the time points are the points with specific scheduled times the bus operators must adhere to.\n",
    "\n",
    "The first stop of a trip has a TRIP_EDGE of 1, the last has a TRIP_EDGE of 2, and the intermediate stops are TRIP_EDGE 0. \n",
    "\n",
    "Here is the first trip in the dataset. It was a Bordeaux route (Route 22), scheduled to start at 4:42:00 and end at 5:10:00."
   ]
  },
  {
   "cell_type": "code",
   "execution_count": null,
   "id": "eda403bc",
   "metadata": {},
   "outputs": [],
   "source": [
    "wego[['DATE', 'CALENDAR_ID', 'TRIP_ID', 'ROUTE_ABBR', 'TIME_POINT_ABBR', 'TRIP_EDGE', 'SCHEDULED_TIME']].loc[:3]"
   ]
  },
  {
   "cell_type": "markdown",
   "id": "efec124a",
   "metadata": {},
   "source": [
    "Note that the same TRIP_ID appears on the following day."
   ]
  },
  {
   "cell_type": "code",
   "execution_count": null,
   "id": "cfbcb2ca",
   "metadata": {},
   "outputs": [],
   "source": [
    "(\n",
    "    wego\n",
    "    .loc[wego['DATE'].astype(str).isin(['2023-08-01', '2023-08-02'])]\n",
    "    .loc[wego['TRIP_ID'] == 345104]\n",
    "    [['DATE', 'ROUTE_ABBR', 'TRIP_ID', 'TIME_POINT_ABBR', 'TRIP_EDGE', 'ROUTE_DIRECTION_NAME', 'SCHEDULED_TIME', 'ROUTE_STOP_SEQUENCE']]\n",
    ")"
   ]
  },
  {
   "cell_type": "markdown",
   "id": "dc96b71e",
   "metadata": {},
   "source": [
    "**Adherence** refers to the difference between scheduled time and the actual time that the bus departs from a stop.\n",
    "\n",
    "A negative value for ADHERENCE indicates that the bus is late, and a positive indicates that the bus is early.\n",
    "\n",
    "Generally, an adherence value less than -6 is considered late, and greater than 1 is considered early, but there are some exceptions. For example, a positive adherence for the end of a trip (TRIP_EDGE 2) is not considered early, since it is not a problem if a bus ends its trip early as long as it didn't pass other timepoints early along the way. You can check whether a trip was considered on-time, early, or late using the ADJUSTED_EARLY_COUNT, ADJUSTED_LATE_COUNT, and ADJUSTED_ONTIME_COUNT columns.\n",
    "\n",
    "Here is an example of a trip where all time points would be considered to be on time. Notice that at the end of the trip, the bus was more than 6 minutes early, but was still counted as on-time since this was a trip edge of 2."
   ]
  },
  {
   "cell_type": "code",
   "execution_count": null,
   "id": "0db64947",
   "metadata": {},
   "outputs": [],
   "source": [
    "(\n",
    "    wego\n",
    "    [[\n",
    "        'DATE', 'CALENDAR_ID', 'TRIP_ID', 'ROUTE_ABBR',\n",
    "        'TIME_POINT_ABBR', 'TRIP_EDGE',\n",
    "        'SCHEDULED_TIME', 'ACTUAL_DEPARTURE_TIME', 'ADHERENCE',\n",
    "        'ADJUSTED_EARLY_COUNT', 'ADJUSTED_LATE_COUNT', 'ADJUSTED_ONTIME_COUNT'\n",
    "    ]]\n",
    "    .loc[:3]\n",
    ")"
   ]
  },
  {
   "cell_type": "markdown",
   "id": "758953de",
   "metadata": {},
   "source": [
    "And one that has one late stop."
   ]
  },
  {
   "cell_type": "code",
   "execution_count": null,
   "id": "91e00bfe",
   "metadata": {},
   "outputs": [],
   "source": [
    "(\n",
    "    wego\n",
    "    [[\n",
    "        'DATE', 'CALENDAR_ID', 'TRIP_ID', 'ROUTE_ABBR',\n",
    "        'TIME_POINT_ABBR', 'TRIP_EDGE',\n",
    "        'SCHEDULED_TIME', 'ACTUAL_DEPARTURE_TIME', 'ADHERENCE',\n",
    "        'ADJUSTED_EARLY_COUNT', 'ADJUSTED_LATE_COUNT', 'ADJUSTED_ONTIME_COUNT'\n",
    "    ]]\n",
    "    .loc[77:79]\n",
    ")"
   ]
  },
  {
   "cell_type": "markdown",
   "id": "89920096",
   "metadata": {},
   "source": [
    "And one which was early."
   ]
  },
  {
   "cell_type": "code",
   "execution_count": null,
   "id": "7b83a32b",
   "metadata": {},
   "outputs": [],
   "source": [
    "(\n",
    "    wego\n",
    "    [[\n",
    "        'DATE', 'CALENDAR_ID', 'TRIP_ID', 'ROUTE_ABBR',\n",
    "        'TIME_POINT_ABBR', 'TRIP_EDGE',\n",
    "        'SCHEDULED_TIME', 'ACTUAL_DEPARTURE_TIME', 'ADHERENCE',\n",
    "        'ADJUSTED_EARLY_COUNT', 'ADJUSTED_LATE_COUNT', 'ADJUSTED_ONTIME_COUNT'\n",
    "    ]]\n",
    "    .loc[11:13]\n",
    ")"
   ]
  },
  {
   "cell_type": "markdown",
   "id": "ea228996",
   "metadata": {},
   "source": [
    "**Headway** is the amount of time between a bus and the prior bus at the same stop. In the dataset, the amount of headway scheduled is contained in the SCHEDULED_HDWY column and indicates the difference between the scheduled time for a particular stop and the scheduled time for the previous bus on that same stop.\n",
    "\n",
    "This dataset contains a column HDWY_DEV, which shows the amount of deviation from the scheduled headway. **Bunching** occurs when there is shorter headway than scheduled, which would appear as a negative HDWY_DEV value. **Gapping** is when there is more headway than scheduled and appears as a positive value in the HDWY_DEV column. Note that you can calculate headway deviation percentage as HDWY_DEV/SCHEDULED_HDWY. \n",
    "\n",
    "The generally accepted range of headway deviation is 50% to 150% of the scheduled headway, so if scheduled headway is 10 minutes, a headway deviation of up to 5 minutes would be acceptable (but not ideal)."
   ]
  },
  {
   "cell_type": "code",
   "execution_count": null,
   "id": "6774ccc0",
   "metadata": {},
   "outputs": [],
   "source": [
    "(\n",
    "    wego\n",
    "    .loc[wego['ROUTE_ABBR'] == 22]\n",
    "    .loc[wego['ROUTE_DIRECTION_NAME'] == 'TO DOWNTOWN']\n",
    "    .loc[wego['TIME_POINT_ABBR'] == 'CV23']\n",
    "    [['DATE', 'TRIP_ID', 'TIME_POINT_ABBR','ROUTE_DIRECTION_NAME', 'TRIP_EDGE', \n",
    "      'SCHEDULED_TIME', 'SCHEDULED_HDWY',\n",
    "      'ACTUAL_DEPARTURE_TIME', 'ACTUAL_HDWY', 'HDWY_DEV'\n",
    "     ]]\n",
    "    .sort_values(['DATE', 'SCHEDULED_TIME'])\n",
    "    .iloc[:5]\n",
    ")"
   ]
  },
  {
   "cell_type": "markdown",
   "id": "ccc3dc48",
   "metadata": {},
   "source": [
    "Two other columns that you've been asked to explore are the DWELL_IN_MINS column and SCHEDULED_LAYOVER_MINUTES, which shows the difference between actual arrival and actual departure time at a time point and the time a bus was scheduled to arrive at the time point and when it is scheduled to leave at the beginning of a trip.\n",
    "\n",
    "Here, we can see the end of the first trip in the dataset and the beginning of the next trip, which goes in the opposite direction."
   ]
  },
  {
   "cell_type": "code",
   "execution_count": null,
   "id": "6351e9b7",
   "metadata": {},
   "outputs": [],
   "source": [
    "wego.loc[3:4, ['DATE', 'TRIP_ID', 'TRIP_EDGE', 'TIME_POINT_ABBR',\n",
    "               'ACTUAL_ARRIVAL_TIME', 'ACTUAL_DEPARTURE_TIME', 'DWELL_IN_MINS', 'SCHEDULED_LAYOVER_MINUTES']]"
   ]
  }
 ],
 "metadata": {
  "kernelspec": {
   "display_name": "Python 3 (ipykernel)",
   "language": "python",
   "name": "python3"
  },
  "language_info": {
   "codemirror_mode": {
    "name": "ipython",
    "version": 3
   },
   "file_extension": ".py",
   "mimetype": "text/x-python",
   "name": "python",
   "nbconvert_exporter": "python",
   "pygments_lexer": "ipython3",
   "version": "3.11.9"
  }
 },
 "nbformat": 4,
 "nbformat_minor": 5
}
