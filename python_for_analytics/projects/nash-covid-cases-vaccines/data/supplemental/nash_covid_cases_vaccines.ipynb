{
 "cells": [
  {
   "cell_type": "code",
   "execution_count": null,
   "metadata": {},
   "outputs": [],
   "source": [
    "import pandas as pd\n",
    "import matplotlib.pyplot as plt\n",
    "import seaborn as sns\n",
    "import plotly.express as px\n",
    "import plotly.graph_objects as go\n",
    "import warnings\n",
    "warnings.filterwarnings('ignore')\n",
    "\n",
    "%matplotlib inline"
   ]
  },
  {
   "cell_type": "markdown",
   "metadata": {},
   "source": [
    "#### Two datasets were created on 4/7/2021\n",
    "- one dataset includes all vaccines administered for all manufacturers (Pfizer, Moderna, Johnson & Johnson)\n",
    "- the other has only vaccines adminstered for two-shot protocol manufacturers (Pfizer and Moderna)\n",
    "- we read both in and then separate out the Johnson & Johnson to tell if the vaccine recipient has been fully vaccinated"
   ]
  },
  {
   "cell_type": "code",
   "execution_count": null,
   "metadata": {},
   "outputs": [],
   "source": [
    "vaccine_all = pd.read_csv('COVID_VACC_CountByZipPerDate_All_04072021.csv')\n",
    "vaccine_all.head(3)"
   ]
  },
  {
   "cell_type": "code",
   "execution_count": null,
   "metadata": {},
   "outputs": [],
   "source": [
    "vaccine_all['VACC_DATE'] = pd.to_datetime(vaccine_all['VACC_DATE'])"
   ]
  },
  {
   "cell_type": "code",
   "execution_count": null,
   "metadata": {},
   "outputs": [],
   "source": [
    "max(vaccine_all['VACC_DATE'] )"
   ]
  },
  {
   "cell_type": "code",
   "execution_count": null,
   "metadata": {},
   "outputs": [],
   "source": [
    "min(vaccine_all['VACC_DATE'] )"
   ]
  },
  {
   "cell_type": "code",
   "execution_count": null,
   "metadata": {},
   "outputs": [],
   "source": [
    "vaccine_noJJ = pd.read_csv('COVID_VACC_CountByZipPerDate_Two_04072021.csv')\n",
    "vaccine_noJJ.head(3)"
   ]
  },
  {
   "cell_type": "code",
   "execution_count": null,
   "metadata": {},
   "outputs": [],
   "source": [
    "vaccine_noJJ['VACC_DATE'] = pd.to_datetime(vaccine_noJJ['VACC_DATE'])"
   ]
  },
  {
   "cell_type": "code",
   "execution_count": null,
   "metadata": {},
   "outputs": [],
   "source": [
    "vaccine_noJJ.info()"
   ]
  },
  {
   "cell_type": "code",
   "execution_count": null,
   "metadata": {},
   "outputs": [],
   "source": [
    "vaccine_all.info()"
   ]
  },
  {
   "cell_type": "code",
   "execution_count": null,
   "metadata": {},
   "outputs": [],
   "source": [
    "vaccine_all.columns = ['count_all', 'vacc_date', 'dose_nbr_all', 'zipcode']"
   ]
  },
  {
   "cell_type": "code",
   "execution_count": null,
   "metadata": {},
   "outputs": [],
   "source": [
    "vaccine_noJJ.columns = ['count_2_shot', 'vacc_date', 'dose_nbr_2_shot', 'zipcode' ]"
   ]
  },
  {
   "cell_type": "markdown",
   "metadata": {},
   "source": [
    "#### First we'll merge the two datasets on date, zipcode, and dose number"
   ]
  },
  {
   "cell_type": "code",
   "execution_count": null,
   "metadata": {},
   "outputs": [],
   "source": [
    "vaccine_calc = pd.merge(vaccine_all, vaccine_noJJ, how = 'outer', \n",
    "                        left_on = ['vacc_date', 'zipcode', 'dose_nbr_all'],\n",
    "                        right_on = ['vacc_date', 'zipcode', 'dose_nbr_2_shot']\n",
    "                       )\n",
    "vaccine_calc.head()"
   ]
  },
  {
   "cell_type": "code",
   "execution_count": null,
   "metadata": {},
   "outputs": [],
   "source": [
    "vaccine_calc.shape"
   ]
  },
  {
   "cell_type": "markdown",
   "metadata": {},
   "source": [
    "#### Creating a column for one-dose or two-dose protocol"
   ]
  },
  {
   "cell_type": "code",
   "execution_count": null,
   "metadata": {},
   "outputs": [],
   "source": [
    "vaccine_calc['protocol'] = ''"
   ]
  },
  {
   "cell_type": "markdown",
   "metadata": {},
   "source": [
    "#### Separating the merged dataframe into first shots and second shots"
   ]
  },
  {
   "cell_type": "code",
   "execution_count": null,
   "metadata": {},
   "outputs": [],
   "source": [
    "second_shots = vaccine_calc.loc[vaccine_calc.dose_nbr_all == 2]\n",
    "print(second_shots.shape)\n",
    "second_shots.head()"
   ]
  },
  {
   "cell_type": "code",
   "execution_count": null,
   "metadata": {},
   "outputs": [],
   "source": [
    "first_shots = vaccine_calc.loc[vaccine_calc.dose_nbr_all == 1]\n",
    "print(first_shots.shape)\n",
    "first_shots.head()"
   ]
  },
  {
   "cell_type": "markdown",
   "metadata": {},
   "source": [
    "#### The second shot rows can be labeled with two-shot protocol"
   ]
  },
  {
   "cell_type": "code",
   "execution_count": null,
   "metadata": {},
   "outputs": [],
   "source": [
    "second_shots.protocol = 'two-shot'\n",
    "second_shots.head(2)"
   ]
  },
  {
   "cell_type": "markdown",
   "metadata": {},
   "source": [
    "#### Comparing the count of first shots from the dataframe with all manufacturers to the one _without_ Johnson & Johnson\n",
    "- if the count for all manufacturers is greater, the difference is the count of J&J vaccines\n",
    "- if the counts are the same, the first shots are for one of the two-shot protocol manufacturers\n",
    "- if the count for all manufacturers is less, this is unexpected and we'll need to decide how to handle those rows"
   ]
  },
  {
   "cell_type": "code",
   "execution_count": null,
   "metadata": {},
   "outputs": [],
   "source": [
    "first_shots.loc[first_shots.count_2_shot.isnull()]"
   ]
  },
  {
   "cell_type": "code",
   "execution_count": null,
   "metadata": {},
   "outputs": [],
   "source": [
    "print('one-shot-protocol:', first_shots.loc[(first_shots.count_all > first_shots.count_2_shot) | (first_shots.count_2_shot.isnull())].shape[0])\n",
    "print('two-shot-protocol:', first_shots.loc[first_shots.count_all == first_shots.count_2_shot].shape[0])\n",
    "print('problem rows:', first_shots.loc[first_shots.count_all < first_shots.count_2_shot].shape[0])"
   ]
  },
  {
   "cell_type": "markdown",
   "metadata": {},
   "source": [
    "#### Pulling the rows that contain J&J to a separate dataframe called `mixed`\n",
    "- the difference between `count_all` and `count_2_shot` is the number of J&J vaccines given\n",
    "- we'll save the ones that aren't mixed to a dataframe called `firsts_for_protocol2`"
   ]
  },
  {
   "cell_type": "code",
   "execution_count": null,
   "metadata": {},
   "outputs": [],
   "source": [
    "firsts_for_protocol2 = first_shots.loc[first_shots.count_all == first_shots.count_2_shot]\n",
    "firsts_for_protocol2['protocol'] = 'two-shot'\n",
    "firsts_for_protocol2.head()"
   ]
  },
  {
   "cell_type": "code",
   "execution_count": null,
   "metadata": {},
   "outputs": [],
   "source": [
    "mixed = first_shots.loc[(first_shots.count_all > first_shots.count_2_shot) | (first_shots.count_2_shot.isnull())]\n",
    "mixed.head()"
   ]
  },
  {
   "cell_type": "code",
   "execution_count": null,
   "metadata": {},
   "outputs": [],
   "source": [
    "mixed['diff'] = mixed.count_all - mixed.count_2_shot\n",
    "mixed.head()"
   ]
  },
  {
   "cell_type": "code",
   "execution_count": null,
   "metadata": {},
   "outputs": [],
   "source": [
    "mixed.vacc_date.min()"
   ]
  },
  {
   "cell_type": "markdown",
   "metadata": {},
   "source": [
    "#### Creating a copy of the mixed dataframe called jj to hold only the Johnson and Johnson stats\n",
    "- update the count for the JJ dataframe to be the diff\n",
    "- populate the protocol column with 'one-shot'"
   ]
  },
  {
   "cell_type": "code",
   "execution_count": null,
   "metadata": {},
   "outputs": [],
   "source": [
    "jj = mixed.copy(deep = True)\n",
    "jj.head()"
   ]
  },
  {
   "cell_type": "markdown",
   "metadata": {},
   "source": [
    "- update the count -- the count_2_shot has the count of two-shot protocol vaccines administered; we'll set this column in our jj copy to represent the number of Johnson & Johnson vaccines given so that the numbers are in the same column when we re-combine the data"
   ]
  },
  {
   "cell_type": "code",
   "execution_count": null,
   "metadata": {},
   "outputs": [],
   "source": [
    "jj['count_2_shot'] = jj['diff']\n",
    "jj['protocol'] = 'one-shot'\n",
    "jj.head()"
   ]
  },
  {
   "cell_type": "markdown",
   "metadata": {},
   "source": [
    "- update the mixed protocol to populate the protocol column with 'two-shot' since we are pulling out the J&J counts elsewhere"
   ]
  },
  {
   "cell_type": "code",
   "execution_count": null,
   "metadata": {},
   "outputs": [],
   "source": [
    "mixed['protocol'] = 'two-shot'"
   ]
  },
  {
   "cell_type": "code",
   "execution_count": null,
   "metadata": {},
   "outputs": [],
   "source": [
    "firsts_for_protocol2.shape"
   ]
  },
  {
   "cell_type": "code",
   "execution_count": null,
   "metadata": {},
   "outputs": [],
   "source": [
    "vacc_protocols = pd.concat([firsts_for_protocol2, mixed, jj, second_shots]).sort_values(['vacc_date', 'zipcode'])\n",
    "vacc_protocols.head(3)"
   ]
  },
  {
   "cell_type": "code",
   "execution_count": null,
   "metadata": {},
   "outputs": [],
   "source": [
    "vacc_protocols.shape"
   ]
  },
  {
   "cell_type": "code",
   "execution_count": null,
   "metadata": {},
   "outputs": [],
   "source": [
    "vacc_protocols = vacc_protocols.drop(columns = ['count_all', 'dose_nbr_all', 'diff'])\n",
    "vacc_protocols.head()"
   ]
  },
  {
   "cell_type": "code",
   "execution_count": null,
   "metadata": {},
   "outputs": [],
   "source": [
    "vacc_protocols.columns = ['vacc_date', 'zipcode', 'count_given', 'dose_nbr', 'protocol']\n",
    "vacc_protocols.sort_values(['vacc_date', 'zipcode'])\n",
    "vacc_protocols.head()"
   ]
  },
  {
   "cell_type": "code",
   "execution_count": null,
   "metadata": {},
   "outputs": [],
   "source": [
    "#vacc_protocols.to_csv('../vaccine_with_protocol.csv', index = False)"
   ]
  },
  {
   "cell_type": "code",
   "execution_count": null,
   "metadata": {},
   "outputs": [],
   "source": []
  }
 ],
 "metadata": {
  "kernelspec": {
   "display_name": "Python 3",
   "language": "python",
   "name": "python3"
  },
  "language_info": {
   "codemirror_mode": {
    "name": "ipython",
    "version": 3
   },
   "file_extension": ".py",
   "mimetype": "text/x-python",
   "name": "python",
   "nbconvert_exporter": "python",
   "pygments_lexer": "ipython3",
   "version": "3.8.5"
  }
 },
 "nbformat": 4,
 "nbformat_minor": 4
}
