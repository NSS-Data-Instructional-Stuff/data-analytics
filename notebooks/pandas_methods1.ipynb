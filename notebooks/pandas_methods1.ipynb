{
 "cells": [
  {
   "cell_type": "markdown",
   "metadata": {},
   "source": [
    "### The Anatomy Of A Dataframe\n",
    "![Dataframe Anatomy](../images/dataframe-anatomy.png)"
   ]
  },
  {
   "cell_type": "markdown",
   "metadata": {},
   "source": [
    "### pandas is a python library for working with dataframes\n",
    "- get familiar with using the [API reference](https://pandas.pydata.org/pandas-docs/stable/reference/index.html#api), which gives information about the many objects, functions and methods for working with dataframes and series\n",
    "\n"
   ]
  },
  {
   "cell_type": "code",
   "execution_count": 2,
   "metadata": {},
   "outputs": [],
   "source": [
    "import pandas as pd\n",
    "import matplotlib.pyplot as plt\n",
    "import seaborn as sns\n",
    "\n",
    "%matplotlib inline"
   ]
  },
  {
   "cell_type": "markdown",
   "metadata": {},
   "source": [
    "### Let's explore these pandas methods, attributes, and accessors\n",
    " - read_csv( )\n",
    " * .shape\n",
    " - .head( )\n",
    " * .tail( )\n",
    " - .columns\n",
    " - .drop( )\n",
    " - .rename( )\n",
    " - .query( )\n",
    " - .loc[ ]\n",
    " - .iloc[ ]\n",
    " - [[ ]]"
   ]
  },
  {
   "cell_type": "markdown",
   "metadata": {},
   "source": [
    "### Read in the schools data, a CSV file, and examine the shape, head, and tail"
   ]
  },
  {
   "cell_type": "code",
   "execution_count": 19,
   "metadata": {},
   "outputs": [
    {
     "data": {
      "text/html": [
       "<div>\n",
       "<style scoped>\n",
       "    .dataframe tbody tr th:only-of-type {\n",
       "        vertical-align: middle;\n",
       "    }\n",
       "\n",
       "    .dataframe tbody tr th {\n",
       "        vertical-align: top;\n",
       "    }\n",
       "\n",
       "    .dataframe thead th {\n",
       "        text-align: right;\n",
       "    }\n",
       "</style>\n",
       "<table border=\"1\" class=\"dataframe\">\n",
       "  <thead>\n",
       "    <tr style=\"text-align: right;\">\n",
       "      <th></th>\n",
       "      <th>level</th>\n",
       "      <th>name</th>\n",
       "      <th>zipcode</th>\n",
       "      <th>grade_k</th>\n",
       "      <th>grade_1</th>\n",
       "      <th>grade_2</th>\n",
       "      <th>grade_3</th>\n",
       "      <th>grade_4</th>\n",
       "      <th>grade_5</th>\n",
       "      <th>grade_6</th>\n",
       "      <th>...</th>\n",
       "      <th>hisp</th>\n",
       "      <th>p_islander</th>\n",
       "      <th>white</th>\n",
       "      <th>male</th>\n",
       "      <th>female</th>\n",
       "      <th>econ_disadv</th>\n",
       "      <th>disabled</th>\n",
       "      <th>limited_eng</th>\n",
       "      <th>lat</th>\n",
       "      <th>lng</th>\n",
       "    </tr>\n",
       "  </thead>\n",
       "  <tbody>\n",
       "    <tr>\n",
       "      <th>0</th>\n",
       "      <td>Elementary School</td>\n",
       "      <td>A. Z. Kelley Elementary</td>\n",
       "      <td>37013</td>\n",
       "      <td>153.0</td>\n",
       "      <td>145.0</td>\n",
       "      <td>149.0</td>\n",
       "      <td>180.0</td>\n",
       "      <td>184.0</td>\n",
       "      <td>NaN</td>\n",
       "      <td>NaN</td>\n",
       "      <td>...</td>\n",
       "      <td>206</td>\n",
       "      <td>1.0</td>\n",
       "      <td>212.0</td>\n",
       "      <td>431</td>\n",
       "      <td>421</td>\n",
       "      <td>261</td>\n",
       "      <td>75.0</td>\n",
       "      <td>298.0</td>\n",
       "      <td>36.021817</td>\n",
       "      <td>-86.658848</td>\n",
       "    </tr>\n",
       "    <tr>\n",
       "      <th>1</th>\n",
       "      <td>Elementary School</td>\n",
       "      <td>Alex Green Elementary</td>\n",
       "      <td>37189</td>\n",
       "      <td>42.0</td>\n",
       "      <td>50.0</td>\n",
       "      <td>44.0</td>\n",
       "      <td>38.0</td>\n",
       "      <td>24.0</td>\n",
       "      <td>NaN</td>\n",
       "      <td>NaN</td>\n",
       "      <td>...</td>\n",
       "      <td>29</td>\n",
       "      <td>1.0</td>\n",
       "      <td>21.0</td>\n",
       "      <td>115</td>\n",
       "      <td>119</td>\n",
       "      <td>153</td>\n",
       "      <td>21.0</td>\n",
       "      <td>25.0</td>\n",
       "      <td>36.252961</td>\n",
       "      <td>-86.832229</td>\n",
       "    </tr>\n",
       "  </tbody>\n",
       "</table>\n",
       "<p>2 rows × 29 columns</p>\n",
       "</div>"
      ],
      "text/plain": [
       "               level                     name  zipcode  grade_k  grade_1  \\\n",
       "0  Elementary School  A. Z. Kelley Elementary    37013    153.0    145.0   \n",
       "1  Elementary School    Alex Green Elementary    37189     42.0     50.0   \n",
       "\n",
       "   grade_2  grade_3  grade_4  grade_5  grade_6  ...  hisp  p_islander  white  \\\n",
       "0    149.0    180.0    184.0      NaN      NaN  ...   206         1.0  212.0   \n",
       "1     44.0     38.0     24.0      NaN      NaN  ...    29         1.0   21.0   \n",
       "\n",
       "   male  female  econ_disadv  disabled  limited_eng        lat        lng  \n",
       "0   431     421          261      75.0        298.0  36.021817 -86.658848  \n",
       "1   115     119          153      21.0         25.0  36.252961 -86.832229  \n",
       "\n",
       "[2 rows x 29 columns]"
      ]
     },
     "execution_count": 19,
     "metadata": {},
     "output_type": "execute_result"
    }
   ],
   "source": [
    "schools = pd.read_csv('../data/schools_clean.csv')\n",
    "schools.head(2)"
   ]
  },
  {
   "cell_type": "code",
   "execution_count": 20,
   "metadata": {},
   "outputs": [
    {
     "data": {
      "text/html": [
       "<div>\n",
       "<style scoped>\n",
       "    .dataframe tbody tr th:only-of-type {\n",
       "        vertical-align: middle;\n",
       "    }\n",
       "\n",
       "    .dataframe tbody tr th {\n",
       "        vertical-align: top;\n",
       "    }\n",
       "\n",
       "    .dataframe thead th {\n",
       "        text-align: right;\n",
       "    }\n",
       "</style>\n",
       "<table border=\"1\" class=\"dataframe\">\n",
       "  <thead>\n",
       "    <tr style=\"text-align: right;\">\n",
       "      <th></th>\n",
       "      <th>level</th>\n",
       "      <th>name</th>\n",
       "      <th>zipcode</th>\n",
       "      <th>grade_k</th>\n",
       "      <th>grade_1</th>\n",
       "      <th>grade_2</th>\n",
       "      <th>grade_3</th>\n",
       "      <th>grade_4</th>\n",
       "      <th>grade_5</th>\n",
       "      <th>grade_6</th>\n",
       "      <th>...</th>\n",
       "      <th>hisp</th>\n",
       "      <th>p_islander</th>\n",
       "      <th>white</th>\n",
       "      <th>male</th>\n",
       "      <th>female</th>\n",
       "      <th>econ_disadv</th>\n",
       "      <th>disabled</th>\n",
       "      <th>limited_eng</th>\n",
       "      <th>lat</th>\n",
       "      <th>lng</th>\n",
       "    </tr>\n",
       "  </thead>\n",
       "  <tbody>\n",
       "    <tr>\n",
       "      <th>165</th>\n",
       "      <td>Middle School</td>\n",
       "      <td>William Henry Oliver Middle</td>\n",
       "      <td>37211</td>\n",
       "      <td>NaN</td>\n",
       "      <td>NaN</td>\n",
       "      <td>NaN</td>\n",
       "      <td>NaN</td>\n",
       "      <td>NaN</td>\n",
       "      <td>231.0</td>\n",
       "      <td>271.0</td>\n",
       "      <td>...</td>\n",
       "      <td>158</td>\n",
       "      <td>3.0</td>\n",
       "      <td>437.0</td>\n",
       "      <td>487</td>\n",
       "      <td>498</td>\n",
       "      <td>252</td>\n",
       "      <td>112.0</td>\n",
       "      <td>231.0</td>\n",
       "      <td>36.020174</td>\n",
       "      <td>-86.712207</td>\n",
       "    </tr>\n",
       "    <tr>\n",
       "      <th>166</th>\n",
       "      <td>Middle School</td>\n",
       "      <td>Wright Middle</td>\n",
       "      <td>37211</td>\n",
       "      <td>NaN</td>\n",
       "      <td>NaN</td>\n",
       "      <td>NaN</td>\n",
       "      <td>NaN</td>\n",
       "      <td>NaN</td>\n",
       "      <td>188.0</td>\n",
       "      <td>216.0</td>\n",
       "      <td>...</td>\n",
       "      <td>534</td>\n",
       "      <td>1.0</td>\n",
       "      <td>104.0</td>\n",
       "      <td>443</td>\n",
       "      <td>367</td>\n",
       "      <td>400</td>\n",
       "      <td>75.0</td>\n",
       "      <td>536.0</td>\n",
       "      <td>36.100109</td>\n",
       "      <td>-86.734133</td>\n",
       "    </tr>\n",
       "  </tbody>\n",
       "</table>\n",
       "<p>2 rows × 29 columns</p>\n",
       "</div>"
      ],
      "text/plain": [
       "             level                         name  zipcode  grade_k  grade_1  \\\n",
       "165  Middle School  William Henry Oliver Middle    37211      NaN      NaN   \n",
       "166  Middle School                Wright Middle    37211      NaN      NaN   \n",
       "\n",
       "     grade_2  grade_3  grade_4  grade_5  grade_6  ...  hisp  p_islander  \\\n",
       "165      NaN      NaN      NaN    231.0    271.0  ...   158         3.0   \n",
       "166      NaN      NaN      NaN    188.0    216.0  ...   534         1.0   \n",
       "\n",
       "     white  male  female  econ_disadv  disabled  limited_eng        lat  \\\n",
       "165  437.0   487     498          252     112.0        231.0  36.020174   \n",
       "166  104.0   443     367          400      75.0        536.0  36.100109   \n",
       "\n",
       "           lng  \n",
       "165 -86.712207  \n",
       "166 -86.734133  \n",
       "\n",
       "[2 rows x 29 columns]"
      ]
     },
     "execution_count": 20,
     "metadata": {},
     "output_type": "execute_result"
    }
   ],
   "source": [
    "schools.tail(2)"
   ]
  },
  {
   "cell_type": "code",
   "execution_count": 21,
   "metadata": {},
   "outputs": [
    {
     "data": {
      "text/plain": [
       "(167, 29)"
      ]
     },
     "execution_count": 21,
     "metadata": {},
     "output_type": "execute_result"
    }
   ],
   "source": [
    "schools.shape"
   ]
  },
  {
   "cell_type": "markdown",
   "metadata": {},
   "source": [
    "#### the `columns` attribute shows the column names for the DataFrame"
   ]
  },
  {
   "cell_type": "code",
   "execution_count": 22,
   "metadata": {},
   "outputs": [
    {
     "data": {
      "text/plain": [
       "Index(['level', 'name', 'zipcode', 'grade_k', 'grade_1', 'grade_2', 'grade_3',\n",
       "       'grade_4', 'grade_5', 'grade_6', 'grade_7', 'grade_8', 'grade_9',\n",
       "       'grade_10', 'grade_11', 'grade_12', 'native_amer', 'asian', 'black',\n",
       "       'hisp', 'p_islander', 'white', 'male', 'female', 'econ_disadv',\n",
       "       'disabled', 'limited_eng', 'lat', 'lng'],\n",
       "      dtype='object')"
      ]
     },
     "execution_count": 22,
     "metadata": {},
     "output_type": "execute_result"
    }
   ],
   "source": [
    "schools.columns"
   ]
  },
  {
   "cell_type": "markdown",
   "metadata": {},
   "source": [
    "#### The `iloc[ ]` accessor gets the specified rows and columns by their _index_ values"
   ]
  },
  {
   "cell_type": "code",
   "execution_count": 23,
   "metadata": {},
   "outputs": [],
   "source": [
    "first_five = schools.iloc[0:5, 0:2]"
   ]
  },
  {
   "cell_type": "code",
   "execution_count": 24,
   "metadata": {},
   "outputs": [
    {
     "data": {
      "text/html": [
       "<div>\n",
       "<style scoped>\n",
       "    .dataframe tbody tr th:only-of-type {\n",
       "        vertical-align: middle;\n",
       "    }\n",
       "\n",
       "    .dataframe tbody tr th {\n",
       "        vertical-align: top;\n",
       "    }\n",
       "\n",
       "    .dataframe thead th {\n",
       "        text-align: right;\n",
       "    }\n",
       "</style>\n",
       "<table border=\"1\" class=\"dataframe\">\n",
       "  <thead>\n",
       "    <tr style=\"text-align: right;\">\n",
       "      <th></th>\n",
       "      <th>level</th>\n",
       "      <th>name</th>\n",
       "    </tr>\n",
       "  </thead>\n",
       "  <tbody>\n",
       "    <tr>\n",
       "      <th>0</th>\n",
       "      <td>Elementary School</td>\n",
       "      <td>A. Z. Kelley Elementary</td>\n",
       "    </tr>\n",
       "    <tr>\n",
       "      <th>1</th>\n",
       "      <td>Elementary School</td>\n",
       "      <td>Alex Green Elementary</td>\n",
       "    </tr>\n",
       "    <tr>\n",
       "      <th>2</th>\n",
       "      <td>Elementary School</td>\n",
       "      <td>Amqui Elementary</td>\n",
       "    </tr>\n",
       "    <tr>\n",
       "      <th>3</th>\n",
       "      <td>Elementary School</td>\n",
       "      <td>Andrew Jackson Elementary</td>\n",
       "    </tr>\n",
       "    <tr>\n",
       "      <th>4</th>\n",
       "      <td>High School</td>\n",
       "      <td>Antioch High School</td>\n",
       "    </tr>\n",
       "  </tbody>\n",
       "</table>\n",
       "</div>"
      ],
      "text/plain": [
       "               level                       name\n",
       "0  Elementary School    A. Z. Kelley Elementary\n",
       "1  Elementary School      Alex Green Elementary\n",
       "2  Elementary School           Amqui Elementary\n",
       "3  Elementary School  Andrew Jackson Elementary\n",
       "4        High School        Antioch High School"
      ]
     },
     "execution_count": 24,
     "metadata": {},
     "output_type": "execute_result"
    }
   ],
   "source": [
    "first_five"
   ]
  },
  {
   "cell_type": "markdown",
   "metadata": {},
   "source": [
    "#### The `loc[ ]` accessor gets the specified rows and columns by their _names_"
   ]
  },
  {
   "cell_type": "code",
   "execution_count": 25,
   "metadata": {},
   "outputs": [
    {
     "data": {
      "text/plain": [
       "(5, 29)"
      ]
     },
     "execution_count": 25,
     "metadata": {},
     "output_type": "execute_result"
    }
   ],
   "source": [
    "middle_schools = schools.loc[schools['level'] == 'Middle School'].head()\n",
    "middle_schools.shape"
   ]
  },
  {
   "cell_type": "code",
   "execution_count": 26,
   "metadata": {},
   "outputs": [
    {
     "data": {
      "text/html": [
       "<div>\n",
       "<style scoped>\n",
       "    .dataframe tbody tr th:only-of-type {\n",
       "        vertical-align: middle;\n",
       "    }\n",
       "\n",
       "    .dataframe tbody tr th {\n",
       "        vertical-align: top;\n",
       "    }\n",
       "\n",
       "    .dataframe thead th {\n",
       "        text-align: right;\n",
       "    }\n",
       "</style>\n",
       "<table border=\"1\" class=\"dataframe\">\n",
       "  <thead>\n",
       "    <tr style=\"text-align: right;\">\n",
       "      <th></th>\n",
       "      <th>level</th>\n",
       "      <th>name</th>\n",
       "      <th>zipcode</th>\n",
       "      <th>grade_k</th>\n",
       "      <th>grade_1</th>\n",
       "      <th>grade_2</th>\n",
       "      <th>grade_3</th>\n",
       "      <th>grade_4</th>\n",
       "      <th>grade_5</th>\n",
       "      <th>grade_6</th>\n",
       "      <th>...</th>\n",
       "      <th>hisp</th>\n",
       "      <th>p_islander</th>\n",
       "      <th>white</th>\n",
       "      <th>male</th>\n",
       "      <th>female</th>\n",
       "      <th>econ_disadv</th>\n",
       "      <th>disabled</th>\n",
       "      <th>limited_eng</th>\n",
       "      <th>lat</th>\n",
       "      <th>lng</th>\n",
       "    </tr>\n",
       "  </thead>\n",
       "  <tbody>\n",
       "    <tr>\n",
       "      <th>5</th>\n",
       "      <td>Middle School</td>\n",
       "      <td>Antioch Middle</td>\n",
       "      <td>37013</td>\n",
       "      <td>NaN</td>\n",
       "      <td>NaN</td>\n",
       "      <td>NaN</td>\n",
       "      <td>NaN</td>\n",
       "      <td>NaN</td>\n",
       "      <td>97.0</td>\n",
       "      <td>251.0</td>\n",
       "      <td>...</td>\n",
       "      <td>407</td>\n",
       "      <td>3.0</td>\n",
       "      <td>104.0</td>\n",
       "      <td>413</td>\n",
       "      <td>407</td>\n",
       "      <td>391</td>\n",
       "      <td>105.0</td>\n",
       "      <td>415.0</td>\n",
       "      <td>36.055379</td>\n",
       "      <td>-86.671830</td>\n",
       "    </tr>\n",
       "    <tr>\n",
       "      <th>6</th>\n",
       "      <td>Middle School</td>\n",
       "      <td>Apollo Middle</td>\n",
       "      <td>37013</td>\n",
       "      <td>NaN</td>\n",
       "      <td>NaN</td>\n",
       "      <td>NaN</td>\n",
       "      <td>NaN</td>\n",
       "      <td>NaN</td>\n",
       "      <td>178.0</td>\n",
       "      <td>214.0</td>\n",
       "      <td>...</td>\n",
       "      <td>428</td>\n",
       "      <td>NaN</td>\n",
       "      <td>137.0</td>\n",
       "      <td>421</td>\n",
       "      <td>414</td>\n",
       "      <td>340</td>\n",
       "      <td>97.0</td>\n",
       "      <td>417.0</td>\n",
       "      <td>36.066878</td>\n",
       "      <td>-86.664070</td>\n",
       "    </tr>\n",
       "    <tr>\n",
       "      <th>7</th>\n",
       "      <td>Middle School</td>\n",
       "      <td>Bellevue Middle</td>\n",
       "      <td>37221</td>\n",
       "      <td>NaN</td>\n",
       "      <td>NaN</td>\n",
       "      <td>NaN</td>\n",
       "      <td>NaN</td>\n",
       "      <td>NaN</td>\n",
       "      <td>144.0</td>\n",
       "      <td>175.0</td>\n",
       "      <td>...</td>\n",
       "      <td>85</td>\n",
       "      <td>1.0</td>\n",
       "      <td>300.0</td>\n",
       "      <td>328</td>\n",
       "      <td>303</td>\n",
       "      <td>211</td>\n",
       "      <td>93.0</td>\n",
       "      <td>67.0</td>\n",
       "      <td>36.070749</td>\n",
       "      <td>-86.934820</td>\n",
       "    </tr>\n",
       "    <tr>\n",
       "      <th>21</th>\n",
       "      <td>Middle School</td>\n",
       "      <td>Creswell Middle School of the Arts</td>\n",
       "      <td>37218</td>\n",
       "      <td>NaN</td>\n",
       "      <td>NaN</td>\n",
       "      <td>NaN</td>\n",
       "      <td>NaN</td>\n",
       "      <td>NaN</td>\n",
       "      <td>88.0</td>\n",
       "      <td>105.0</td>\n",
       "      <td>...</td>\n",
       "      <td>11</td>\n",
       "      <td>NaN</td>\n",
       "      <td>30.0</td>\n",
       "      <td>138</td>\n",
       "      <td>224</td>\n",
       "      <td>163</td>\n",
       "      <td>41.0</td>\n",
       "      <td>4.0</td>\n",
       "      <td>36.196063</td>\n",
       "      <td>-86.837539</td>\n",
       "    </tr>\n",
       "    <tr>\n",
       "      <th>23</th>\n",
       "      <td>Middle School</td>\n",
       "      <td>Croft Middle</td>\n",
       "      <td>37211</td>\n",
       "      <td>NaN</td>\n",
       "      <td>NaN</td>\n",
       "      <td>NaN</td>\n",
       "      <td>NaN</td>\n",
       "      <td>NaN</td>\n",
       "      <td>174.0</td>\n",
       "      <td>214.0</td>\n",
       "      <td>...</td>\n",
       "      <td>379</td>\n",
       "      <td>1.0</td>\n",
       "      <td>207.0</td>\n",
       "      <td>387</td>\n",
       "      <td>363</td>\n",
       "      <td>262</td>\n",
       "      <td>80.0</td>\n",
       "      <td>332.0</td>\n",
       "      <td>36.087475</td>\n",
       "      <td>-86.734148</td>\n",
       "    </tr>\n",
       "  </tbody>\n",
       "</table>\n",
       "<p>5 rows × 29 columns</p>\n",
       "</div>"
      ],
      "text/plain": [
       "            level                                name  zipcode  grade_k  \\\n",
       "5   Middle School                      Antioch Middle    37013      NaN   \n",
       "6   Middle School                       Apollo Middle    37013      NaN   \n",
       "7   Middle School                     Bellevue Middle    37221      NaN   \n",
       "21  Middle School  Creswell Middle School of the Arts    37218      NaN   \n",
       "23  Middle School                        Croft Middle    37211      NaN   \n",
       "\n",
       "    grade_1  grade_2  grade_3  grade_4  grade_5  grade_6  ...  hisp  \\\n",
       "5       NaN      NaN      NaN      NaN     97.0    251.0  ...   407   \n",
       "6       NaN      NaN      NaN      NaN    178.0    214.0  ...   428   \n",
       "7       NaN      NaN      NaN      NaN    144.0    175.0  ...    85   \n",
       "21      NaN      NaN      NaN      NaN     88.0    105.0  ...    11   \n",
       "23      NaN      NaN      NaN      NaN    174.0    214.0  ...   379   \n",
       "\n",
       "    p_islander  white  male  female  econ_disadv  disabled  limited_eng  \\\n",
       "5          3.0  104.0   413     407          391     105.0        415.0   \n",
       "6          NaN  137.0   421     414          340      97.0        417.0   \n",
       "7          1.0  300.0   328     303          211      93.0         67.0   \n",
       "21         NaN   30.0   138     224          163      41.0          4.0   \n",
       "23         1.0  207.0   387     363          262      80.0        332.0   \n",
       "\n",
       "          lat        lng  \n",
       "5   36.055379 -86.671830  \n",
       "6   36.066878 -86.664070  \n",
       "7   36.070749 -86.934820  \n",
       "21  36.196063 -86.837539  \n",
       "23  36.087475 -86.734148  \n",
       "\n",
       "[5 rows x 29 columns]"
      ]
     },
     "execution_count": 26,
     "metadata": {},
     "output_type": "execute_result"
    }
   ],
   "source": [
    "middle_schools.head()"
   ]
  },
  {
   "cell_type": "markdown",
   "metadata": {},
   "source": [
    "#### The `.query( )` method uses an expression to subset the DataFrame"
   ]
  },
  {
   "cell_type": "code",
   "execution_count": 27,
   "metadata": {},
   "outputs": [
    {
     "data": {
      "text/plain": [
       "(78, 29)"
      ]
     },
     "execution_count": 27,
     "metadata": {},
     "output_type": "execute_result"
    }
   ],
   "source": [
    "econ_disadv_over_200 = schools.query('econ_disadv > 200')\n",
    "econ_disadv_over_200.shape"
   ]
  },
  {
   "cell_type": "markdown",
   "metadata": {},
   "source": [
    "#### Use `@` before the variable name to reference an external object in the query expression"
   ]
  },
  {
   "cell_type": "code",
   "execution_count": 28,
   "metadata": {},
   "outputs": [
    {
     "data": {
      "text/plain": [
       "(6, 29)"
      ]
     },
     "execution_count": 28,
     "metadata": {},
     "output_type": "execute_result"
    }
   ],
   "source": [
    "my_list = ['37201', '37203']\n",
    "downtown_schools = schools.query(\"zipcode in @my_list\")\n",
    "downtown_schools.shape"
   ]
  },
  {
   "cell_type": "code",
   "execution_count": 29,
   "metadata": {},
   "outputs": [
    {
     "data": {
      "text/html": [
       "<div>\n",
       "<style scoped>\n",
       "    .dataframe tbody tr th:only-of-type {\n",
       "        vertical-align: middle;\n",
       "    }\n",
       "\n",
       "    .dataframe tbody tr th {\n",
       "        vertical-align: top;\n",
       "    }\n",
       "\n",
       "    .dataframe thead th {\n",
       "        text-align: right;\n",
       "    }\n",
       "</style>\n",
       "<table border=\"1\" class=\"dataframe\">\n",
       "  <thead>\n",
       "    <tr style=\"text-align: right;\">\n",
       "      <th></th>\n",
       "      <th>name</th>\n",
       "      <th>level</th>\n",
       "    </tr>\n",
       "  </thead>\n",
       "  <tbody>\n",
       "    <tr>\n",
       "      <th>0</th>\n",
       "      <td>A. Z. Kelley Elementary</td>\n",
       "      <td>Elementary School</td>\n",
       "    </tr>\n",
       "    <tr>\n",
       "      <th>1</th>\n",
       "      <td>Alex Green Elementary</td>\n",
       "      <td>Elementary School</td>\n",
       "    </tr>\n",
       "  </tbody>\n",
       "</table>\n",
       "</div>"
      ],
      "text/plain": [
       "                      name              level\n",
       "0  A. Z. Kelley Elementary  Elementary School\n",
       "1    Alex Green Elementary  Elementary School"
      ]
     },
     "execution_count": 29,
     "metadata": {},
     "output_type": "execute_result"
    }
   ],
   "source": [
    "school_and_type = schools[['name', 'level']]\n",
    "school_and_type.head(2)"
   ]
  },
  {
   "cell_type": "markdown",
   "metadata": {},
   "source": [
    "#### Drop columns from a DataFrame with the `.drop( )` method; be sure to specify `columns = ` and pass a list of columns to the method"
   ]
  },
  {
   "cell_type": "code",
   "execution_count": 30,
   "metadata": {},
   "outputs": [
    {
     "data": {
      "text/plain": [
       "Index(['level', 'name', 'zipcode', 'grade_k', 'grade_1', 'grade_2', 'grade_3',\n",
       "       'grade_4', 'grade_5', 'grade_6', 'grade_7', 'grade_8', 'grade_9',\n",
       "       'grade_10', 'grade_11', 'grade_12', 'native_amer', 'asian', 'black',\n",
       "       'hisp', 'p_islander', 'white', 'male', 'female', 'econ_disadv',\n",
       "       'disabled', 'limited_eng', 'lat', 'lng'],\n",
       "      dtype='object')"
      ]
     },
     "execution_count": 30,
     "metadata": {},
     "output_type": "execute_result"
    }
   ],
   "source": [
    "schools.columns"
   ]
  },
  {
   "cell_type": "code",
   "execution_count": 36,
   "metadata": {},
   "outputs": [],
   "source": [
    "school_and_gender_counts = schools.drop(columns = ['native_amer', 'asian', 'black', 'hisp', 'p_islander', 'white', \n",
    "                                              'econ_disadv', 'disabled', 'limited_eng', 'lat', 'lng'])"
   ]
  },
  {
   "cell_type": "code",
   "execution_count": 37,
   "metadata": {},
   "outputs": [
    {
     "data": {
      "text/plain": [
       "Index(['level', 'name', 'zipcode', 'grade_k', 'grade_1', 'grade_2', 'grade_3',\n",
       "       'grade_4', 'grade_5', 'grade_6', 'grade_7', 'grade_8', 'grade_9',\n",
       "       'grade_10', 'grade_11', 'grade_12', 'male', 'female'],\n",
       "      dtype='object')"
      ]
     },
     "execution_count": 37,
     "metadata": {},
     "output_type": "execute_result"
    }
   ],
   "source": [
    "school_and_gender_counts.columns"
   ]
  },
  {
   "cell_type": "markdown",
   "metadata": {},
   "source": [
    "#### If the column list is short and you are feeling lazy, you can assign new column names (as a list _with every column in the right order_ ) to the columns attribute"
   ]
  },
  {
   "cell_type": "code",
   "execution_count": 34,
   "metadata": {},
   "outputs": [
    {
     "data": {
      "text/plain": [
       "Index(['name', 'level'], dtype='object')"
      ]
     },
     "execution_count": 34,
     "metadata": {},
     "output_type": "execute_result"
    }
   ],
   "source": [
    "school_and_type.columns"
   ]
  },
  {
   "cell_type": "code",
   "execution_count": 35,
   "metadata": {},
   "outputs": [
    {
     "data": {
      "text/html": [
       "<div>\n",
       "<style scoped>\n",
       "    .dataframe tbody tr th:only-of-type {\n",
       "        vertical-align: middle;\n",
       "    }\n",
       "\n",
       "    .dataframe tbody tr th {\n",
       "        vertical-align: top;\n",
       "    }\n",
       "\n",
       "    .dataframe thead th {\n",
       "        text-align: right;\n",
       "    }\n",
       "</style>\n",
       "<table border=\"1\" class=\"dataframe\">\n",
       "  <thead>\n",
       "    <tr style=\"text-align: right;\">\n",
       "      <th></th>\n",
       "      <th>school</th>\n",
       "      <th>type</th>\n",
       "    </tr>\n",
       "  </thead>\n",
       "  <tbody>\n",
       "    <tr>\n",
       "      <th>0</th>\n",
       "      <td>A. Z. Kelley Elementary</td>\n",
       "      <td>Elementary School</td>\n",
       "    </tr>\n",
       "    <tr>\n",
       "      <th>1</th>\n",
       "      <td>Alex Green Elementary</td>\n",
       "      <td>Elementary School</td>\n",
       "    </tr>\n",
       "    <tr>\n",
       "      <th>2</th>\n",
       "      <td>Amqui Elementary</td>\n",
       "      <td>Elementary School</td>\n",
       "    </tr>\n",
       "    <tr>\n",
       "      <th>3</th>\n",
       "      <td>Andrew Jackson Elementary</td>\n",
       "      <td>Elementary School</td>\n",
       "    </tr>\n",
       "    <tr>\n",
       "      <th>4</th>\n",
       "      <td>Antioch High School</td>\n",
       "      <td>High School</td>\n",
       "    </tr>\n",
       "  </tbody>\n",
       "</table>\n",
       "</div>"
      ],
      "text/plain": [
       "                      school               type\n",
       "0    A. Z. Kelley Elementary  Elementary School\n",
       "1      Alex Green Elementary  Elementary School\n",
       "2           Amqui Elementary  Elementary School\n",
       "3  Andrew Jackson Elementary  Elementary School\n",
       "4        Antioch High School        High School"
      ]
     },
     "execution_count": 35,
     "metadata": {},
     "output_type": "execute_result"
    }
   ],
   "source": [
    "school_and_type.columns = ['school', 'type']\n",
    "school_and_type.head()"
   ]
  },
  {
   "cell_type": "markdown",
   "metadata": {},
   "source": [
    "#### If you only want to change the name of a subset of columns, use the df.rename() function"
   ]
  },
  {
   "cell_type": "code",
   "execution_count": 38,
   "metadata": {},
   "outputs": [
    {
     "data": {
      "text/html": [
       "<div>\n",
       "<style scoped>\n",
       "    .dataframe tbody tr th:only-of-type {\n",
       "        vertical-align: middle;\n",
       "    }\n",
       "\n",
       "    .dataframe tbody tr th {\n",
       "        vertical-align: top;\n",
       "    }\n",
       "\n",
       "    .dataframe thead th {\n",
       "        text-align: right;\n",
       "    }\n",
       "</style>\n",
       "<table border=\"1\" class=\"dataframe\">\n",
       "  <thead>\n",
       "    <tr style=\"text-align: right;\">\n",
       "      <th></th>\n",
       "      <th>type</th>\n",
       "      <th>school</th>\n",
       "      <th>zipcode</th>\n",
       "      <th>grade_k</th>\n",
       "      <th>grade_1</th>\n",
       "      <th>grade_2</th>\n",
       "      <th>grade_3</th>\n",
       "      <th>grade_4</th>\n",
       "      <th>grade_5</th>\n",
       "      <th>grade_6</th>\n",
       "      <th>grade_7</th>\n",
       "      <th>grade_8</th>\n",
       "      <th>grade_9</th>\n",
       "      <th>grade_10</th>\n",
       "      <th>grade_11</th>\n",
       "      <th>grade_12</th>\n",
       "      <th>male</th>\n",
       "      <th>female</th>\n",
       "    </tr>\n",
       "  </thead>\n",
       "  <tbody>\n",
       "    <tr>\n",
       "      <th>0</th>\n",
       "      <td>Elementary School</td>\n",
       "      <td>A. Z. Kelley Elementary</td>\n",
       "      <td>37013</td>\n",
       "      <td>153.0</td>\n",
       "      <td>145.0</td>\n",
       "      <td>149.0</td>\n",
       "      <td>180.0</td>\n",
       "      <td>184.0</td>\n",
       "      <td>NaN</td>\n",
       "      <td>NaN</td>\n",
       "      <td>NaN</td>\n",
       "      <td>NaN</td>\n",
       "      <td>NaN</td>\n",
       "      <td>NaN</td>\n",
       "      <td>NaN</td>\n",
       "      <td>NaN</td>\n",
       "      <td>431</td>\n",
       "      <td>421</td>\n",
       "    </tr>\n",
       "    <tr>\n",
       "      <th>1</th>\n",
       "      <td>Elementary School</td>\n",
       "      <td>Alex Green Elementary</td>\n",
       "      <td>37189</td>\n",
       "      <td>42.0</td>\n",
       "      <td>50.0</td>\n",
       "      <td>44.0</td>\n",
       "      <td>38.0</td>\n",
       "      <td>24.0</td>\n",
       "      <td>NaN</td>\n",
       "      <td>NaN</td>\n",
       "      <td>NaN</td>\n",
       "      <td>NaN</td>\n",
       "      <td>NaN</td>\n",
       "      <td>NaN</td>\n",
       "      <td>NaN</td>\n",
       "      <td>NaN</td>\n",
       "      <td>115</td>\n",
       "      <td>119</td>\n",
       "    </tr>\n",
       "    <tr>\n",
       "      <th>2</th>\n",
       "      <td>Elementary School</td>\n",
       "      <td>Amqui Elementary</td>\n",
       "      <td>37115</td>\n",
       "      <td>84.0</td>\n",
       "      <td>93.0</td>\n",
       "      <td>77.0</td>\n",
       "      <td>87.0</td>\n",
       "      <td>84.0</td>\n",
       "      <td>NaN</td>\n",
       "      <td>NaN</td>\n",
       "      <td>NaN</td>\n",
       "      <td>NaN</td>\n",
       "      <td>NaN</td>\n",
       "      <td>NaN</td>\n",
       "      <td>NaN</td>\n",
       "      <td>NaN</td>\n",
       "      <td>223</td>\n",
       "      <td>235</td>\n",
       "    </tr>\n",
       "    <tr>\n",
       "      <th>3</th>\n",
       "      <td>Elementary School</td>\n",
       "      <td>Andrew Jackson Elementary</td>\n",
       "      <td>37138</td>\n",
       "      <td>95.0</td>\n",
       "      <td>93.0</td>\n",
       "      <td>85.0</td>\n",
       "      <td>88.0</td>\n",
       "      <td>103.0</td>\n",
       "      <td>NaN</td>\n",
       "      <td>NaN</td>\n",
       "      <td>NaN</td>\n",
       "      <td>NaN</td>\n",
       "      <td>NaN</td>\n",
       "      <td>NaN</td>\n",
       "      <td>NaN</td>\n",
       "      <td>NaN</td>\n",
       "      <td>258</td>\n",
       "      <td>238</td>\n",
       "    </tr>\n",
       "    <tr>\n",
       "      <th>4</th>\n",
       "      <td>High School</td>\n",
       "      <td>Antioch High School</td>\n",
       "      <td>37013</td>\n",
       "      <td>NaN</td>\n",
       "      <td>NaN</td>\n",
       "      <td>NaN</td>\n",
       "      <td>NaN</td>\n",
       "      <td>NaN</td>\n",
       "      <td>NaN</td>\n",
       "      <td>NaN</td>\n",
       "      <td>NaN</td>\n",
       "      <td>NaN</td>\n",
       "      <td>499.0</td>\n",
       "      <td>486.0</td>\n",
       "      <td>482.0</td>\n",
       "      <td>448.0</td>\n",
       "      <td>1026</td>\n",
       "      <td>889</td>\n",
       "    </tr>\n",
       "  </tbody>\n",
       "</table>\n",
       "</div>"
      ],
      "text/plain": [
       "                type                     school  zipcode  grade_k  grade_1  \\\n",
       "0  Elementary School    A. Z. Kelley Elementary    37013    153.0    145.0   \n",
       "1  Elementary School      Alex Green Elementary    37189     42.0     50.0   \n",
       "2  Elementary School           Amqui Elementary    37115     84.0     93.0   \n",
       "3  Elementary School  Andrew Jackson Elementary    37138     95.0     93.0   \n",
       "4        High School        Antioch High School    37013      NaN      NaN   \n",
       "\n",
       "   grade_2  grade_3  grade_4  grade_5  grade_6  grade_7  grade_8  grade_9  \\\n",
       "0    149.0    180.0    184.0      NaN      NaN      NaN      NaN      NaN   \n",
       "1     44.0     38.0     24.0      NaN      NaN      NaN      NaN      NaN   \n",
       "2     77.0     87.0     84.0      NaN      NaN      NaN      NaN      NaN   \n",
       "3     85.0     88.0    103.0      NaN      NaN      NaN      NaN      NaN   \n",
       "4      NaN      NaN      NaN      NaN      NaN      NaN      NaN    499.0   \n",
       "\n",
       "   grade_10  grade_11  grade_12  male  female  \n",
       "0       NaN       NaN       NaN   431     421  \n",
       "1       NaN       NaN       NaN   115     119  \n",
       "2       NaN       NaN       NaN   223     235  \n",
       "3       NaN       NaN       NaN   258     238  \n",
       "4     486.0     482.0     448.0  1026     889  "
      ]
     },
     "execution_count": 38,
     "metadata": {},
     "output_type": "execute_result"
    }
   ],
   "source": [
    "school_and_gender_counts = school_and_gender_counts.rename(columns = {'level': 'type', 'name': 'school'})\n",
    "school_and_gender_counts.head()"
   ]
  },
  {
   "cell_type": "code",
   "execution_count": null,
   "metadata": {},
   "outputs": [],
   "source": []
  }
 ],
 "metadata": {
  "kernelspec": {
   "display_name": "Python 3",
   "language": "python",
   "name": "python3"
  },
  "language_info": {
   "codemirror_mode": {
    "name": "ipython",
    "version": 3
   },
   "file_extension": ".py",
   "mimetype": "text/x-python",
   "name": "python",
   "nbconvert_exporter": "python",
   "pygments_lexer": "ipython3",
   "version": "3.7.4"
  }
 },
 "nbformat": 4,
 "nbformat_minor": 2
}
