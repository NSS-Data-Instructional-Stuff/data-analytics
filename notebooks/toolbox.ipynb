{
 "cells": [
  {
   "cell_type": "code",
   "execution_count": 14,
   "metadata": {
    "collapsed": true
   },
   "outputs": [],
   "source": [
    "import pandas as pd\n",
    "import time\n",
    "from IPython.display import Audio\n",
    "import pprint"
   ]
  },
  {
   "cell_type": "code",
   "execution_count": 15,
   "metadata": {
    "collapsed": true
   },
   "outputs": [],
   "source": [
    "import warnings\n",
    "warnings.filterwarnings('ignore')"
   ]
  },
  {
   "cell_type": "markdown",
   "metadata": {},
   "source": [
    "<h1 style = \"color: darkgreen;\">User defined Functions </h1>"
   ]
  },
  {
   "cell_type": "markdown",
   "metadata": {},
   "source": [
    "### Function to return the date and time"
   ]
  },
  {
   "cell_type": "code",
   "execution_count": 16,
   "metadata": {
    "collapsed": true
   },
   "outputs": [],
   "source": [
    "def get_time():\n",
    "    return time.ctime()"
   ]
  },
  {
   "cell_type": "code",
   "execution_count": 17,
   "metadata": {},
   "outputs": [
    {
     "data": {
      "text/plain": [
       "'Wed Aug 21 16:21:09 2019'"
      ]
     },
     "execution_count": 17,
     "metadata": {},
     "output_type": "execute_result"
    }
   ],
   "source": [
    "get_time()"
   ]
  },
  {
   "cell_type": "markdown",
   "metadata": {},
   "source": [
    "### Create some sound URLs"
   ]
  },
  {
   "cell_type": "code",
   "execution_count": 18,
   "metadata": {
    "collapsed": true
   },
   "outputs": [],
   "source": [
    "happy = 'http://www.nebo.edu/learning_resources/ppt/sounds/cheer.wav'\n",
    "sad = 'http://www.talkingwav.com/wp-content/uploads/2017/10/cramer-18.wav'\n",
    "mischievous = 'http://www.fright-bytes.com/spooky-sound-files/spooky-wavs/evil-laugh1.wav'"
   ]
  },
  {
   "cell_type": "markdown",
   "metadata": {},
   "source": [
    "### Function to add sound, depending on our mood"
   ]
  },
  {
   "cell_type": "code",
   "execution_count": 19,
   "metadata": {
    "collapsed": true
   },
   "outputs": [],
   "source": [
    "def get_mood_time(mood):\n",
    "    print(time.ctime())\n",
    "    if mood == 'happy':\n",
    "         return Audio(url = happy, autoplay = True)\n",
    "    elif mood == 'sad':\n",
    "        return Audio(url = sad, autoplay = True)\n",
    "    else:\n",
    "        return Audio(url = mischievous, autoplay = True)  "
   ]
  },
  {
   "cell_type": "code",
   "execution_count": 20,
   "metadata": {},
   "outputs": [
    {
     "name": "stdout",
     "output_type": "stream",
     "text": [
      "Wed Aug 21 16:21:09 2019\n"
     ]
    },
    {
     "data": {
      "text/html": [
       "\n",
       "                <audio controls=\"controls\" autoplay=\"autoplay\">\n",
       "                    <source src=\"http://www.fright-bytes.com/spooky-sound-files/spooky-wavs/evil-laugh1.wav\" type=\"audio/x-wav\" />\n",
       "                    Your browser does not support the audio element.\n",
       "                </audio>\n",
       "              "
      ],
      "text/plain": [
       "<IPython.lib.display.Audio object>"
      ]
     },
     "execution_count": 20,
     "metadata": {},
     "output_type": "execute_result"
    }
   ],
   "source": [
    "get_mood_time('bored')"
   ]
  },
  {
   "cell_type": "markdown",
   "metadata": {},
   "source": [
    "### Function to add sound, depending on mood with default value set for mood"
   ]
  },
  {
   "cell_type": "code",
   "execution_count": 21,
   "metadata": {
    "collapsed": true
   },
   "outputs": [],
   "source": [
    "def get_default_mood_time(mood = 'mischievous'):\n",
    "    print(time.ctime())\n",
    "    if mood == 'happy':\n",
    "         return(Audio(url = happy, autoplay = True))\n",
    "    elif mood == 'sad':\n",
    "        return(Audio(url = sad, autoplay = True))\n",
    "    else:\n",
    "        return(Audio(url = mischievous, autoplay = True))    "
   ]
  },
  {
   "cell_type": "code",
   "execution_count": 22,
   "metadata": {},
   "outputs": [
    {
     "name": "stdout",
     "output_type": "stream",
     "text": [
      "Wed Aug 21 16:21:09 2019\n"
     ]
    },
    {
     "data": {
      "text/html": [
       "\n",
       "                <audio controls=\"controls\" autoplay=\"autoplay\">\n",
       "                    <source src=\"http://www.fright-bytes.com/spooky-sound-files/spooky-wavs/evil-laugh1.wav\" type=\"audio/x-wav\" />\n",
       "                    Your browser does not support the audio element.\n",
       "                </audio>\n",
       "              "
      ],
      "text/plain": [
       "<IPython.lib.display.Audio object>"
      ]
     },
     "execution_count": 22,
     "metadata": {},
     "output_type": "execute_result"
    }
   ],
   "source": [
    "get_default_mood_time()"
   ]
  },
  {
   "cell_type": "markdown",
   "metadata": {},
   "source": [
    "### Simple function to say hello"
   ]
  },
  {
   "cell_type": "code",
   "execution_count": 23,
   "metadata": {
    "collapsed": true
   },
   "outputs": [],
   "source": [
    "def say_hello(name):\n",
    "    print('Hello,', name, '!!!')"
   ]
  },
  {
   "cell_type": "code",
   "execution_count": 24,
   "metadata": {},
   "outputs": [
    {
     "name": "stdout",
     "output_type": "stream",
     "text": [
      "Hello, Taylor !!!\n"
     ]
    }
   ],
   "source": [
    "say_hello('Taylor')"
   ]
  },
  {
   "cell_type": "markdown",
   "metadata": {},
   "source": [
    "### Say hello to multiple people!"
   ]
  },
  {
   "cell_type": "code",
   "execution_count": 25,
   "metadata": {},
   "outputs": [
    {
     "ename": "TypeError",
     "evalue": "say_hello() takes 1 positional argument but 2 were given",
     "output_type": "error",
     "traceback": [
      "\u001b[0;31m---------------------------------------------------------------------------\u001b[0m",
      "\u001b[0;31mTypeError\u001b[0m                                 Traceback (most recent call last)",
      "\u001b[0;32m<ipython-input-25-dab9d4728bd8>\u001b[0m in \u001b[0;36m<module>\u001b[0;34m()\u001b[0m\n\u001b[0;32m----> 1\u001b[0;31m \u001b[0msay_hello\u001b[0m\u001b[0;34m(\u001b[0m\u001b[0;34m'Taylor'\u001b[0m\u001b[0;34m,\u001b[0m \u001b[0;34m'Selam'\u001b[0m\u001b[0;34m)\u001b[0m\u001b[0;34m\u001b[0m\u001b[0;34m\u001b[0m\u001b[0m\n\u001b[0m",
      "\u001b[0;31mTypeError\u001b[0m: say_hello() takes 1 positional argument but 2 were given"
     ]
    }
   ],
   "source": [
    "say_hello('Taylor', 'Selam')"
   ]
  },
  {
   "cell_type": "markdown",
   "metadata": {},
   "source": [
    "### Multiple args - pass a non-keyworded list of variables to a function"
   ]
  },
  {
   "cell_type": "code",
   "execution_count": 26,
   "metadata": {
    "collapsed": true
   },
   "outputs": [],
   "source": [
    "def say_hello(*things):        \n",
    "    for thing in things:\n",
    "        print('Hello,', thing, '!!!')"
   ]
  },
  {
   "cell_type": "code",
   "execution_count": 27,
   "metadata": {},
   "outputs": [
    {
     "name": "stdout",
     "output_type": "stream",
     "text": [
      "Hello, Selam !!!\n",
      "Hello, Ashutosh !!!\n",
      "Hello, Rachael !!!\n",
      "Hello, Sanjay !!!\n"
     ]
    }
   ],
   "source": [
    "say_hello('Selam', 'Ashutosh', 'Rachael', 'Sanjay')"
   ]
  },
  {
   "cell_type": "code",
   "execution_count": 28,
   "metadata": {},
   "outputs": [
    {
     "name": "stdout",
     "output_type": "stream",
     "text": [
      "Hello, Alex !!!\n",
      "Hello, Alicia !!!\n",
      "Hello, Amanuel !!!\n",
      "Hello, Amrit !!!\n",
      "Hello, Andrew !!!\n",
      "Hello, Ashutosh !!!\n",
      "Hello, Bernes !!!\n",
      "Hello, Binu !!!\n",
      "Hello, Branden !!!\n",
      "Hello, Chris !!!\n",
      "Hello, David !!!\n",
      "Hello, Davis !!!\n",
      "Hello, Glenna !!!\n",
      "Hello, Hari !!!\n",
      "Hello, Jerry !!!\n",
      "Hello, John !!!\n",
      "Hello, Michael !!!\n",
      "Hello, Rachael !!!\n",
      "Hello, Selam !!!\n",
      "Hello, Sergey !!!\n",
      "Hello, UrLeaka !!!\n"
     ]
    }
   ],
   "source": [
    "class_names = ['Alex', 'Alicia', 'Amanuel', 'Amrit', 'Andrew', 'Ashutosh', 'Bernes', 'Binu', 'Branden', 'Chris', \n",
    "               'David', 'Davis', 'Glenna', 'Hari', 'Jerry', 'John', 'Michael', 'Rachael', 'Selam', 'Sergey', 'UrLeaka']\n",
    "say_hello(*class_names)"
   ]
  },
  {
   "cell_type": "markdown",
   "metadata": {},
   "source": [
    "### Keyword args - pass a keyworded, variable-length arguments to a function"
   ]
  },
  {
   "cell_type": "code",
   "execution_count": 23,
   "metadata": {
    "collapsed": true
   },
   "outputs": [],
   "source": [
    "def state_caps(**kwargs):\n",
    "    for k, v in kwargs.items():\n",
    "        print('The capital of', k, 'is', v)"
   ]
  },
  {
   "cell_type": "code",
   "execution_count": 24,
   "metadata": {},
   "outputs": [
    {
     "name": "stdout",
     "output_type": "stream",
     "text": [
      "The capital of Alabama is Montgomery\n",
      "The capital of Alaska is Juneau\n",
      "The capital of Arizona is Phoenix\n"
     ]
    }
   ],
   "source": [
    "state_caps(Alabama='Montgomery', Alaska = 'Juneau', Arizona = 'Phoenix')"
   ]
  },
  {
   "cell_type": "code",
   "execution_count": 25,
   "metadata": {},
   "outputs": [
    {
     "name": "stdout",
     "output_type": "stream",
     "text": [
      "The capital of Alabama is Montgomery\n",
      "The capital of Alaska is Juneau\n",
      "The capital of Arizona is Phoenix\n"
     ]
    }
   ],
   "source": [
    "state_dict = {'Alabama':'Montgomery', 'Alaska': 'Juneau', 'Arizona': 'Phoenix'}\n",
    "state_caps(**state_dict)"
   ]
  },
  {
   "cell_type": "markdown",
   "metadata": {},
   "source": [
    "<h1 style = \"color: darkgreen;\">lambda functions</h1>"
   ]
  },
  {
   "cell_type": "markdown",
   "metadata": {},
   "source": [
    "### map(), filter(), reduce()"
   ]
  },
  {
   "cell_type": "code",
   "execution_count": 26,
   "metadata": {
    "collapsed": true
   },
   "outputs": [],
   "source": [
    "insults = ['may the chocolate chips in your cookies always turn out to be raisins', \n",
    "           'may every sock you wear be slightly rotated just enough to be uncomfortable',\n",
    "           'may you forever feel your cell phone vibrating in your pocket even though it is not', \n",
    "           'may every \"empty\" parking space you see in the distance actually contain a motorcycle',\n",
    "           'may your headphones snag on every door handle']"
   ]
  },
  {
   "cell_type": "code",
   "execution_count": 27,
   "metadata": {},
   "outputs": [
    {
     "name": "stdout",
     "output_type": "stream",
     "text": [
      "['Jim, may the chocolate chips in your cookies always turn out to be raisins!!',\n",
      " 'Jim, may every sock you wear be slightly rotated just enough to be uncomfortable!!',\n",
      " 'Jim, may you forever feel your cell phone vibrating in your pocket even though it is not!!',\n",
      " 'Jim, may every \"empty\" parking space you see in the distance actually contain a motorcycle!!',\n",
      " 'Jim, may your headphones snag on every door handle!!']\n"
     ]
    }
   ],
   "source": [
    "name = 'Jim'\n",
    "words = map(lambda insult: name + ', ' + insult + '!!', insults)\n",
    "pprint.pprint(list(words), width = 100)"
   ]
  },
  {
   "cell_type": "code",
   "execution_count": 28,
   "metadata": {},
   "outputs": [
    {
     "name": "stdout",
     "output_type": "stream",
     "text": [
      "['Alex', 'Alicia', 'Amanuel', 'Amrit', 'Andrew', 'Ashutosh']\n"
     ]
    }
   ],
   "source": [
    "A_names = filter(lambda name: name.startswith('A'), class_names)\n",
    "pprint.pprint(list(A_names))"
   ]
  },
  {
   "cell_type": "code",
   "execution_count": 29,
   "metadata": {},
   "outputs": [
    {
     "name": "stdout",
     "output_type": "stream",
     "text": [
      "AlexAliciaAmanuelAmritAndrewAshutoshBernesBinuBrandenChrisDavidDavisGlennaHariJerryJohnMichaelRachaelSelamSergeyUrLeaka\n"
     ]
    }
   ],
   "source": [
    "from functools import reduce\n",
    "\n",
    "names = reduce(lambda name1, name2 : name1 + name2, class_names)\n",
    "# ( ( (Alex+Alicia) + Amanuel) + Amrit).....\n",
    "print(names)"
   ]
  },
  {
   "cell_type": "markdown",
   "metadata": {},
   "source": [
    "<h1 style = \"color: darkgreen;\">Iterators and Iterables </h1>"
   ]
  },
  {
   "cell_type": "markdown",
   "metadata": {},
   "source": [
    "### iter() and next()"
   ]
  },
  {
   "cell_type": "code",
   "execution_count": 35,
   "metadata": {},
   "outputs": [
    {
     "name": "stdout",
     "output_type": "stream",
     "text": [
      "Alex\n",
      "Alicia\n"
     ]
    }
   ],
   "source": [
    "ds2  = iter(class_names)\n",
    "print(next(ds2))\n",
    "print(next(ds2))"
   ]
  },
  {
   "cell_type": "code",
   "execution_count": 33,
   "metadata": {
    "scrolled": true
   },
   "outputs": [
    {
     "name": "stdout",
     "output_type": "stream",
     "text": [
      "Andrew\n",
      "Ashutosh\n",
      "Bernes\n",
      "Binu\n",
      "Branden\n",
      "Chris\n",
      "David\n",
      "Davis\n",
      "Glenna\n",
      "Hari\n",
      "Jerry\n",
      "John\n",
      "Michael\n",
      "Rachael\n",
      "Selam\n",
      "Sergey\n",
      "UrLeaka\n"
     ]
    }
   ],
   "source": [
    "for name in ds2:\n",
    "    print(name)"
   ]
  },
  {
   "cell_type": "code",
   "execution_count": 36,
   "metadata": {},
   "outputs": [
    {
     "name": "stdout",
     "output_type": "stream",
     "text": [
      "Amanuel\n"
     ]
    }
   ],
   "source": [
    "print(next(ds2))"
   ]
  },
  {
   "cell_type": "code",
   "execution_count": 37,
   "metadata": {},
   "outputs": [
    {
     "name": "stdout",
     "output_type": "stream",
     "text": [
      "Alex\n"
     ]
    }
   ],
   "source": [
    "ds2  = iter(class_names)\n",
    "print(next(ds2))"
   ]
  },
  {
   "cell_type": "code",
   "execution_count": 39,
   "metadata": {},
   "outputs": [
    {
     "name": "stdout",
     "output_type": "stream",
     "text": [
      "Amanuel\n"
     ]
    }
   ],
   "source": [
    "print(next(ds2))"
   ]
  },
  {
   "cell_type": "markdown",
   "metadata": {},
   "source": [
    "### enumerate()"
   ]
  },
  {
   "cell_type": "code",
   "execution_count": 40,
   "metadata": {},
   "outputs": [
    {
     "name": "stdout",
     "output_type": "stream",
     "text": [
      "[(0, 'Alex'), (1, 'Alicia'), (2, 'Amanuel'), (3, 'Amrit'), (4, 'Andrew'), (5, 'Ashutosh'), (6, 'Bernes'), (7, 'Binu'), (8, 'Branden'), (9, 'Chris'), (10, 'David'), (11, 'Davis'), (12, 'Glenna'), (13, 'Hari'), (14, 'Jerry'), (15, 'John'), (16, 'Michael'), (17, 'Rachael'), (18, 'Selam'), (19, 'Sergey'), (20, 'UrLeaka')]\n"
     ]
    }
   ],
   "source": [
    "# create a list of tuples for class\n",
    "students = list(enumerate(class_names))\n",
    "print(students)"
   ]
  },
  {
   "cell_type": "code",
   "execution_count": 41,
   "metadata": {},
   "outputs": [
    {
     "data": {
      "text/plain": [
       "'Alex'"
      ]
     },
     "execution_count": 41,
     "metadata": {},
     "output_type": "execute_result"
    }
   ],
   "source": [
    "students[0][1]"
   ]
  },
  {
   "cell_type": "code",
   "execution_count": 42,
   "metadata": {},
   "outputs": [
    {
     "name": "stdout",
     "output_type": "stream",
     "text": [
      "0 (0, 'Alex')\n",
      "1 (1, 'Alicia')\n",
      "2 (2, 'Amanuel')\n",
      "3 (3, 'Amrit')\n",
      "4 (4, 'Andrew')\n",
      "5 (5, 'Ashutosh')\n",
      "6 (6, 'Bernes')\n",
      "7 (7, 'Binu')\n",
      "8 (8, 'Branden')\n",
      "9 (9, 'Chris')\n",
      "10 (10, 'David')\n",
      "11 (11, 'Davis')\n",
      "12 (12, 'Glenna')\n",
      "13 (13, 'Hari')\n",
      "14 (14, 'Jerry')\n",
      "15 (15, 'John')\n",
      "16 (16, 'Michael')\n",
      "17 (17, 'Rachael')\n",
      "18 (18, 'Selam')\n",
      "19 (19, 'Sergey')\n",
      "20 (20, 'UrLeaka')\n"
     ]
    }
   ],
   "source": [
    "for index, value in enumerate(students):\n",
    "    print(index, value)"
   ]
  },
  {
   "cell_type": "code",
   "execution_count": 43,
   "metadata": {},
   "outputs": [
    {
     "name": "stdout",
     "output_type": "stream",
     "text": [
      "[('Alex',\n",
      "  'may the chocolate chips in your cookies always turn out to be raisins'),\n",
      " ('Alicia',\n",
      "  'may every sock you wear be slightly rotated just enough to be '\n",
      "  'uncomfortable'),\n",
      " ('Amanuel',\n",
      "  'may you forever feel your cell phone vibrating in your pocket even though '\n",
      "  'it is not'),\n",
      " ('Amrit',\n",
      "  'may every \"empty\" parking space you see in the distance actually contain a '\n",
      "  'motorcycle'),\n",
      " ('Andrew', 'may your headphones snag on every door handle')]\n"
     ]
    }
   ],
   "source": [
    "student_insults = list(zip(class_names, insults))\n",
    "pprint.pprint(student_insults)"
   ]
  },
  {
   "cell_type": "markdown",
   "metadata": {},
   "source": [
    "### Iterators to load large files"
   ]
  },
  {
   "cell_type": "code",
   "execution_count": 44,
   "metadata": {},
   "outputs": [
    {
     "name": "stdout",
     "output_type": "stream",
     "text": [
      "{'en': 97, 'et': 1, 'und': 2}\n"
     ]
    }
   ],
   "source": [
    "# Initialize an empty dictionary: counts_dict\n",
    "counts_dict ={}\n",
    "\n",
    "# Iterate over the file chunk by chunk\n",
    "for chunk in pd.read_csv('tweets.csv', chunksize = 10):\n",
    "    \n",
    "    # Iterate over the column in DataFrame\n",
    "    for entry in chunk['lang']:\n",
    "        if entry in counts_dict.keys():\n",
    "            counts_dict[entry] += 1\n",
    "        else:\n",
    "            counts_dict[entry] = 1\n",
    "\n",
    "# Print the populated dictionary\n",
    "print(counts_dict)"
   ]
  },
  {
   "cell_type": "markdown",
   "metadata": {},
   "source": [
    "<h1 style = \"color: darkgreen;\" > List Comprehensions </h1>"
   ]
  },
  {
   "cell_type": "code",
   "execution_count": 45,
   "metadata": {},
   "outputs": [
    {
     "name": "stdout",
     "output_type": "stream",
     "text": [
      "['A', 'A', 'A', 'A', 'A', 'A', 'B', 'B', 'B', 'C', 'D', 'D', 'G', 'H', 'J', 'J', 'M', 'R', 'S', 'S', 'U']\n"
     ]
    }
   ],
   "source": [
    "first_initial = [name[0] for name in class_names]\n",
    "print(first_initial)"
   ]
  },
  {
   "cell_type": "code",
   "execution_count": 46,
   "metadata": {},
   "outputs": [
    {
     "name": "stdout",
     "output_type": "stream",
     "text": [
      "['Alex', 'Alicia', 'Amanuel', 'Amrit', 'Andrew', 'Ashutosh', 'UrLeaka']\n"
     ]
    }
   ],
   "source": [
    "vowel_names = [name for name in class_names if name[0] in 'AEIOU']\n",
    "print(vowel_names)"
   ]
  },
  {
   "cell_type": "markdown",
   "metadata": {},
   "source": [
    "<h1 style = \"color: darkgreen;\" > Dict Comprehensions </h1>\n"
   ]
  },
  {
   "cell_type": "code",
   "execution_count": 47,
   "metadata": {},
   "outputs": [
    {
     "name": "stdout",
     "output_type": "stream",
     "text": [
      "{'Alex': 4,\n",
      " 'Alicia': 6,\n",
      " 'Amanuel': 7,\n",
      " 'Amrit': 5,\n",
      " 'Andrew': 6,\n",
      " 'Ashutosh': 8,\n",
      " 'Bernes': 6,\n",
      " 'Binu': 4,\n",
      " 'Branden': 7,\n",
      " 'Chris': 5,\n",
      " 'David': 5,\n",
      " 'Davis': 5,\n",
      " 'Glenna': 6,\n",
      " 'Hari': 4,\n",
      " 'Jerry': 5,\n",
      " 'John': 4,\n",
      " 'Michael': 7,\n",
      " 'Rachael': 7,\n",
      " 'Selam': 5,\n",
      " 'Sergey': 6,\n",
      " 'UrLeaka': 7}\n"
     ]
    }
   ],
   "source": [
    "names_length = {name:len(name) for name in class_names}\n",
    "pprint.pprint(names_length)"
   ]
  },
  {
   "cell_type": "markdown",
   "metadata": {},
   "source": [
    "<h1 style = \"color: darkgreen;\">Generators</h1>\n"
   ]
  },
  {
   "cell_type": "markdown",
   "metadata": {},
   "source": [
    "- looks like a list comprehension with ( ) instead of [ ]\n",
    "- you can iterate through a generator object with `next()`"
   ]
  },
  {
   "cell_type": "code",
   "execution_count": 48,
   "metadata": {
    "collapsed": true
   },
   "outputs": [],
   "source": [
    "vowel_names_gen = (name for name in class_names if name[0] in 'AEIOU')"
   ]
  },
  {
   "cell_type": "code",
   "execution_count": 58,
   "metadata": {},
   "outputs": [
    {
     "name": "stdout",
     "output_type": "stream",
     "text": [
      "Done!\n"
     ]
    }
   ],
   "source": [
    "try:\n",
    "    print(next(vowel_names_gen))\n",
    "except:\n",
    "    print('Done!')   "
   ]
  },
  {
   "cell_type": "code",
   "execution_count": null,
   "metadata": {
    "collapsed": true
   },
   "outputs": [],
   "source": []
  }
 ],
 "metadata": {
  "kernelspec": {
   "display_name": "Python 3",
   "language": "python",
   "name": "python3"
  },
  "language_info": {
   "codemirror_mode": {
    "name": "ipython",
    "version": 3
   },
   "file_extension": ".py",
   "mimetype": "text/x-python",
   "name": "python",
   "nbconvert_exporter": "python",
   "pygments_lexer": "ipython3",
   "version": "3.6.7"
  }
 },
 "nbformat": 4,
 "nbformat_minor": 2
}
