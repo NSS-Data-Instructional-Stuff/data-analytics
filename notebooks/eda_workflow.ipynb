{
 "cells": [
  {
   "cell_type": "code",
   "execution_count": null,
   "metadata": {},
   "outputs": [],
   "source": [
    "import pandas as pd\n",
    "import matplotlib.pyplot as plt\n",
    "import seaborn as sns\n",
    "\n",
    "#this is a python magic function to automatically show matplotlib plots\n",
    "%matplotlib inline      "
   ]
  },
  {
   "cell_type": "markdown",
   "metadata": {},
   "source": [
    "When you are looking at a dataset for the very first time, some good steps are;\n",
    " 1. Look at the top and bottom of the data (sometimes extra headers or footers may have snuck in)\n",
    " 2. Examine the shape of the data, the datatype of each variable (column), and the amount of missing data (NAs)\n",
    " 3. Get `value_counts()` for categorical values\n",
    " 4. Understanding the statistical dimensions (minimum, maximum, mean, median, standard deviation) of numerical values\n",
    " "
   ]
  },
  {
   "cell_type": "code",
   "execution_count": null,
   "metadata": {},
   "outputs": [],
   "source": [
    "people_df = pd.read_csv('../data/people.csv')\n",
    "people_df.head()"
   ]
  },
  {
   "cell_type": "code",
   "execution_count": null,
   "metadata": {},
   "outputs": [],
   "source": [
    "people_df.tail()"
   ]
  },
  {
   "cell_type": "markdown",
   "metadata": {},
   "source": [
    "The `.info()` method gives us datatypes, shape, missingness (and memory usage) all at once!"
   ]
  },
  {
   "cell_type": "code",
   "execution_count": null,
   "metadata": {},
   "outputs": [],
   "source": [
    "people_df.info()"
   ]
  },
  {
   "cell_type": "markdown",
   "metadata": {},
   "source": [
    "Another way you can get a quick sense of missing values is by chaining the `.isnull()` and `.sum()` methods.   \n",
    " - Why does this work?"
   ]
  },
  {
   "cell_type": "code",
   "execution_count": null,
   "metadata": {},
   "outputs": [],
   "source": [
    "people_df.isnull().sum()"
   ]
  },
  {
   "cell_type": "markdown",
   "metadata": {},
   "source": [
    "We can quickly understand the distribution of males and females in the dataset with `value_counts()`"
   ]
  },
  {
   "cell_type": "code",
   "execution_count": null,
   "metadata": {},
   "outputs": [],
   "source": [
    "people_df.sex.value_counts()"
   ]
  },
  {
   "cell_type": "markdown",
   "metadata": {},
   "source": [
    "And count the number of unique names with `.nunique()`"
   ]
  },
  {
   "cell_type": "code",
   "execution_count": null,
   "metadata": {},
   "outputs": [],
   "source": [
    "people_df.name.nunique()"
   ]
  },
  {
   "cell_type": "markdown",
   "metadata": {},
   "source": [
    "To get a lot of statistical detail about the numeric variables in the dataset, use the `.describe()` method"
   ]
  },
  {
   "cell_type": "code",
   "execution_count": null,
   "metadata": {},
   "outputs": [],
   "source": [
    "people_df.describe()"
   ]
  },
  {
   "cell_type": "markdown",
   "metadata": {},
   "source": [
    "`pandas` has a `df.plot()` method that will plot *all* numerical values with a single call, but it is generally not useful to do that!"
   ]
  },
  {
   "cell_type": "code",
   "execution_count": null,
   "metadata": {},
   "outputs": [],
   "source": [
    "people_df.plot();"
   ]
  },
  {
   "cell_type": "markdown",
   "metadata": {},
   "source": [
    "You can use [matplotlib](https://matplotlib.org/3.2.1/api/_as_gen/matplotlib.pyplot.html) and his fancy cousin [seaborn](https://seaborn.pydata.org/) to create more useful plots. Plots are another way you do exploratory data analysis. Plots can show you interesting things in the data."
   ]
  },
  {
   "cell_type": "code",
   "execution_count": null,
   "metadata": {},
   "outputs": [],
   "source": [
    "#set the seaborn theme, style, color palette\n",
    "sns.set(style=\"ticks\", color_codes=True)\n",
    "\n",
    "#make a correlation plot that looks at each variables relationship with every other variable\n",
    "#and plots the distribution of each variable along the diagonal\n",
    "sns.pairplot(people_df);"
   ]
  },
  {
   "cell_type": "markdown",
   "metadata": {},
   "source": [
    "Barplots are a good way to look at discrete numerical and categorical data "
   ]
  },
  {
   "cell_type": "code",
   "execution_count": null,
   "metadata": {},
   "outputs": [],
   "source": [
    "plt.bar('name', 'sibling_count', data = people_df)\n",
    "plt.xticks(rotation = 70)\n",
    "plt.title('Number of Siblings');"
   ]
  },
  {
   "cell_type": "markdown",
   "metadata": {},
   "source": [
    "You make make barplots more readable by sorting the measured values first"
   ]
  },
  {
   "cell_type": "code",
   "execution_count": null,
   "metadata": {},
   "outputs": [],
   "source": [
    "data = people_df.sort_values('sibling_count')\n",
    "plt.bar('name', 'sibling_count', data = data)\n",
    "plt.xticks(rotation = 70)\n",
    "plt.title('Number of Siblings');"
   ]
  },
  {
   "cell_type": "markdown",
   "metadata": {},
   "source": [
    "If you plot a numerical value without realizing it is discrete and not continuous, that fact might not be obvious at first."
   ]
  },
  {
   "cell_type": "code",
   "execution_count": null,
   "metadata": {},
   "outputs": [],
   "source": [
    "plt.plot('name', 'birth_order', marker = 'o', linestyle = 'none', data = people_df)\n",
    "plt.xticks(rotation = 70);"
   ]
  },
  {
   "cell_type": "markdown",
   "metadata": {},
   "source": [
    "Sorting the dataset according to the numerical data *before* plotting will make it obvious that you have discrete values!"
   ]
  },
  {
   "cell_type": "code",
   "execution_count": null,
   "metadata": {
    "scrolled": true
   },
   "outputs": [],
   "source": [
    "data = people_df.sort_values('birth_order')\n",
    "plt.plot('name', 'birth_order', marker = 'o', linestyle = 'none', data = data)\n",
    "plt.xticks(rotation = 70)\n",
    "plt.yticks([0, 1, 2, 3, 4, 5])\n",
    "plt.title('Birth Order');"
   ]
  },
  {
   "cell_type": "markdown",
   "metadata": {},
   "source": [
    "A histogram is often the first choice for visualizing the distribution of a continuous variable. Here's a histogram of the BMI values. You can adjust the number of bins with the `bins` argument."
   ]
  },
  {
   "cell_type": "code",
   "execution_count": null,
   "metadata": {},
   "outputs": [],
   "source": [
    "plt.hist('bmi', bins = 6, data = people_df);"
   ]
  },
  {
   "cell_type": "markdown",
   "metadata": {},
   "source": [
    "Scatterplots are useful for plotting two continuous numerical variables to examine their relationship. In the plot below you can clearly see that height and weight are related in our people data."
   ]
  },
  {
   "cell_type": "code",
   "execution_count": null,
   "metadata": {},
   "outputs": [],
   "source": [
    "plt.scatter('height', 'weight', data = people_df)\n",
    "plt.xlabel('height in inches')\n",
    "plt.ylabel('weight in pounds');"
   ]
  },
  {
   "cell_type": "markdown",
   "metadata": {},
   "source": [
    "The relationship between weight and BMI is a little less clear in the next plot."
   ]
  },
  {
   "cell_type": "code",
   "execution_count": null,
   "metadata": {},
   "outputs": [],
   "source": [
    "plt.scatter('weight', 'bmi', data = people_df)\n",
    "plt.xlabel('weight in pounds')\n",
    "plt.ylabel('BMI');"
   ]
  },
  {
   "cell_type": "markdown",
   "metadata": {},
   "source": [
    "But there are ways you can make this plot more useful. \n",
    " - add a line to show where BMI is considered to indicate `overweight` and `obese`\n",
    " - add annotation to make it clear what theses lines show"
   ]
  },
  {
   "cell_type": "code",
   "execution_count": null,
   "metadata": {},
   "outputs": [],
   "source": [
    "plt.figure(figsize=(10, 6))\n",
    "plt.scatter('weight', 'bmi', data = people_df)\n",
    "plt.hlines(y=25, xmin = 0, xmax = 250, color = 'orange')\n",
    "plt.hlines(y=30, xmin = 0, xmax = 250, color = 'red')\n",
    "plt.xlim(0, 250)\n",
    "plt.ylim(0, 34)\n",
    "plt.annotate(s = 'overweight', xy = (0, 25))\n",
    "plt.annotate(s = 'obese', xy = (0, 30))\n",
    "\n",
    "plt.xlabel('weight in pounds')\n",
    "\n",
    "plt.ylabel('BMI');"
   ]
  },
  {
   "cell_type": "markdown",
   "metadata": {},
   "source": [
    "Boxplots also give you a lot of information about a continuous variable in your dataset. The middle line through the box indicates the median value. The top and botton sides of the box are the 75th and 25th percentiles (3rd and 4th quartiles). The bars above and below the box (called whiskers) indicated the bounds for the upper and lower extremes of the distribution. Any points (values) beyond the whiskers are considered outliers."
   ]
  },
  {
   "cell_type": "markdown",
   "metadata": {},
   "source": [
    "With seaborn, creating a boxplot is as easy as passing the variable to examine to the `y` argument."
   ]
  },
  {
   "cell_type": "code",
   "execution_count": null,
   "metadata": {},
   "outputs": [],
   "source": [
    "sns.boxplot(y=people_df.weight);"
   ]
  },
  {
   "cell_type": "markdown",
   "metadata": {},
   "source": [
    "You can easily compare distributions between categories by specifying that category variable as `x` in a seaborn boxplot. Look next at how the distribution of weight varies by sex."
   ]
  },
  {
   "cell_type": "code",
   "execution_count": null,
   "metadata": {},
   "outputs": [],
   "source": [
    "sns.boxplot(y=people_df.weight, x = people_df.sex, )\n",
    "plt.title('distribution of weights by sex');\n",
    "#plt.xlabel('')"
   ]
  },
  {
   "cell_type": "markdown",
   "metadata": {},
   "source": [
    "Finally, take a look at a few more kinds of seaborn plots that might help you understand the data."
   ]
  },
  {
   "cell_type": "markdown",
   "metadata": {},
   "source": [
    "Violin plots combine aspects of a boxplot and histogram."
   ]
  },
  {
   "cell_type": "code",
   "execution_count": null,
   "metadata": {},
   "outputs": [],
   "source": [
    "sns.violinplot(y=people_df.weight, x = people_df.sex)\n",
    "plt.title('distribution of weights by sex')\n",
    "plt.xlabel('');"
   ]
  },
  {
   "cell_type": "markdown",
   "metadata": {},
   "source": [
    "Remember the plot of birth orders above? A better plot choice for exploring those values would have been a strip plot. The `jitter` argument tells seaborn whether you want the points randomly moved off center. Below is a stripplot of heights by sex without jitter."
   ]
  },
  {
   "cell_type": "code",
   "execution_count": null,
   "metadata": {},
   "outputs": [],
   "source": [
    "sns.stripplot(x=people_df.sex, y=people_df.height, jitter = False) \n",
    "plt.title('People Heights by Sex');"
   ]
  },
  {
   "cell_type": "markdown",
   "metadata": {},
   "source": [
    "A swarm plot is just a strip plot with jitter automatically added!"
   ]
  },
  {
   "cell_type": "code",
   "execution_count": null,
   "metadata": {},
   "outputs": [],
   "source": [
    "sns.swarmplot(x=people_df.sex, y=people_df.height);\n",
    "plt.title('People Heights by Sex');"
   ]
  },
  {
   "cell_type": "code",
   "execution_count": null,
   "metadata": {},
   "outputs": [],
   "source": []
  }
 ],
 "metadata": {
  "kernelspec": {
   "display_name": "Python 3",
   "language": "python",
   "name": "python3"
  },
  "language_info": {
   "codemirror_mode": {
    "name": "ipython",
    "version": 3
   },
   "file_extension": ".py",
   "mimetype": "text/x-python",
   "name": "python",
   "nbconvert_exporter": "python",
   "pygments_lexer": "ipython3",
   "version": "3.7.4"
  }
 },
 "nbformat": 4,
 "nbformat_minor": 2
}
