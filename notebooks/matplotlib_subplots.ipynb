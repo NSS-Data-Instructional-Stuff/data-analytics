{
 "cells": [
  {
   "cell_type": "markdown",
   "metadata": {},
   "source": [
    "### Matplotlib subplots demo - working with axes and figures\n",
    "https://matplotlib.org/gallery/subplots_axes_and_figures/subplots_demo.html"
   ]
  },
  {
   "cell_type": "code",
   "execution_count": null,
   "metadata": {},
   "outputs": [],
   "source": [
    "import matplotlib.pyplot as plt\n",
    "import numpy as np\n",
    "import geopandas as gpd\n",
    "\n",
    "%matplotlib inline"
   ]
  },
  {
   "cell_type": "markdown",
   "metadata": {},
   "source": [
    "### First, let's create some data to plot"
   ]
  },
  {
   "cell_type": "code",
   "execution_count": null,
   "metadata": {},
   "outputs": [],
   "source": [
    "x = np.linspace(0, 2 * np.pi, 400)\n",
    "y = np.sin(x ** 2)"
   ]
  },
  {
   "cell_type": "code",
   "execution_count": null,
   "metadata": {},
   "outputs": [],
   "source": [
    "print(len(x))\n",
    "print(type(x))"
   ]
  },
  {
   "cell_type": "code",
   "execution_count": null,
   "metadata": {},
   "outputs": [],
   "source": [
    "print(len(y))\n",
    "print(type(y))"
   ]
  },
  {
   "cell_type": "markdown",
   "metadata": {},
   "source": [
    "#### One figure and one subplot (ax) - this returns a tuple (fig, ax) and we see the default fig size and number of axes"
   ]
  },
  {
   "cell_type": "code",
   "execution_count": null,
   "metadata": {},
   "outputs": [],
   "source": [
    "plt.subplots()"
   ]
  },
  {
   "cell_type": "markdown",
   "metadata": {},
   "source": [
    "#### Next _unpack_ the tuple returned by `plt.subplots()` into two variables\n",
    " - fig\n",
    " - ax   \n",
    "\n",
    "#### You can specify the `figsize` as an argument to `plt.subplots()` to set the dimensions of the plotting area\n",
    "##### Remember `ax` refers to a plot within the plotting area (or `fig`) \n",
    " - you can use it in the way you would use `plt` for a simple plot"
   ]
  },
  {
   "cell_type": "code",
   "execution_count": null,
   "metadata": {},
   "outputs": [],
   "source": [
    "fig, ax = plt.subplots(figsize=(6, 4))\n",
    "ax.plot(x, y)\n",
    "ax.set_title('Simple plot');"
   ]
  },
  {
   "cell_type": "markdown",
   "metadata": {},
   "source": [
    "### Two subplots with a shared x-axis\n",
    "\n",
    "#### This time you will unpack fig and ax into `f` (figure: the plotting area) and `ax_array` an array of axes (plots). You will pass 2 arguments to `plt.subplots()` \n",
    "- `nrows = 2` to specify 2 subplots in 2 rows \n",
    "- and `sharex=True` to tell matplotlib that the plots will _share_ a single x-axis"
   ]
  },
  {
   "cell_type": "code",
   "execution_count": null,
   "metadata": {},
   "outputs": [],
   "source": [
    "f, ax_array = plt.subplots(nrows = 2, sharex=True)\n",
    "f.suptitle('Sharing X axis')\n",
    "ax_array[0].plot(x, y)\n",
    "ax_array[1].scatter(x, y);"
   ]
  },
  {
   "cell_type": "markdown",
   "metadata": {},
   "source": [
    "### Two subplots with a shared y-axis \n",
    "#### This time your plots will be to drawn in 1 row and 2 columns.    \n",
    "#### Notice you are unpacking the axes into a tuple with the names specified this time (`ax1` and `ax2`)."
   ]
  },
  {
   "cell_type": "code",
   "execution_count": null,
   "metadata": {},
   "outputs": [],
   "source": [
    "f, (ax1, ax2) = plt.subplots(nrows = 1, ncols = 2, sharey=True)\n",
    "f.suptitle('Sharing Y axis')\n",
    "ax1.plot(x, y)\n",
    "ax2.scatter(x, y);"
   ]
  },
  {
   "cell_type": "markdown",
   "metadata": {},
   "source": [
    "### Change the example above to plot the scatterplot on the left and the line plot on the right?\n",
    "\n",
    "#### Also, notice how matplotlib has retained the figsize specified in the first plot.\n",
    " - Change the figure size to be 8 x 6 now."
   ]
  },
  {
   "cell_type": "code",
   "execution_count": null,
   "metadata": {},
   "outputs": [],
   "source": []
  },
  {
   "cell_type": "markdown",
   "metadata": {},
   "source": [
    "### Three subplots sharing both the x and y axes\n",
    "\n",
    "#### In this example, we unpack `plt.subplots()` into `f` (the figure) and `axarr` an array of the axes.\n",
    " - plot the three sublots so that each is in its own row\n",
    " - set `sharex` and `sharey` to true to have a single (shared) x axis and a single (shared) y axis"
   ]
  },
  {
   "cell_type": "code",
   "execution_count": null,
   "metadata": {},
   "outputs": [],
   "source": [
    "f, axarr = plt.subplots(nrows = 3, sharex=True, sharey=True)\n",
    "f.suptitle('Sharing both axes')\n",
    "axarr[0].plot(x, y)\n",
    "axarr[1].scatter(x, y)\n",
    "axarr[2].scatter(x, 2 * y ** 2 - 1, color='r');\n",
    "\n",
    "# Bring subplots close to each other.\n",
    "#f.subplots_adjust(hspace=0)\n",
    "\n",
    "# # Hide x labels and tick labels for all but bottom plot.\n",
    "# for ax in axarr:\n",
    "#     ax.label_outer();"
   ]
  },
  {
   "cell_type": "markdown",
   "metadata": {},
   "source": [
    "### Creating plots in a grid with shared row and column axes\n",
    "\n",
    "#### Plot 4 sublots in a 2 x 2 grid\n",
    " - unpack `plt.subplots()` into `f` and a tuple with the four axes, paired row-wise\n",
    " - set `sharex = col` to share an x aaxis for each column in the grid\n",
    " - set `sharey = row` to share a y axis for each row in the grid"
   ]
  },
  {
   "cell_type": "code",
   "execution_count": null,
   "metadata": {},
   "outputs": [],
   "source": [
    "f, ([ax1, ax2], [ax3, ax4]) = plt.subplots(2, 2, sharex='col', sharey='row')\n",
    "f.suptitle('Sharing x per column, y per row')\n",
    "ax1.plot(x, y)\n",
    "ax2.scatter(x, y)\n",
    "ax3.scatter(x, 2 * y ** 2 - 1, color='r')\n",
    "ax4.plot(x, 2 * y ** 2 - 1, color='r');"
   ]
  },
  {
   "cell_type": "markdown",
   "metadata": {},
   "source": [
    "#### Creating new data to demo `ax.twinx()`\n",
    "- in general avoid dual axes using them is the best way to show something in the data!!"
   ]
  },
  {
   "cell_type": "code",
   "execution_count": null,
   "metadata": {},
   "outputs": [],
   "source": [
    "t = np.arange(0.01, 10.0, 0.01)\n",
    "data1 = np.exp(t)\n",
    "data2 = np.sin(2 * np.pi * t)"
   ]
  },
  {
   "cell_type": "markdown",
   "metadata": {},
   "source": [
    "#### First we'll plot `data1` in red "
   ]
  },
  {
   "cell_type": "code",
   "execution_count": null,
   "metadata": {},
   "outputs": [],
   "source": [
    "fig, ax1 = plt.subplots()\n",
    "\n",
    "color = 'red'\n",
    "ax1.set_xlabel('time (s)')\n",
    "ax1.set_ylabel('exp', color=color)\n",
    "ax1.plot(t, data1, color=color)\n",
    "ax1.tick_params(axis='y', labelcolor=color);"
   ]
  },
  {
   "cell_type": "markdown",
   "metadata": {},
   "source": [
    "#### Next we plot it again and add the second plot from `data2` in blue"
   ]
  },
  {
   "cell_type": "code",
   "execution_count": null,
   "metadata": {},
   "outputs": [],
   "source": [
    "fig, ax1 = plt.subplots()\n",
    "\n",
    "color = 'red'\n",
    "ax1.set_xlabel('time (s)')\n",
    "ax1.set_ylabel('exp', color=color)\n",
    "ax1.plot(t, data1, color=color)\n",
    "ax1.tick_params(axis='y', labelcolor=color)\n",
    "\n",
    "ax2 = ax1.twinx()  # instantiate a second axes that shares the same x-axis\n",
    "\n",
    "color2 = 'blue'\n",
    "ax2.set_ylabel('sin', color=color2)  # we already handled the x-label with ax1\n",
    "ax2.plot(t, data2, color=color2)\n",
    "ax2.tick_params(axis='y', labelcolor=color2)\n",
    "\n",
    "fig.tight_layout();  # otherwise the right y-label is slightly clipped"
   ]
  },
  {
   "cell_type": "markdown",
   "metadata": {},
   "source": [
    "#### `matplotlib.pyplot` is the plotting library underlying `pandas` plots and `geopandas` plots"
   ]
  },
  {
   "cell_type": "code",
   "execution_count": null,
   "metadata": {},
   "outputs": [],
   "source": [
    "school_districts = gpd.read_file('data/school_districts.geojson')\n",
    "school_districts.head(2)"
   ]
  },
  {
   "cell_type": "markdown",
   "metadata": {},
   "source": [
    "### First plot the school districts with no polishing"
   ]
  },
  {
   "cell_type": "code",
   "execution_count": null,
   "metadata": {},
   "outputs": [],
   "source": [
    "school_districts.plot();"
   ]
  },
  {
   "cell_type": "markdown",
   "metadata": {},
   "source": [
    "### Next color the polygons according to the `district`\n",
    " - set the column argument = to a column in the dataset you want to color by (here we choose `district`)"
   ]
  },
  {
   "cell_type": "code",
   "execution_count": null,
   "metadata": {},
   "outputs": [],
   "source": [
    "school_districts.plot(column = 'district');"
   ]
  },
  {
   "cell_type": "markdown",
   "metadata": {},
   "source": [
    "### You can make the colors a bit calmer \n",
    " - to define distinct regions (which are categorical) you want a [qualitative colormap](https://matplotlib.org/3.1.0/tutorials/colors/colormaps.html)"
   ]
  },
  {
   "cell_type": "code",
   "execution_count": null,
   "metadata": {},
   "outputs": [],
   "source": [
    "school_districts.plot(column = 'district', cmap = 'Set3');"
   ]
  },
  {
   "cell_type": "markdown",
   "metadata": {},
   "source": [
    "### To set `figsize()` you can add that argument to your call to `.plot()`"
   ]
  },
  {
   "cell_type": "code",
   "execution_count": null,
   "metadata": {},
   "outputs": [],
   "source": [
    "school_districts.plot(column = 'district', cmap = 'Set3', figsize = (8,8));"
   ]
  },
  {
   "cell_type": "markdown",
   "metadata": {},
   "source": [
    "### To perform further tweaking with more control we can switch to the syntax that uses `fig` and `ax`"
   ]
  },
  {
   "cell_type": "code",
   "execution_count": null,
   "metadata": {},
   "outputs": [],
   "source": [
    "fig, ax = plt.subplots(figsize = (10,10))\n",
    "school_districts.plot(ax = ax, column = 'district', cmap = 'Set3');"
   ]
  },
  {
   "cell_type": "markdown",
   "metadata": {},
   "source": [
    "### We can add a legend by passing in `legend = True` to `.plot()` "
   ]
  },
  {
   "cell_type": "code",
   "execution_count": null,
   "metadata": {},
   "outputs": [],
   "source": [
    "fig, ax = plt.subplots(figsize = (10,10))\n",
    "school_districts.plot(ax = ax, column = 'district', \n",
    "                      cmap = 'Set3', legend = True);"
   ]
  },
  {
   "cell_type": "markdown",
   "metadata": {},
   "source": [
    "#### Setting [`legend_kwds`](https://matplotlib.org/3.1.1/api/legend_api.html) allows you to style the legend and calling `plt.title()` adds a title."
   ]
  },
  {
   "cell_type": "code",
   "execution_count": null,
   "metadata": {},
   "outputs": [],
   "source": [
    "leg_kwds = {'title': 'School District', 'loc': 'best', \n",
    "            'bbox_to_anchor': (1, 1), 'ncol': 1}\n",
    "fig, ax = plt.subplots(figsize = (10,10))\n",
    "school_districts.plot(ax = ax, column = 'district', cmap = 'Set3', legend = True, \n",
    "                      legend_kwds = leg_kwds)\n",
    "plt.title('Nashville School Districts')\n",
    "plt.savefig('school_districts.png');"
   ]
  },
  {
   "cell_type": "markdown",
   "metadata": {},
   "source": [
    "### Another option if our regions are large enough is adding [annotate](https://matplotlib.org/3.1.1/api/_as_gen/matplotlib.pyplot.annotate.html) to the plot to label them\n",
    "#### We'll iterate through `school_districts` and use the `centroid` property of a `geometry` to put the label in the middle of each polygon"
   ]
  },
  {
   "cell_type": "code",
   "execution_count": null,
   "metadata": {},
   "outputs": [],
   "source": [
    "fig, ax = plt.subplots(figsize = (10,10))\n",
    "school_districts.plot(ax = ax, column = 'district', cmap = 'Set3')\n",
    "\n",
    "for index, row in school_districts.iterrows():\n",
    "    plt.annotate(s=row['district'], \n",
    "                 xy=(row['geometry'].centroid.x, row['geometry'].centroid.y),\n",
    "                 horizontalalignment='center', fontweight = 'bold')\n",
    "    \n",
    "plt.title('Nashville School Districts');"
   ]
  },
  {
   "cell_type": "markdown",
   "metadata": {},
   "source": [
    "### Other visualization libraries to check out:\n",
    " - [seaborn](https://seaborn.pydata.org/)\n",
    "     - [DataCamp tutorial](https://www.datacamp.com/community/tutorials/seaborn-python-tutorial)\n",
    " - [altair](https://altair-viz.github.io/)\n",
    "     - [Jake Vanderplas tutorial](https://github.com/altair-viz/altair-tutorial)"
   ]
  },
  {
   "cell_type": "markdown",
   "metadata": {},
   "source": [
    "### Slide deck on [the grammar of graphics](https://www.slideshare.net/DaryaVanichkina1/grammar-of-graphics-darya-vanichkina)"
   ]
  },
  {
   "cell_type": "code",
   "execution_count": null,
   "metadata": {},
   "outputs": [],
   "source": []
  }
 ],
 "metadata": {
  "kernelspec": {
   "display_name": "Python 3",
   "language": "python",
   "name": "python3"
  },
  "language_info": {
   "codemirror_mode": {
    "name": "ipython",
    "version": 3
   },
   "file_extension": ".py",
   "mimetype": "text/x-python",
   "name": "python",
   "nbconvert_exporter": "python",
   "pygments_lexer": "ipython3",
   "version": "3.7.4"
  }
 },
 "nbformat": 4,
 "nbformat_minor": 2
}
