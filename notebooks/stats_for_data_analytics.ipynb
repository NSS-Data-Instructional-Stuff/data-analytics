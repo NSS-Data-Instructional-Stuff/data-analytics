{
 "cells": [
  {
   "cell_type": "markdown",
   "metadata": {},
   "source": [
    "### Four Types of Analytics\n",
    "![chart](4-types-of-data-analytics-01.png)"
   ]
  },
  {
   "cell_type": "code",
   "execution_count": 1,
   "metadata": {
    "collapsed": true
   },
   "outputs": [],
   "source": [
    "import numpy as np\n",
    "import pandas as pd\n",
    "import matplotlib.pyplot as plt\n",
    "import seaborn as sns\n",
    "\n",
    "%matplotlib inline"
   ]
  },
  {
   "cell_type": "markdown",
   "metadata": {},
   "source": [
    "#### Let's get some data and take a look"
   ]
  },
  {
   "cell_type": "code",
   "execution_count": 2,
   "metadata": {
    "collapsed": true
   },
   "outputs": [],
   "source": [
    "people_df = pd.read_csv('data/people.csv')"
   ]
  },
  {
   "cell_type": "markdown",
   "metadata": {},
   "source": [
    "##### Statistics is decision making in the face of uncertainty or variablity\n",
    " - GOAL: can we understand the metrics that explain how many years a person played sports?"
   ]
  },
  {
   "cell_type": "code",
   "execution_count": 3,
   "metadata": {},
   "outputs": [
    {
     "data": {
      "text/html": [
       "<div>\n",
       "<style scoped>\n",
       "    .dataframe tbody tr th:only-of-type {\n",
       "        vertical-align: middle;\n",
       "    }\n",
       "\n",
       "    .dataframe tbody tr th {\n",
       "        vertical-align: top;\n",
       "    }\n",
       "\n",
       "    .dataframe thead th {\n",
       "        text-align: right;\n",
       "    }\n",
       "</style>\n",
       "<table border=\"1\" class=\"dataframe\">\n",
       "  <thead>\n",
       "    <tr style=\"text-align: right;\">\n",
       "      <th></th>\n",
       "      <th>name</th>\n",
       "      <th>age</th>\n",
       "      <th>sex</th>\n",
       "      <th>height</th>\n",
       "      <th>weight</th>\n",
       "      <th>bmi</th>\n",
       "      <th>sibling_count</th>\n",
       "      <th>birth_order</th>\n",
       "      <th>years_played_sports</th>\n",
       "    </tr>\n",
       "  </thead>\n",
       "  <tbody>\n",
       "    <tr>\n",
       "      <td>0</td>\n",
       "      <td>Jin</td>\n",
       "      <td>15</td>\n",
       "      <td>M</td>\n",
       "      <td>66</td>\n",
       "      <td>165</td>\n",
       "      <td>26.63</td>\n",
       "      <td>4</td>\n",
       "      <td>5</td>\n",
       "      <td>5</td>\n",
       "    </tr>\n",
       "    <tr>\n",
       "      <td>1</td>\n",
       "      <td>Sue</td>\n",
       "      <td>24</td>\n",
       "      <td>F</td>\n",
       "      <td>62</td>\n",
       "      <td>136</td>\n",
       "      <td>24.87</td>\n",
       "      <td>2</td>\n",
       "      <td>1</td>\n",
       "      <td>10</td>\n",
       "    </tr>\n",
       "    <tr>\n",
       "      <td>2</td>\n",
       "      <td>Ellen</td>\n",
       "      <td>23</td>\n",
       "      <td>F</td>\n",
       "      <td>69</td>\n",
       "      <td>167</td>\n",
       "      <td>24.66</td>\n",
       "      <td>3</td>\n",
       "      <td>2</td>\n",
       "      <td>8</td>\n",
       "    </tr>\n",
       "    <tr>\n",
       "      <td>3</td>\n",
       "      <td>Tina</td>\n",
       "      <td>18</td>\n",
       "      <td>F</td>\n",
       "      <td>67</td>\n",
       "      <td>140</td>\n",
       "      <td>18.79</td>\n",
       "      <td>1</td>\n",
       "      <td>2</td>\n",
       "      <td>0</td>\n",
       "    </tr>\n",
       "    <tr>\n",
       "      <td>4</td>\n",
       "      <td>Jerry</td>\n",
       "      <td>47</td>\n",
       "      <td>M</td>\n",
       "      <td>66</td>\n",
       "      <td>182</td>\n",
       "      <td>29.37</td>\n",
       "      <td>1</td>\n",
       "      <td>1</td>\n",
       "      <td>5</td>\n",
       "    </tr>\n",
       "  </tbody>\n",
       "</table>\n",
       "</div>"
      ],
      "text/plain": [
       "    name  age sex  height  weight    bmi  sibling_count  birth_order  \\\n",
       "0    Jin   15   M      66     165  26.63              4            5   \n",
       "1    Sue   24   F      62     136  24.87              2            1   \n",
       "2  Ellen   23   F      69     167  24.66              3            2   \n",
       "3   Tina   18   F      67     140  18.79              1            2   \n",
       "4  Jerry   47   M      66     182  29.37              1            1   \n",
       "\n",
       "   years_played_sports  \n",
       "0                    5  \n",
       "1                   10  \n",
       "2                    8  \n",
       "3                    0  \n",
       "4                    5  "
      ]
     },
     "execution_count": 3,
     "metadata": {},
     "output_type": "execute_result"
    }
   ],
   "source": [
    "people_df.head()"
   ]
  },
  {
   "cell_type": "markdown",
   "metadata": {},
   "source": [
    "### Common descriptive statistics\n",
    " - measures of central tendency (mean, median, mode)\n",
    " - measures of variability (standard deviation, variance)\n",
    " - distribution metrics (quartiles, interquartile range, outliers)"
   ]
  },
  {
   "cell_type": "code",
   "execution_count": null,
   "metadata": {
    "collapsed": true
   },
   "outputs": [],
   "source": []
  },
  {
   "cell_type": "code",
   "execution_count": 4,
   "metadata": {},
   "outputs": [
    {
     "data": {
      "text/html": [
       "<div>\n",
       "<style scoped>\n",
       "    .dataframe tbody tr th:only-of-type {\n",
       "        vertical-align: middle;\n",
       "    }\n",
       "\n",
       "    .dataframe tbody tr th {\n",
       "        vertical-align: top;\n",
       "    }\n",
       "\n",
       "    .dataframe thead th {\n",
       "        text-align: right;\n",
       "    }\n",
       "</style>\n",
       "<table border=\"1\" class=\"dataframe\">\n",
       "  <thead>\n",
       "    <tr style=\"text-align: right;\">\n",
       "      <th></th>\n",
       "      <th>age</th>\n",
       "      <th>height</th>\n",
       "      <th>weight</th>\n",
       "      <th>bmi</th>\n",
       "      <th>sibling_count</th>\n",
       "      <th>birth_order</th>\n",
       "      <th>years_played_sports</th>\n",
       "    </tr>\n",
       "  </thead>\n",
       "  <tbody>\n",
       "    <tr>\n",
       "      <td>count</td>\n",
       "      <td>20.000000</td>\n",
       "      <td>20.000000</td>\n",
       "      <td>20.000000</td>\n",
       "      <td>20.00000</td>\n",
       "      <td>20.000000</td>\n",
       "      <td>20.000000</td>\n",
       "      <td>20.000000</td>\n",
       "    </tr>\n",
       "    <tr>\n",
       "      <td>mean</td>\n",
       "      <td>39.000000</td>\n",
       "      <td>67.500000</td>\n",
       "      <td>169.950000</td>\n",
       "      <td>25.76000</td>\n",
       "      <td>1.850000</td>\n",
       "      <td>2.000000</td>\n",
       "      <td>9.900000</td>\n",
       "    </tr>\n",
       "    <tr>\n",
       "      <td>std</td>\n",
       "      <td>18.948684</td>\n",
       "      <td>4.223992</td>\n",
       "      <td>29.653215</td>\n",
       "      <td>3.78468</td>\n",
       "      <td>1.598519</td>\n",
       "      <td>1.169795</td>\n",
       "      <td>13.863621</td>\n",
       "    </tr>\n",
       "    <tr>\n",
       "      <td>min</td>\n",
       "      <td>15.000000</td>\n",
       "      <td>57.000000</td>\n",
       "      <td>111.000000</td>\n",
       "      <td>16.88000</td>\n",
       "      <td>0.000000</td>\n",
       "      <td>1.000000</td>\n",
       "      <td>0.000000</td>\n",
       "    </tr>\n",
       "    <tr>\n",
       "      <td>25%</td>\n",
       "      <td>22.750000</td>\n",
       "      <td>66.000000</td>\n",
       "      <td>150.750000</td>\n",
       "      <td>24.65250</td>\n",
       "      <td>1.000000</td>\n",
       "      <td>1.000000</td>\n",
       "      <td>1.000000</td>\n",
       "    </tr>\n",
       "    <tr>\n",
       "      <td>50%</td>\n",
       "      <td>35.000000</td>\n",
       "      <td>67.500000</td>\n",
       "      <td>166.000000</td>\n",
       "      <td>26.62500</td>\n",
       "      <td>1.500000</td>\n",
       "      <td>2.000000</td>\n",
       "      <td>4.500000</td>\n",
       "    </tr>\n",
       "    <tr>\n",
       "      <td>75%</td>\n",
       "      <td>54.000000</td>\n",
       "      <td>69.250000</td>\n",
       "      <td>187.750000</td>\n",
       "      <td>27.73750</td>\n",
       "      <td>3.000000</td>\n",
       "      <td>3.000000</td>\n",
       "      <td>10.000000</td>\n",
       "    </tr>\n",
       "    <tr>\n",
       "      <td>max</td>\n",
       "      <td>74.000000</td>\n",
       "      <td>78.000000</td>\n",
       "      <td>234.000000</td>\n",
       "      <td>33.11000</td>\n",
       "      <td>6.000000</td>\n",
       "      <td>5.000000</td>\n",
       "      <td>45.000000</td>\n",
       "    </tr>\n",
       "  </tbody>\n",
       "</table>\n",
       "</div>"
      ],
      "text/plain": [
       "             age     height      weight       bmi  sibling_count  birth_order  \\\n",
       "count  20.000000  20.000000   20.000000  20.00000      20.000000    20.000000   \n",
       "mean   39.000000  67.500000  169.950000  25.76000       1.850000     2.000000   \n",
       "std    18.948684   4.223992   29.653215   3.78468       1.598519     1.169795   \n",
       "min    15.000000  57.000000  111.000000  16.88000       0.000000     1.000000   \n",
       "25%    22.750000  66.000000  150.750000  24.65250       1.000000     1.000000   \n",
       "50%    35.000000  67.500000  166.000000  26.62500       1.500000     2.000000   \n",
       "75%    54.000000  69.250000  187.750000  27.73750       3.000000     3.000000   \n",
       "max    74.000000  78.000000  234.000000  33.11000       6.000000     5.000000   \n",
       "\n",
       "       years_played_sports  \n",
       "count            20.000000  \n",
       "mean              9.900000  \n",
       "std              13.863621  \n",
       "min               0.000000  \n",
       "25%               1.000000  \n",
       "50%               4.500000  \n",
       "75%              10.000000  \n",
       "max              45.000000  "
      ]
     },
     "execution_count": 4,
     "metadata": {},
     "output_type": "execute_result"
    }
   ],
   "source": [
    "people_df.describe()"
   ]
  },
  {
   "cell_type": "markdown",
   "metadata": {},
   "source": [
    " -  What are the mean, median and mode for `weight`?"
   ]
  },
  {
   "cell_type": "code",
   "execution_count": 7,
   "metadata": {},
   "outputs": [
    {
     "data": {
      "text/plain": [
       "140    2\n",
       "159    1\n",
       "Name: weight, dtype: int64"
      ]
     },
     "execution_count": 7,
     "metadata": {},
     "output_type": "execute_result"
    }
   ],
   "source": [
    "# mean is 169.95\n",
    "# median is 166\n",
    "# mode is 140\n",
    "people_df.weight.value_counts().head(2)"
   ]
  },
  {
   "cell_type": "markdown",
   "metadata": {},
   "source": [
    " - What are the following values for `years_played_sports`?\n",
    "    - Minimum  \n",
    "    - Maximum  \n",
    "    - 1st Quartile  \n",
    "    - 2nd Quartile  \n",
    "    - 3rd Quartile  \n",
    "    - Interquartile Range (IQR) (Difference between the 1st and 3rd quartiles) "
   ]
  },
  {
   "cell_type": "code",
   "execution_count": 10,
   "metadata": {},
   "outputs": [
    {
     "name": "stdout",
     "output_type": "stream",
     "text": [
      "-12.5\n",
      "23.5\n"
     ]
    }
   ],
   "source": [
    "# IQR = 9\n",
    "low_outliers = 1-(1.5 * 9)\n",
    "print(low_outliers)\n",
    "high_outliers = 10 + (1.5 * 9)\n",
    "print(high_outliers)"
   ]
  },
  {
   "cell_type": "markdown",
   "metadata": {},
   "source": [
    "- Outliers can be mathematically determined. They are values that fall below (Q1 − 1.5 IQR) or above (Q3 + 1.5 IQR)\n",
    "    - how many outliers are there for `years_played_sports`?"
   ]
  },
  {
   "cell_type": "code",
   "execution_count": 15,
   "metadata": {},
   "outputs": [
    {
     "name": "stdout",
     "output_type": "stream",
     "text": [
      "4\n"
     ]
    },
    {
     "data": {
      "image/png": "[encoded data removed]",
      "text/plain": [
       "<Figure size 432x288 with 1 Axes>"
      ]
     },
     "metadata": {},
     "output_type": "display_data"
    }
   ],
   "source": [
    "print(len(people_df.loc[(people_df.years_played_sports < -12.5) | (people_df.years_played_sports > 23.5)]))\n",
    "sns.boxplot(people_df.years_played_sports);"
   ]
  },
  {
   "cell_type": "markdown",
   "metadata": {},
   "source": [
    "### [Correlations](https://statistics.laerd.com/statistical-guides/pearson-correlation-coefficient-statistical-guide.php) help us understand if variables _may_ have an underlying relationship\n",
    "- a perfect positive correlation is 1.0\n",
    "- a perfect negative correlation is -1.0\n",
    "- interpreting correlation depends on the context and purpose!\n"
   ]
  },
  {
   "cell_type": "code",
   "execution_count": 16,
   "metadata": {},
   "outputs": [
    {
     "data": {
      "text/html": [
       "<div>\n",
       "<style scoped>\n",
       "    .dataframe tbody tr th:only-of-type {\n",
       "        vertical-align: middle;\n",
       "    }\n",
       "\n",
       "    .dataframe tbody tr th {\n",
       "        vertical-align: top;\n",
       "    }\n",
       "\n",
       "    .dataframe thead th {\n",
       "        text-align: right;\n",
       "    }\n",
       "</style>\n",
       "<table border=\"1\" class=\"dataframe\">\n",
       "  <thead>\n",
       "    <tr style=\"text-align: right;\">\n",
       "      <th></th>\n",
       "      <th>age</th>\n",
       "      <th>height</th>\n",
       "      <th>weight</th>\n",
       "      <th>bmi</th>\n",
       "      <th>sibling_count</th>\n",
       "      <th>birth_order</th>\n",
       "      <th>years_played_sports</th>\n",
       "    </tr>\n",
       "  </thead>\n",
       "  <tbody>\n",
       "    <tr>\n",
       "      <td>age</td>\n",
       "      <td>1.000000</td>\n",
       "      <td>0.082854</td>\n",
       "      <td>0.397250</td>\n",
       "      <td>0.483920</td>\n",
       "      <td>0.213725</td>\n",
       "      <td>0.009498</td>\n",
       "      <td>0.519108</td>\n",
       "    </tr>\n",
       "    <tr>\n",
       "      <td>height</td>\n",
       "      <td>0.082854</td>\n",
       "      <td>1.000000</td>\n",
       "      <td>0.704878</td>\n",
       "      <td>-0.067294</td>\n",
       "      <td>-0.120820</td>\n",
       "      <td>-0.138470</td>\n",
       "      <td>-0.246262</td>\n",
       "    </tr>\n",
       "    <tr>\n",
       "      <td>weight</td>\n",
       "      <td>0.397250</td>\n",
       "      <td>0.704878</td>\n",
       "      <td>1.000000</td>\n",
       "      <td>0.619360</td>\n",
       "      <td>-0.207801</td>\n",
       "      <td>-0.294352</td>\n",
       "      <td>-0.209591</td>\n",
       "    </tr>\n",
       "    <tr>\n",
       "      <td>bmi</td>\n",
       "      <td>0.483920</td>\n",
       "      <td>-0.067294</td>\n",
       "      <td>0.619360</td>\n",
       "      <td>1.000000</td>\n",
       "      <td>-0.095000</td>\n",
       "      <td>-0.230864</td>\n",
       "      <td>0.007252</td>\n",
       "    </tr>\n",
       "    <tr>\n",
       "      <td>sibling_count</td>\n",
       "      <td>0.213725</td>\n",
       "      <td>-0.120820</td>\n",
       "      <td>-0.207801</td>\n",
       "      <td>-0.095000</td>\n",
       "      <td>1.000000</td>\n",
       "      <td>0.788092</td>\n",
       "      <td>0.683269</td>\n",
       "    </tr>\n",
       "    <tr>\n",
       "      <td>birth_order</td>\n",
       "      <td>0.009498</td>\n",
       "      <td>-0.138470</td>\n",
       "      <td>-0.294352</td>\n",
       "      <td>-0.230864</td>\n",
       "      <td>0.788092</td>\n",
       "      <td>1.000000</td>\n",
       "      <td>0.408912</td>\n",
       "    </tr>\n",
       "    <tr>\n",
       "      <td>years_played_sports</td>\n",
       "      <td>0.519108</td>\n",
       "      <td>-0.246262</td>\n",
       "      <td>-0.209591</td>\n",
       "      <td>0.007252</td>\n",
       "      <td>0.683269</td>\n",
       "      <td>0.408912</td>\n",
       "      <td>1.000000</td>\n",
       "    </tr>\n",
       "  </tbody>\n",
       "</table>\n",
       "</div>"
      ],
      "text/plain": [
       "                          age    height    weight       bmi  sibling_count  \\\n",
       "age                  1.000000  0.082854  0.397250  0.483920       0.213725   \n",
       "height               0.082854  1.000000  0.704878 -0.067294      -0.120820   \n",
       "weight               0.397250  0.704878  1.000000  0.619360      -0.207801   \n",
       "bmi                  0.483920 -0.067294  0.619360  1.000000      -0.095000   \n",
       "sibling_count        0.213725 -0.120820 -0.207801 -0.095000       1.000000   \n",
       "birth_order          0.009498 -0.138470 -0.294352 -0.230864       0.788092   \n",
       "years_played_sports  0.519108 -0.246262 -0.209591  0.007252       0.683269   \n",
       "\n",
       "                     birth_order  years_played_sports  \n",
       "age                     0.009498             0.519108  \n",
       "height                 -0.138470            -0.246262  \n",
       "weight                 -0.294352            -0.209591  \n",
       "bmi                    -0.230864             0.007252  \n",
       "sibling_count           0.788092             0.683269  \n",
       "birth_order             1.000000             0.408912  \n",
       "years_played_sports     0.408912             1.000000  "
      ]
     },
     "execution_count": 16,
     "metadata": {},
     "output_type": "execute_result"
    }
   ],
   "source": [
    "people_df.corr()"
   ]
  },
  {
   "cell_type": "markdown",
   "metadata": {},
   "source": [
    " - Which variables in our dataset are most highly correlated with each other?\n",
    " - Which variables might explain the variability in `years_played_sports`?"
   ]
  },
  {
   "cell_type": "code",
   "execution_count": null,
   "metadata": {
    "collapsed": true
   },
   "outputs": [],
   "source": []
  },
  {
   "cell_type": "code",
   "execution_count": 17,
   "metadata": {},
   "outputs": [
    {
     "data": {
      "image/png": "[encoded data removed]",
      "text/plain": [
       "<Figure size 432x432 with 2 Axes>"
      ]
     },
     "metadata": {},
     "output_type": "display_data"
    }
   ],
   "source": [
    "fig, ax = plt.subplots(figsize=(6, 6))\n",
    "\n",
    "corr = people_df.corr()\n",
    "# create a custom diverging colormap\n",
    "cmap = sns.diverging_palette(220, 10, as_cmap=True)\n",
    "\n",
    "# Generate a mask for the upper triangle\n",
    "mask = np.zeros_like(corr, dtype=np.bool)\n",
    "mask[np.triu_indices_from(mask)] = True\n",
    "\n",
    "# Draw the heatmap with the mask and correct aspect ratio\n",
    "sns.heatmap(corr, cmap=cmap, mask = mask, center=0,\n",
    "            square=True, linewidths=.5, cbar_kws={\"shrink\": .5});"
   ]
  },
  {
   "cell_type": "markdown",
   "metadata": {},
   "source": [
    "### Normalization\n",
    " - Does the `years_played_sports` variable have the same meaning for all people in the dataset? Is a 70 yo with 5 years of sports the same as a 20 yo with 5 years of sports?\n",
    " - How would you normalize it?"
   ]
  },
  {
   "cell_type": "code",
   "execution_count": 18,
   "metadata": {
    "collapsed": true
   },
   "outputs": [],
   "source": [
    "people_df['pct_life_sports'] = people_df.years_played_sports/people_df.age"
   ]
  },
  {
   "cell_type": "code",
   "execution_count": 19,
   "metadata": {},
   "outputs": [
    {
     "data": {
      "text/html": [
       "<div>\n",
       "<style scoped>\n",
       "    .dataframe tbody tr th:only-of-type {\n",
       "        vertical-align: middle;\n",
       "    }\n",
       "\n",
       "    .dataframe tbody tr th {\n",
       "        vertical-align: top;\n",
       "    }\n",
       "\n",
       "    .dataframe thead th {\n",
       "        text-align: right;\n",
       "    }\n",
       "</style>\n",
       "<table border=\"1\" class=\"dataframe\">\n",
       "  <thead>\n",
       "    <tr style=\"text-align: right;\">\n",
       "      <th></th>\n",
       "      <th>age</th>\n",
       "      <th>height</th>\n",
       "      <th>weight</th>\n",
       "      <th>bmi</th>\n",
       "      <th>sibling_count</th>\n",
       "      <th>birth_order</th>\n",
       "      <th>years_played_sports</th>\n",
       "      <th>pct_life_sports</th>\n",
       "    </tr>\n",
       "  </thead>\n",
       "  <tbody>\n",
       "    <tr>\n",
       "      <td>age</td>\n",
       "      <td>1.000000</td>\n",
       "      <td>0.082854</td>\n",
       "      <td>0.397250</td>\n",
       "      <td>0.483920</td>\n",
       "      <td>0.213725</td>\n",
       "      <td>0.009498</td>\n",
       "      <td>0.519108</td>\n",
       "      <td>0.162176</td>\n",
       "    </tr>\n",
       "    <tr>\n",
       "      <td>height</td>\n",
       "      <td>0.082854</td>\n",
       "      <td>1.000000</td>\n",
       "      <td>0.704878</td>\n",
       "      <td>-0.067294</td>\n",
       "      <td>-0.120820</td>\n",
       "      <td>-0.138470</td>\n",
       "      <td>-0.246262</td>\n",
       "      <td>-0.300859</td>\n",
       "    </tr>\n",
       "    <tr>\n",
       "      <td>weight</td>\n",
       "      <td>0.397250</td>\n",
       "      <td>0.704878</td>\n",
       "      <td>1.000000</td>\n",
       "      <td>0.619360</td>\n",
       "      <td>-0.207801</td>\n",
       "      <td>-0.294352</td>\n",
       "      <td>-0.209591</td>\n",
       "      <td>-0.350483</td>\n",
       "    </tr>\n",
       "    <tr>\n",
       "      <td>bmi</td>\n",
       "      <td>0.483920</td>\n",
       "      <td>-0.067294</td>\n",
       "      <td>0.619360</td>\n",
       "      <td>1.000000</td>\n",
       "      <td>-0.095000</td>\n",
       "      <td>-0.230864</td>\n",
       "      <td>0.007252</td>\n",
       "      <td>-0.119337</td>\n",
       "    </tr>\n",
       "    <tr>\n",
       "      <td>sibling_count</td>\n",
       "      <td>0.213725</td>\n",
       "      <td>-0.120820</td>\n",
       "      <td>-0.207801</td>\n",
       "      <td>-0.095000</td>\n",
       "      <td>1.000000</td>\n",
       "      <td>0.788092</td>\n",
       "      <td>0.683269</td>\n",
       "      <td>0.774994</td>\n",
       "    </tr>\n",
       "    <tr>\n",
       "      <td>birth_order</td>\n",
       "      <td>0.009498</td>\n",
       "      <td>-0.138470</td>\n",
       "      <td>-0.294352</td>\n",
       "      <td>-0.230864</td>\n",
       "      <td>0.788092</td>\n",
       "      <td>1.000000</td>\n",
       "      <td>0.408912</td>\n",
       "      <td>0.573389</td>\n",
       "    </tr>\n",
       "    <tr>\n",
       "      <td>years_played_sports</td>\n",
       "      <td>0.519108</td>\n",
       "      <td>-0.246262</td>\n",
       "      <td>-0.209591</td>\n",
       "      <td>0.007252</td>\n",
       "      <td>0.683269</td>\n",
       "      <td>0.408912</td>\n",
       "      <td>1.000000</td>\n",
       "      <td>0.863875</td>\n",
       "    </tr>\n",
       "    <tr>\n",
       "      <td>pct_life_sports</td>\n",
       "      <td>0.162176</td>\n",
       "      <td>-0.300859</td>\n",
       "      <td>-0.350483</td>\n",
       "      <td>-0.119337</td>\n",
       "      <td>0.774994</td>\n",
       "      <td>0.573389</td>\n",
       "      <td>0.863875</td>\n",
       "      <td>1.000000</td>\n",
       "    </tr>\n",
       "  </tbody>\n",
       "</table>\n",
       "</div>"
      ],
      "text/plain": [
       "                          age    height    weight       bmi  sibling_count  \\\n",
       "age                  1.000000  0.082854  0.397250  0.483920       0.213725   \n",
       "height               0.082854  1.000000  0.704878 -0.067294      -0.120820   \n",
       "weight               0.397250  0.704878  1.000000  0.619360      -0.207801   \n",
       "bmi                  0.483920 -0.067294  0.619360  1.000000      -0.095000   \n",
       "sibling_count        0.213725 -0.120820 -0.207801 -0.095000       1.000000   \n",
       "birth_order          0.009498 -0.138470 -0.294352 -0.230864       0.788092   \n",
       "years_played_sports  0.519108 -0.246262 -0.209591  0.007252       0.683269   \n",
       "pct_life_sports      0.162176 -0.300859 -0.350483 -0.119337       0.774994   \n",
       "\n",
       "                     birth_order  years_played_sports  pct_life_sports  \n",
       "age                     0.009498             0.519108         0.162176  \n",
       "height                 -0.138470            -0.246262        -0.300859  \n",
       "weight                 -0.294352            -0.209591        -0.350483  \n",
       "bmi                    -0.230864             0.007252        -0.119337  \n",
       "sibling_count           0.788092             0.683269         0.774994  \n",
       "birth_order             1.000000             0.408912         0.573389  \n",
       "years_played_sports     0.408912             1.000000         0.863875  \n",
       "pct_life_sports         0.573389             0.863875         1.000000  "
      ]
     },
     "execution_count": 19,
     "metadata": {},
     "output_type": "execute_result"
    }
   ],
   "source": [
    "people_df.corr()"
   ]
  },
  {
   "cell_type": "markdown",
   "metadata": {},
   "source": [
    "- Correlation between a variable you are trying to explain (sometimes called the dependent variable or target) and a variable that might explain it (independent variable or explanatory variable) helps us understand the target better.  \n",
    "- Correlation between two explanatory variables may cause us to overestimate their importance to explaining the variance in the target. Think about _why_ variables might be highly correlated.\n",
    " "
   ]
  },
  {
   "cell_type": "markdown",
   "metadata": {},
   "source": [
    "#### Feature Engineering"
   ]
  },
  {
   "cell_type": "markdown",
   "metadata": {},
   "source": [
    "##### These could be from an external dataset or from the provided data"
   ]
  },
  {
   "cell_type": "markdown",
   "metadata": {},
   "source": [
    "- features that take into account the size of the building\n",
    "- comparing other metrics to find different `delta` values\n",
    "- getting information for the store location (irs data for average income, e.g.)\n"
   ]
  },
  {
   "cell_type": "code",
   "execution_count": null,
   "metadata": {
    "collapsed": true
   },
   "outputs": [],
   "source": []
  },
  {
   "cell_type": "code",
   "execution_count": null,
   "metadata": {
    "collapsed": true
   },
   "outputs": [],
   "source": []
  },
  {
   "cell_type": "code",
   "execution_count": null,
   "metadata": {
    "collapsed": true
   },
   "outputs": [],
   "source": []
  },
  {
   "cell_type": "code",
   "execution_count": null,
   "metadata": {
    "collapsed": true
   },
   "outputs": [],
   "source": []
  }
 ],
 "metadata": {
  "kernelspec": {
   "display_name": "Python 3",
   "language": "python",
   "name": "python3"
  },
  "language_info": {
   "codemirror_mode": {
    "name": "ipython",
    "version": 3
   },
   "file_extension": ".py",
   "mimetype": "text/x-python",
   "name": "python",
   "nbconvert_exporter": "python",
   "pygments_lexer": "ipython3",
   "version": "3.6.10"
  }
 },
 "nbformat": 4,
 "nbformat_minor": 2
}
