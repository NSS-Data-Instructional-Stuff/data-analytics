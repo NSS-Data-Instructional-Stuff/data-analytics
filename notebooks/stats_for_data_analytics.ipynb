{
 "cells": [
  {
   "cell_type": "markdown",
   "metadata": {},
   "source": [
    "### Once you've done some EDA, you may be ready to do some deeper analysis with a specific intent. Analytics can broadly be grouped into four areas."
   ]
  },
  {
   "cell_type": "markdown",
   "metadata": {},
   "source": [
    "### Four Types of Analytics\n",
    "![chart](../images/4-types-of-data-analytics-01.png)"
   ]
  },
  {
   "cell_type": "code",
   "execution_count": 1,
   "metadata": {},
   "outputs": [],
   "source": [
    "import numpy as np\n",
    "import pandas as pd\n",
    "import matplotlib.pyplot as plt\n",
    "import seaborn as sns\n",
    "import random\n",
    "\n",
    "%matplotlib inline"
   ]
  },
  {
   "cell_type": "markdown",
   "metadata": {},
   "source": [
    "#### Let's get some data and take a look"
   ]
  },
  {
   "cell_type": "code",
   "execution_count": 2,
   "metadata": {},
   "outputs": [],
   "source": [
    "people_df = pd.read_csv('../data/people.csv')"
   ]
  },
  {
   "cell_type": "code",
   "execution_count": 3,
   "metadata": {},
   "outputs": [
    {
     "data": {
      "text/html": [
       "<div>\n",
       "<style scoped>\n",
       "    .dataframe tbody tr th:only-of-type {\n",
       "        vertical-align: middle;\n",
       "    }\n",
       "\n",
       "    .dataframe tbody tr th {\n",
       "        vertical-align: top;\n",
       "    }\n",
       "\n",
       "    .dataframe thead th {\n",
       "        text-align: right;\n",
       "    }\n",
       "</style>\n",
       "<table border=\"1\" class=\"dataframe\">\n",
       "  <thead>\n",
       "    <tr style=\"text-align: right;\">\n",
       "      <th></th>\n",
       "      <th>name</th>\n",
       "      <th>age</th>\n",
       "      <th>sex</th>\n",
       "      <th>height</th>\n",
       "      <th>weight</th>\n",
       "      <th>bmi</th>\n",
       "      <th>sibling_count</th>\n",
       "      <th>birth_order</th>\n",
       "      <th>years_played_sports</th>\n",
       "    </tr>\n",
       "  </thead>\n",
       "  <tbody>\n",
       "    <tr>\n",
       "      <th>0</th>\n",
       "      <td>Jin</td>\n",
       "      <td>15</td>\n",
       "      <td>M</td>\n",
       "      <td>66</td>\n",
       "      <td>165</td>\n",
       "      <td>26.63</td>\n",
       "      <td>4</td>\n",
       "      <td>5</td>\n",
       "      <td>5</td>\n",
       "    </tr>\n",
       "    <tr>\n",
       "      <th>1</th>\n",
       "      <td>Sue</td>\n",
       "      <td>24</td>\n",
       "      <td>F</td>\n",
       "      <td>62</td>\n",
       "      <td>136</td>\n",
       "      <td>24.87</td>\n",
       "      <td>2</td>\n",
       "      <td>1</td>\n",
       "      <td>10</td>\n",
       "    </tr>\n",
       "    <tr>\n",
       "      <th>2</th>\n",
       "      <td>Ellen</td>\n",
       "      <td>23</td>\n",
       "      <td>F</td>\n",
       "      <td>69</td>\n",
       "      <td>167</td>\n",
       "      <td>24.66</td>\n",
       "      <td>3</td>\n",
       "      <td>2</td>\n",
       "      <td>8</td>\n",
       "    </tr>\n",
       "    <tr>\n",
       "      <th>3</th>\n",
       "      <td>Tina</td>\n",
       "      <td>18</td>\n",
       "      <td>F</td>\n",
       "      <td>67</td>\n",
       "      <td>140</td>\n",
       "      <td>18.79</td>\n",
       "      <td>1</td>\n",
       "      <td>2</td>\n",
       "      <td>0</td>\n",
       "    </tr>\n",
       "    <tr>\n",
       "      <th>4</th>\n",
       "      <td>Jerry</td>\n",
       "      <td>47</td>\n",
       "      <td>M</td>\n",
       "      <td>66</td>\n",
       "      <td>182</td>\n",
       "      <td>29.37</td>\n",
       "      <td>1</td>\n",
       "      <td>1</td>\n",
       "      <td>5</td>\n",
       "    </tr>\n",
       "  </tbody>\n",
       "</table>\n",
       "</div>"
      ],
      "text/plain": [
       "    name  age sex  height  weight    bmi  sibling_count  birth_order  \\\n",
       "0    Jin   15   M      66     165  26.63              4            5   \n",
       "1    Sue   24   F      62     136  24.87              2            1   \n",
       "2  Ellen   23   F      69     167  24.66              3            2   \n",
       "3   Tina   18   F      67     140  18.79              1            2   \n",
       "4  Jerry   47   M      66     182  29.37              1            1   \n",
       "\n",
       "   years_played_sports  \n",
       "0                    5  \n",
       "1                   10  \n",
       "2                    8  \n",
       "3                    0  \n",
       "4                    5  "
      ]
     },
     "execution_count": 3,
     "metadata": {},
     "output_type": "execute_result"
    }
   ],
   "source": [
    "people_df.head()"
   ]
  },
  {
   "cell_type": "markdown",
   "metadata": {},
   "source": [
    "### There are a number of statistics that help us understand the data\n",
    "Recall the different descriptive statistics from the __eda_workflow__ slides\n",
    "##### Statistics is decision making in the face of uncertainty or variablity\n",
    " - GOAL: can we understand the metrics that explain how many years a person played sports?"
   ]
  },
  {
   "cell_type": "markdown",
   "metadata": {},
   "source": [
    "We had previously looked at outliers for `years_played_sports`\":"
   ]
  },
  {
   "cell_type": "code",
   "execution_count": 4,
   "metadata": {},
   "outputs": [
    {
     "data": {
      "image/png": "[encoded data removed]",
      "text/plain": [
       "<Figure size 432x288 with 1 Axes>"
      ]
     },
     "metadata": {
      "needs_background": "light"
     },
     "output_type": "display_data"
    }
   ],
   "source": [
    "sns.boxplot(people_df.years_played_sports);"
   ]
  },
  {
   "cell_type": "markdown",
   "metadata": {},
   "source": [
    "### [Correlations](https://statistics.laerd.com/statistical-guides/pearson-correlation-coefficient-statistical-guide.php) help us understand if variables _may_ have an underlying relationship\n",
    "- a perfect positive correlation is 1.0\n",
    "- a perfect negative correlation is -1.0\n",
    "- interpreting correlation depends on the context and purpose!\n"
   ]
  },
  {
   "cell_type": "code",
   "execution_count": 5,
   "metadata": {},
   "outputs": [
    {
     "data": {
      "text/html": [
       "<div>\n",
       "<style scoped>\n",
       "    .dataframe tbody tr th:only-of-type {\n",
       "        vertical-align: middle;\n",
       "    }\n",
       "\n",
       "    .dataframe tbody tr th {\n",
       "        vertical-align: top;\n",
       "    }\n",
       "\n",
       "    .dataframe thead th {\n",
       "        text-align: right;\n",
       "    }\n",
       "</style>\n",
       "<table border=\"1\" class=\"dataframe\">\n",
       "  <thead>\n",
       "    <tr style=\"text-align: right;\">\n",
       "      <th></th>\n",
       "      <th>age</th>\n",
       "      <th>height</th>\n",
       "      <th>weight</th>\n",
       "      <th>bmi</th>\n",
       "      <th>sibling_count</th>\n",
       "      <th>birth_order</th>\n",
       "      <th>years_played_sports</th>\n",
       "    </tr>\n",
       "  </thead>\n",
       "  <tbody>\n",
       "    <tr>\n",
       "      <th>age</th>\n",
       "      <td>1.000000</td>\n",
       "      <td>0.082854</td>\n",
       "      <td>0.397250</td>\n",
       "      <td>0.483920</td>\n",
       "      <td>0.213725</td>\n",
       "      <td>0.009498</td>\n",
       "      <td>0.519108</td>\n",
       "    </tr>\n",
       "    <tr>\n",
       "      <th>height</th>\n",
       "      <td>0.082854</td>\n",
       "      <td>1.000000</td>\n",
       "      <td>0.704878</td>\n",
       "      <td>-0.067294</td>\n",
       "      <td>-0.120820</td>\n",
       "      <td>-0.138470</td>\n",
       "      <td>-0.246262</td>\n",
       "    </tr>\n",
       "    <tr>\n",
       "      <th>weight</th>\n",
       "      <td>0.397250</td>\n",
       "      <td>0.704878</td>\n",
       "      <td>1.000000</td>\n",
       "      <td>0.619360</td>\n",
       "      <td>-0.207801</td>\n",
       "      <td>-0.294352</td>\n",
       "      <td>-0.209591</td>\n",
       "    </tr>\n",
       "    <tr>\n",
       "      <th>bmi</th>\n",
       "      <td>0.483920</td>\n",
       "      <td>-0.067294</td>\n",
       "      <td>0.619360</td>\n",
       "      <td>1.000000</td>\n",
       "      <td>-0.095000</td>\n",
       "      <td>-0.230864</td>\n",
       "      <td>0.007252</td>\n",
       "    </tr>\n",
       "    <tr>\n",
       "      <th>sibling_count</th>\n",
       "      <td>0.213725</td>\n",
       "      <td>-0.120820</td>\n",
       "      <td>-0.207801</td>\n",
       "      <td>-0.095000</td>\n",
       "      <td>1.000000</td>\n",
       "      <td>0.788092</td>\n",
       "      <td>0.683269</td>\n",
       "    </tr>\n",
       "    <tr>\n",
       "      <th>birth_order</th>\n",
       "      <td>0.009498</td>\n",
       "      <td>-0.138470</td>\n",
       "      <td>-0.294352</td>\n",
       "      <td>-0.230864</td>\n",
       "      <td>0.788092</td>\n",
       "      <td>1.000000</td>\n",
       "      <td>0.408912</td>\n",
       "    </tr>\n",
       "    <tr>\n",
       "      <th>years_played_sports</th>\n",
       "      <td>0.519108</td>\n",
       "      <td>-0.246262</td>\n",
       "      <td>-0.209591</td>\n",
       "      <td>0.007252</td>\n",
       "      <td>0.683269</td>\n",
       "      <td>0.408912</td>\n",
       "      <td>1.000000</td>\n",
       "    </tr>\n",
       "  </tbody>\n",
       "</table>\n",
       "</div>"
      ],
      "text/plain": [
       "                          age    height    weight       bmi  sibling_count  \\\n",
       "age                  1.000000  0.082854  0.397250  0.483920       0.213725   \n",
       "height               0.082854  1.000000  0.704878 -0.067294      -0.120820   \n",
       "weight               0.397250  0.704878  1.000000  0.619360      -0.207801   \n",
       "bmi                  0.483920 -0.067294  0.619360  1.000000      -0.095000   \n",
       "sibling_count        0.213725 -0.120820 -0.207801 -0.095000       1.000000   \n",
       "birth_order          0.009498 -0.138470 -0.294352 -0.230864       0.788092   \n",
       "years_played_sports  0.519108 -0.246262 -0.209591  0.007252       0.683269   \n",
       "\n",
       "                     birth_order  years_played_sports  \n",
       "age                     0.009498             0.519108  \n",
       "height                 -0.138470            -0.246262  \n",
       "weight                 -0.294352            -0.209591  \n",
       "bmi                    -0.230864             0.007252  \n",
       "sibling_count           0.788092             0.683269  \n",
       "birth_order             1.000000             0.408912  \n",
       "years_played_sports     0.408912             1.000000  "
      ]
     },
     "execution_count": 5,
     "metadata": {},
     "output_type": "execute_result"
    }
   ],
   "source": [
    "people_df.corr()"
   ]
  },
  {
   "cell_type": "markdown",
   "metadata": {},
   "source": [
    " - Which variables in our dataset are most highly correlated with each other?\n",
    " - Which variables might explain the variability in `years_played_sports`?"
   ]
  },
  {
   "cell_type": "markdown",
   "metadata": {
    "collapsed": true
   },
   "source": [
    "#### Correlations can be visualized as well"
   ]
  },
  {
   "cell_type": "code",
   "execution_count": 6,
   "metadata": {},
   "outputs": [
    {
     "data": {
      "image/png": "[encoded data removed]",
      "text/plain": [
       "<Figure size 432x432 with 2 Axes>"
      ]
     },
     "metadata": {
      "needs_background": "light"
     },
     "output_type": "display_data"
    }
   ],
   "source": [
    "fig, ax = plt.subplots(figsize=(6, 6))\n",
    "\n",
    "corr = people_df.corr()\n",
    "# create a custom diverging colormap\n",
    "cmap = sns.diverging_palette(220, 10, as_cmap=True)\n",
    "\n",
    "# Generate a mask for the upper triangle\n",
    "mask = np.zeros_like(corr, dtype=np.bool)\n",
    "mask[np.triu_indices_from(mask)] = True\n",
    "\n",
    "# Draw the heatmap with the mask and correct aspect ratio\n",
    "sns.heatmap(corr, cmap=cmap, mask = mask, center=0,\n",
    "            square=True, linewidths=.5, cbar_kws={\"shrink\": .5});"
   ]
  },
  {
   "cell_type": "markdown",
   "metadata": {},
   "source": [
    "### Normalization\n",
    " - Does the `years_played_sports` variable have the same meaning for all people in the dataset? Is a 70 yo with 5 years of sports the same as a 20 yo with 5 years of sports?\n",
    " - How would you normalize it?"
   ]
  },
  {
   "cell_type": "code",
   "execution_count": 7,
   "metadata": {},
   "outputs": [],
   "source": [
    "people_df['pct_life_sports'] = people_df.years_played_sports/people_df.age"
   ]
  },
  {
   "cell_type": "code",
   "execution_count": 8,
   "metadata": {},
   "outputs": [
    {
     "data": {
      "text/html": [
       "<div>\n",
       "<style scoped>\n",
       "    .dataframe tbody tr th:only-of-type {\n",
       "        vertical-align: middle;\n",
       "    }\n",
       "\n",
       "    .dataframe tbody tr th {\n",
       "        vertical-align: top;\n",
       "    }\n",
       "\n",
       "    .dataframe thead th {\n",
       "        text-align: right;\n",
       "    }\n",
       "</style>\n",
       "<table border=\"1\" class=\"dataframe\">\n",
       "  <thead>\n",
       "    <tr style=\"text-align: right;\">\n",
       "      <th></th>\n",
       "      <th>age</th>\n",
       "      <th>height</th>\n",
       "      <th>weight</th>\n",
       "      <th>bmi</th>\n",
       "      <th>sibling_count</th>\n",
       "      <th>birth_order</th>\n",
       "      <th>years_played_sports</th>\n",
       "      <th>pct_life_sports</th>\n",
       "    </tr>\n",
       "  </thead>\n",
       "  <tbody>\n",
       "    <tr>\n",
       "      <th>age</th>\n",
       "      <td>1.000000</td>\n",
       "      <td>0.082854</td>\n",
       "      <td>0.397250</td>\n",
       "      <td>0.483920</td>\n",
       "      <td>0.213725</td>\n",
       "      <td>0.009498</td>\n",
       "      <td>0.519108</td>\n",
       "      <td>0.162176</td>\n",
       "    </tr>\n",
       "    <tr>\n",
       "      <th>height</th>\n",
       "      <td>0.082854</td>\n",
       "      <td>1.000000</td>\n",
       "      <td>0.704878</td>\n",
       "      <td>-0.067294</td>\n",
       "      <td>-0.120820</td>\n",
       "      <td>-0.138470</td>\n",
       "      <td>-0.246262</td>\n",
       "      <td>-0.300859</td>\n",
       "    </tr>\n",
       "    <tr>\n",
       "      <th>weight</th>\n",
       "      <td>0.397250</td>\n",
       "      <td>0.704878</td>\n",
       "      <td>1.000000</td>\n",
       "      <td>0.619360</td>\n",
       "      <td>-0.207801</td>\n",
       "      <td>-0.294352</td>\n",
       "      <td>-0.209591</td>\n",
       "      <td>-0.350483</td>\n",
       "    </tr>\n",
       "    <tr>\n",
       "      <th>bmi</th>\n",
       "      <td>0.483920</td>\n",
       "      <td>-0.067294</td>\n",
       "      <td>0.619360</td>\n",
       "      <td>1.000000</td>\n",
       "      <td>-0.095000</td>\n",
       "      <td>-0.230864</td>\n",
       "      <td>0.007252</td>\n",
       "      <td>-0.119337</td>\n",
       "    </tr>\n",
       "    <tr>\n",
       "      <th>sibling_count</th>\n",
       "      <td>0.213725</td>\n",
       "      <td>-0.120820</td>\n",
       "      <td>-0.207801</td>\n",
       "      <td>-0.095000</td>\n",
       "      <td>1.000000</td>\n",
       "      <td>0.788092</td>\n",
       "      <td>0.683269</td>\n",
       "      <td>0.774994</td>\n",
       "    </tr>\n",
       "    <tr>\n",
       "      <th>birth_order</th>\n",
       "      <td>0.009498</td>\n",
       "      <td>-0.138470</td>\n",
       "      <td>-0.294352</td>\n",
       "      <td>-0.230864</td>\n",
       "      <td>0.788092</td>\n",
       "      <td>1.000000</td>\n",
       "      <td>0.408912</td>\n",
       "      <td>0.573389</td>\n",
       "    </tr>\n",
       "    <tr>\n",
       "      <th>years_played_sports</th>\n",
       "      <td>0.519108</td>\n",
       "      <td>-0.246262</td>\n",
       "      <td>-0.209591</td>\n",
       "      <td>0.007252</td>\n",
       "      <td>0.683269</td>\n",
       "      <td>0.408912</td>\n",
       "      <td>1.000000</td>\n",
       "      <td>0.863875</td>\n",
       "    </tr>\n",
       "    <tr>\n",
       "      <th>pct_life_sports</th>\n",
       "      <td>0.162176</td>\n",
       "      <td>-0.300859</td>\n",
       "      <td>-0.350483</td>\n",
       "      <td>-0.119337</td>\n",
       "      <td>0.774994</td>\n",
       "      <td>0.573389</td>\n",
       "      <td>0.863875</td>\n",
       "      <td>1.000000</td>\n",
       "    </tr>\n",
       "  </tbody>\n",
       "</table>\n",
       "</div>"
      ],
      "text/plain": [
       "                          age    height    weight       bmi  sibling_count  \\\n",
       "age                  1.000000  0.082854  0.397250  0.483920       0.213725   \n",
       "height               0.082854  1.000000  0.704878 -0.067294      -0.120820   \n",
       "weight               0.397250  0.704878  1.000000  0.619360      -0.207801   \n",
       "bmi                  0.483920 -0.067294  0.619360  1.000000      -0.095000   \n",
       "sibling_count        0.213725 -0.120820 -0.207801 -0.095000       1.000000   \n",
       "birth_order          0.009498 -0.138470 -0.294352 -0.230864       0.788092   \n",
       "years_played_sports  0.519108 -0.246262 -0.209591  0.007252       0.683269   \n",
       "pct_life_sports      0.162176 -0.300859 -0.350483 -0.119337       0.774994   \n",
       "\n",
       "                     birth_order  years_played_sports  pct_life_sports  \n",
       "age                     0.009498             0.519108         0.162176  \n",
       "height                 -0.138470            -0.246262        -0.300859  \n",
       "weight                 -0.294352            -0.209591        -0.350483  \n",
       "bmi                    -0.230864             0.007252        -0.119337  \n",
       "sibling_count           0.788092             0.683269         0.774994  \n",
       "birth_order             1.000000             0.408912         0.573389  \n",
       "years_played_sports     0.408912             1.000000         0.863875  \n",
       "pct_life_sports         0.573389             0.863875         1.000000  "
      ]
     },
     "execution_count": 8,
     "metadata": {},
     "output_type": "execute_result"
    }
   ],
   "source": [
    "people_df.corr()"
   ]
  },
  {
   "cell_type": "markdown",
   "metadata": {},
   "source": [
    "- Correlation between a variable you are trying to explain (sometimes called the dependent variable or target) and a variable that might explain it (independent variable or explanatory variable) helps us understand the target better.  \n",
    "- Correlation between two explanatory variables may cause us to overestimate their importance to explaining the variance in the target. Think about _why_ variables might be highly correlated.\n",
    " "
   ]
  },
  {
   "cell_type": "markdown",
   "metadata": {},
   "source": [
    "### Feature Engineering\n",
    "#### This is the process of defining new features that are not part of the original dataset. These could be through combining existing features or from an external dataset.\n",
    "\n",
    "##### Some examples could be:\n",
    "- Number of sports leagues in birth city\n",
    "- Financial means (e.g.: IRS data for average income)\n",
    "- Calculate the number of older/younger siblings\n",
    "- Liklihood have children (based on age)"
   ]
  },
  {
   "cell_type": "markdown",
   "metadata": {
    "collapsed": true
   },
   "source": [
    "_For example purposes, we'll synthesize some data. In practice, these would be available as other tables or you would find them_"
   ]
  },
  {
   "cell_type": "code",
   "execution_count": 9,
   "metadata": {},
   "outputs": [],
   "source": [
    "people_df['num_sports_teams'] = [random.randint(50, 200) for i in range(len(people_df))]"
   ]
  },
  {
   "cell_type": "code",
   "execution_count": 10,
   "metadata": {},
   "outputs": [],
   "source": [
    "people_df['fam_tax_rate'] = [random.choice([.1, .12, .22, .24, .32, .35, .37]) for i in range(len(people_df))]"
   ]
  },
  {
   "cell_type": "code",
   "execution_count": 11,
   "metadata": {},
   "outputs": [],
   "source": [
    "people_df['num_younger_sib'] = (people_df['sibling_count']+1) - people_df['birth_order']"
   ]
  },
  {
   "cell_type": "code",
   "execution_count": 12,
   "metadata": {},
   "outputs": [],
   "source": [
    "people_df['num_older_sib'] = people_df['sibling_count'] - people_df['num_younger_sib']"
   ]
  },
  {
   "cell_type": "code",
   "execution_count": 13,
   "metadata": {},
   "outputs": [
    {
     "data": {
      "text/html": [
       "<div>\n",
       "<style scoped>\n",
       "    .dataframe tbody tr th:only-of-type {\n",
       "        vertical-align: middle;\n",
       "    }\n",
       "\n",
       "    .dataframe tbody tr th {\n",
       "        vertical-align: top;\n",
       "    }\n",
       "\n",
       "    .dataframe thead th {\n",
       "        text-align: right;\n",
       "    }\n",
       "</style>\n",
       "<table border=\"1\" class=\"dataframe\">\n",
       "  <thead>\n",
       "    <tr style=\"text-align: right;\">\n",
       "      <th></th>\n",
       "      <th>name</th>\n",
       "      <th>age</th>\n",
       "      <th>sex</th>\n",
       "      <th>height</th>\n",
       "      <th>weight</th>\n",
       "      <th>bmi</th>\n",
       "      <th>sibling_count</th>\n",
       "      <th>birth_order</th>\n",
       "      <th>years_played_sports</th>\n",
       "      <th>pct_life_sports</th>\n",
       "      <th>num_sports_teams</th>\n",
       "      <th>fam_tax_rate</th>\n",
       "      <th>num_younger_sib</th>\n",
       "      <th>num_older_sib</th>\n",
       "    </tr>\n",
       "  </thead>\n",
       "  <tbody>\n",
       "    <tr>\n",
       "      <th>0</th>\n",
       "      <td>Jin</td>\n",
       "      <td>15</td>\n",
       "      <td>M</td>\n",
       "      <td>66</td>\n",
       "      <td>165</td>\n",
       "      <td>26.63</td>\n",
       "      <td>4</td>\n",
       "      <td>5</td>\n",
       "      <td>5</td>\n",
       "      <td>0.333333</td>\n",
       "      <td>90</td>\n",
       "      <td>0.10</td>\n",
       "      <td>0</td>\n",
       "      <td>4</td>\n",
       "    </tr>\n",
       "    <tr>\n",
       "      <th>1</th>\n",
       "      <td>Sue</td>\n",
       "      <td>24</td>\n",
       "      <td>F</td>\n",
       "      <td>62</td>\n",
       "      <td>136</td>\n",
       "      <td>24.87</td>\n",
       "      <td>2</td>\n",
       "      <td>1</td>\n",
       "      <td>10</td>\n",
       "      <td>0.416667</td>\n",
       "      <td>88</td>\n",
       "      <td>0.10</td>\n",
       "      <td>2</td>\n",
       "      <td>0</td>\n",
       "    </tr>\n",
       "    <tr>\n",
       "      <th>2</th>\n",
       "      <td>Ellen</td>\n",
       "      <td>23</td>\n",
       "      <td>F</td>\n",
       "      <td>69</td>\n",
       "      <td>167</td>\n",
       "      <td>24.66</td>\n",
       "      <td>3</td>\n",
       "      <td>2</td>\n",
       "      <td>8</td>\n",
       "      <td>0.347826</td>\n",
       "      <td>171</td>\n",
       "      <td>0.22</td>\n",
       "      <td>2</td>\n",
       "      <td>1</td>\n",
       "    </tr>\n",
       "    <tr>\n",
       "      <th>3</th>\n",
       "      <td>Tina</td>\n",
       "      <td>18</td>\n",
       "      <td>F</td>\n",
       "      <td>67</td>\n",
       "      <td>140</td>\n",
       "      <td>18.79</td>\n",
       "      <td>1</td>\n",
       "      <td>2</td>\n",
       "      <td>0</td>\n",
       "      <td>0.000000</td>\n",
       "      <td>78</td>\n",
       "      <td>0.22</td>\n",
       "      <td>0</td>\n",
       "      <td>1</td>\n",
       "    </tr>\n",
       "    <tr>\n",
       "      <th>4</th>\n",
       "      <td>Jerry</td>\n",
       "      <td>47</td>\n",
       "      <td>M</td>\n",
       "      <td>66</td>\n",
       "      <td>182</td>\n",
       "      <td>29.37</td>\n",
       "      <td>1</td>\n",
       "      <td>1</td>\n",
       "      <td>5</td>\n",
       "      <td>0.106383</td>\n",
       "      <td>52</td>\n",
       "      <td>0.35</td>\n",
       "      <td>1</td>\n",
       "      <td>0</td>\n",
       "    </tr>\n",
       "  </tbody>\n",
       "</table>\n",
       "</div>"
      ],
      "text/plain": [
       "    name  age sex  height  weight    bmi  sibling_count  birth_order  \\\n",
       "0    Jin   15   M      66     165  26.63              4            5   \n",
       "1    Sue   24   F      62     136  24.87              2            1   \n",
       "2  Ellen   23   F      69     167  24.66              3            2   \n",
       "3   Tina   18   F      67     140  18.79              1            2   \n",
       "4  Jerry   47   M      66     182  29.37              1            1   \n",
       "\n",
       "   years_played_sports  pct_life_sports  num_sports_teams  fam_tax_rate  \\\n",
       "0                    5         0.333333                90          0.10   \n",
       "1                   10         0.416667                88          0.10   \n",
       "2                    8         0.347826               171          0.22   \n",
       "3                    0         0.000000                78          0.22   \n",
       "4                    5         0.106383                52          0.35   \n",
       "\n",
       "   num_younger_sib  num_older_sib  \n",
       "0                0              4  \n",
       "1                2              0  \n",
       "2                2              1  \n",
       "3                0              1  \n",
       "4                1              0  "
      ]
     },
     "execution_count": 13,
     "metadata": {},
     "output_type": "execute_result"
    }
   ],
   "source": [
    "people_df.head()"
   ]
  },
  {
   "cell_type": "code",
   "execution_count": null,
   "metadata": {},
   "outputs": [],
   "source": []
  }
 ],
 "metadata": {
  "kernelspec": {
   "display_name": "Python 3",
   "language": "python",
   "name": "python3"
  },
  "language_info": {
   "codemirror_mode": {
    "name": "ipython",
    "version": 3
   },
   "file_extension": ".py",
   "mimetype": "text/x-python",
   "name": "python",
   "nbconvert_exporter": "python",
   "pygments_lexer": "ipython3",
   "version": "3.7.4"
  }
 },
 "nbformat": 4,
 "nbformat_minor": 2
}
