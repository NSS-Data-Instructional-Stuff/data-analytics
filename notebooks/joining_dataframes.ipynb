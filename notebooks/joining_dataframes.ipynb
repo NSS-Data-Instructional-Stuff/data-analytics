{
 "cells": [
  {
   "cell_type": "code",
   "execution_count": 1,
   "metadata": {},
   "outputs": [],
   "source": [
    "import pandas as pd\n",
    "import matplotlib.pyplot as plt\n",
    "import seaborn as sns\n",
    "\n",
    "%matplotlib inline"
   ]
  },
  {
   "cell_type": "markdown",
   "metadata": {},
   "source": [
    "### The pandas `.concat( )`  method is used to concatenate two dataframes based on shared column names\n",
    "- we will create two dataframes and then concatenate them\n",
    "- this would be useful if you had, for example, two different years of data with the same columns that you want to explore together; in a case like this, you would want to add a year column before joining them\n"
   ]
  },
  {
   "cell_type": "code",
   "execution_count": 2,
   "metadata": {},
   "outputs": [],
   "source": [
    "data1 = { 'Col1' : [1,2,3],\n",
    "         'Col2' : [4,5,6],\n",
    "         'Col3' : [7,8,9]}\n",
    "data2 = { 'Col1' : [4,5,6],\n",
    "         'Col2' : [7,8,9],\n",
    "         'Col3' : [1,2,3]}"
   ]
  },
  {
   "cell_type": "code",
   "execution_count": 3,
   "metadata": {},
   "outputs": [],
   "source": [
    "df_2018 = pd.DataFrame(data1)\n",
    "df_2019 = pd.DataFrame(data2)"
   ]
  },
  {
   "cell_type": "code",
   "execution_count": 4,
   "metadata": {},
   "outputs": [
    {
     "name": "stdout",
     "output_type": "stream",
     "text": [
      "df_2018\n",
      "   Col1  Col2  Col3\n",
      "0     1     4     7\n",
      "1     2     5     8\n",
      "2     3     6     9\n",
      "=================\n",
      "df_2019\n",
      "   Col1  Col2  Col3\n",
      "0     4     7     1\n",
      "1     5     8     2\n",
      "2     6     9     3\n"
     ]
    }
   ],
   "source": [
    "print('df_2018')\n",
    "print(df_2018)\n",
    "print('=================')\n",
    "print('df_2019')\n",
    "print(df_2019)"
   ]
  },
  {
   "cell_type": "markdown",
   "metadata": {},
   "source": [
    "#### Before we concatenate `df_2018` and `df_2019` we need to add a column for the year"
   ]
  },
  {
   "cell_type": "code",
   "execution_count": 5,
   "metadata": {},
   "outputs": [],
   "source": [
    "df_2018['year'] = '2018'\n",
    "df_2019['year'] = '2019'"
   ]
  },
  {
   "cell_type": "code",
   "execution_count": 6,
   "metadata": {},
   "outputs": [
    {
     "name": "stdout",
     "output_type": "stream",
     "text": [
      "   Col1  Col2  Col3  year\n",
      "0     1     4     7  2018\n",
      "1     2     5     8  2018\n",
      "2     3     6     9  2018\n",
      "0     4     7     1  2019\n",
      "1     5     8     2  2019\n",
      "2     6     9     3  2019\n"
     ]
    }
   ],
   "source": [
    "concat_data = pd.concat([df_2018, df_2019])\n",
    "print(concat_data)\n",
    "\n",
    "## Notice that the index repeats itself"
   ]
  },
  {
   "cell_type": "markdown",
   "metadata": {},
   "source": [
    "### The `reset_index( )` method will change these to a 0-based incrementing index\n",
    "- add the `drop = True` argument to prevent saving the current index as a column\n"
   ]
  },
  {
   "cell_type": "code",
   "execution_count": 7,
   "metadata": {},
   "outputs": [
    {
     "name": "stdout",
     "output_type": "stream",
     "text": [
      "   Col1  Col2  Col3  year\n",
      "0     1     4     7  2018\n",
      "1     2     5     8  2018\n",
      "2     3     6     9  2018\n",
      "3     4     7     1  2019\n",
      "4     5     8     2  2019\n",
      "5     6     9     3  2019\n"
     ]
    }
   ],
   "source": [
    "concat_data = concat_data.reset_index(drop = True)\n",
    "print(concat_data)"
   ]
  },
  {
   "cell_type": "markdown",
   "metadata": {},
   "source": [
    "### Another method for combining data is  `merge( )`\n",
    "- First we'll read in the schools data again\n",
    "- And we'll read in the school indicator scores\n"
   ]
  },
  {
   "cell_type": "code",
   "execution_count": 8,
   "metadata": {},
   "outputs": [
    {
     "data": {
      "text/html": [
       "<div>\n",
       "<style scoped>\n",
       "    .dataframe tbody tr th:only-of-type {\n",
       "        vertical-align: middle;\n",
       "    }\n",
       "\n",
       "    .dataframe tbody tr th {\n",
       "        vertical-align: top;\n",
       "    }\n",
       "\n",
       "    .dataframe thead th {\n",
       "        text-align: right;\n",
       "    }\n",
       "</style>\n",
       "<table border=\"1\" class=\"dataframe\">\n",
       "  <thead>\n",
       "    <tr style=\"text-align: right;\">\n",
       "      <th></th>\n",
       "      <th>level</th>\n",
       "      <th>name</th>\n",
       "      <th>zipcode</th>\n",
       "      <th>grade_k</th>\n",
       "      <th>grade_1</th>\n",
       "      <th>grade_2</th>\n",
       "      <th>grade_3</th>\n",
       "      <th>grade_4</th>\n",
       "      <th>grade_5</th>\n",
       "      <th>grade_6</th>\n",
       "      <th>...</th>\n",
       "      <th>hisp</th>\n",
       "      <th>p_islander</th>\n",
       "      <th>white</th>\n",
       "      <th>male</th>\n",
       "      <th>female</th>\n",
       "      <th>econ_disadv</th>\n",
       "      <th>disabled</th>\n",
       "      <th>limited_eng</th>\n",
       "      <th>lat</th>\n",
       "      <th>lng</th>\n",
       "    </tr>\n",
       "  </thead>\n",
       "  <tbody>\n",
       "    <tr>\n",
       "      <th>0</th>\n",
       "      <td>Elementary School</td>\n",
       "      <td>A. Z. Kelley Elementary</td>\n",
       "      <td>37013</td>\n",
       "      <td>153.0</td>\n",
       "      <td>145.0</td>\n",
       "      <td>149.0</td>\n",
       "      <td>180.0</td>\n",
       "      <td>184.0</td>\n",
       "      <td>NaN</td>\n",
       "      <td>NaN</td>\n",
       "      <td>...</td>\n",
       "      <td>206</td>\n",
       "      <td>1.0</td>\n",
       "      <td>212.0</td>\n",
       "      <td>431</td>\n",
       "      <td>421</td>\n",
       "      <td>261</td>\n",
       "      <td>75.0</td>\n",
       "      <td>298.0</td>\n",
       "      <td>36.021817</td>\n",
       "      <td>-86.658848</td>\n",
       "    </tr>\n",
       "    <tr>\n",
       "      <th>1</th>\n",
       "      <td>Elementary School</td>\n",
       "      <td>Alex Green Elementary</td>\n",
       "      <td>37189</td>\n",
       "      <td>42.0</td>\n",
       "      <td>50.0</td>\n",
       "      <td>44.0</td>\n",
       "      <td>38.0</td>\n",
       "      <td>24.0</td>\n",
       "      <td>NaN</td>\n",
       "      <td>NaN</td>\n",
       "      <td>...</td>\n",
       "      <td>29</td>\n",
       "      <td>1.0</td>\n",
       "      <td>21.0</td>\n",
       "      <td>115</td>\n",
       "      <td>119</td>\n",
       "      <td>153</td>\n",
       "      <td>21.0</td>\n",
       "      <td>25.0</td>\n",
       "      <td>36.252961</td>\n",
       "      <td>-86.832229</td>\n",
       "    </tr>\n",
       "  </tbody>\n",
       "</table>\n",
       "<p>2 rows × 29 columns</p>\n",
       "</div>"
      ],
      "text/plain": [
       "               level                     name  zipcode  grade_k  grade_1  \\\n",
       "0  Elementary School  A. Z. Kelley Elementary    37013    153.0    145.0   \n",
       "1  Elementary School    Alex Green Elementary    37189     42.0     50.0   \n",
       "\n",
       "   grade_2  grade_3  grade_4  grade_5  grade_6  ...  hisp  p_islander  white  \\\n",
       "0    149.0    180.0    184.0      NaN      NaN  ...   206         1.0  212.0   \n",
       "1     44.0     38.0     24.0      NaN      NaN  ...    29         1.0   21.0   \n",
       "\n",
       "   male  female  econ_disadv  disabled  limited_eng        lat        lng  \n",
       "0   431     421          261      75.0        298.0  36.021817 -86.658848  \n",
       "1   115     119          153      21.0         25.0  36.252961 -86.832229  \n",
       "\n",
       "[2 rows x 29 columns]"
      ]
     },
     "execution_count": 8,
     "metadata": {},
     "output_type": "execute_result"
    }
   ],
   "source": [
    "schools = pd.read_csv('../data/schools_clean.csv')\n",
    "schools.head(2)"
   ]
  },
  {
   "cell_type": "code",
   "execution_count": 9,
   "metadata": {},
   "outputs": [
    {
     "data": {
      "text/html": [
       "<div>\n",
       "<style scoped>\n",
       "    .dataframe tbody tr th:only-of-type {\n",
       "        vertical-align: middle;\n",
       "    }\n",
       "\n",
       "    .dataframe tbody tr th {\n",
       "        vertical-align: top;\n",
       "    }\n",
       "\n",
       "    .dataframe thead th {\n",
       "        text-align: right;\n",
       "    }\n",
       "</style>\n",
       "<table border=\"1\" class=\"dataframe\">\n",
       "  <thead>\n",
       "    <tr style=\"text-align: right;\">\n",
       "      <th></th>\n",
       "      <th>system</th>\n",
       "      <th>system_name</th>\n",
       "      <th>school</th>\n",
       "      <th>school_name</th>\n",
       "      <th>pool</th>\n",
       "      <th>designation_ineligible</th>\n",
       "      <th>subgroup</th>\n",
       "      <th>score_achievement</th>\n",
       "      <th>score_growth</th>\n",
       "      <th>score_absenteeism</th>\n",
       "      <th>score_grad</th>\n",
       "      <th>score_ready_grad</th>\n",
       "      <th>score_elpa</th>\n",
       "    </tr>\n",
       "  </thead>\n",
       "  <tbody>\n",
       "    <tr>\n",
       "      <th>0</th>\n",
       "      <td>10</td>\n",
       "      <td>Anderson County</td>\n",
       "      <td>2</td>\n",
       "      <td>Anderson County High School</td>\n",
       "      <td>HS</td>\n",
       "      <td>0.0</td>\n",
       "      <td>All Students</td>\n",
       "      <td>3.0</td>\n",
       "      <td>4.0</td>\n",
       "      <td>4.0</td>\n",
       "      <td>4.0</td>\n",
       "      <td>4.0</td>\n",
       "      <td>NaN</td>\n",
       "    </tr>\n",
       "    <tr>\n",
       "      <th>1</th>\n",
       "      <td>10</td>\n",
       "      <td>Anderson County</td>\n",
       "      <td>2</td>\n",
       "      <td>Anderson County High School</td>\n",
       "      <td>HS</td>\n",
       "      <td>0.0</td>\n",
       "      <td>American Indian or Alaska Native</td>\n",
       "      <td>NaN</td>\n",
       "      <td>NaN</td>\n",
       "      <td>NaN</td>\n",
       "      <td>NaN</td>\n",
       "      <td>NaN</td>\n",
       "      <td>NaN</td>\n",
       "    </tr>\n",
       "  </tbody>\n",
       "</table>\n",
       "</div>"
      ],
      "text/plain": [
       "   system      system_name  school                  school_name pool  \\\n",
       "0      10  Anderson County       2  Anderson County High School   HS   \n",
       "1      10  Anderson County       2  Anderson County High School   HS   \n",
       "\n",
       "   designation_ineligible                          subgroup  \\\n",
       "0                     0.0                      All Students   \n",
       "1                     0.0  American Indian or Alaska Native   \n",
       "\n",
       "   score_achievement  score_growth  score_absenteeism  score_grad  \\\n",
       "0                3.0           4.0                4.0         4.0   \n",
       "1                NaN           NaN                NaN         NaN   \n",
       "\n",
       "   score_ready_grad  score_elpa  \n",
       "0               4.0         NaN  \n",
       "1               NaN         NaN  "
      ]
     },
     "execution_count": 9,
     "metadata": {},
     "output_type": "execute_result"
    }
   ],
   "source": [
    "indicators = pd.read_csv('../data/school_indicator_scores_suppressed.csv')\n",
    "indicators.head(2)"
   ]
  },
  {
   "cell_type": "markdown",
   "metadata": {},
   "source": [
    "### Before we merge, we need to decide \n",
    "- which columns to keep from each dataframe  \n",
    "- what _type_ of merge we want"
   ]
  },
  {
   "cell_type": "code",
   "execution_count": null,
   "metadata": {},
   "outputs": [],
   "source": []
  },
  {
   "cell_type": "markdown",
   "metadata": {},
   "source": [
    "#### Let's say we want to look at the effect of poverty on school indicators\n",
    "- From the schools data, we need name, total number of students, and total who are economically disadvantaged\n",
    "    - we need to create a column for the total number of students before we can subset the schools dataframe\n",
    "- From the school indicators dataframe, we need school name, and the six *score* columns\n",
    "    - filtering the dataframe first so that we only look at Davidson County schools is a good idea\n",
    "    - we also want to filter in order to keep only the rows where subgroup is \"All Students\"\n"
   ]
  },
  {
   "cell_type": "code",
   "execution_count": 16,
   "metadata": {},
   "outputs": [
    {
     "data": {
      "text/html": [
       "<div>\n",
       "<style scoped>\n",
       "    .dataframe tbody tr th:only-of-type {\n",
       "        vertical-align: middle;\n",
       "    }\n",
       "\n",
       "    .dataframe tbody tr th {\n",
       "        vertical-align: top;\n",
       "    }\n",
       "\n",
       "    .dataframe thead th {\n",
       "        text-align: right;\n",
       "    }\n",
       "</style>\n",
       "<table border=\"1\" class=\"dataframe\">\n",
       "  <thead>\n",
       "    <tr style=\"text-align: right;\">\n",
       "      <th></th>\n",
       "      <th>level</th>\n",
       "      <th>name</th>\n",
       "      <th>zipcode</th>\n",
       "      <th>grade_k</th>\n",
       "      <th>grade_1</th>\n",
       "      <th>grade_2</th>\n",
       "      <th>grade_3</th>\n",
       "      <th>grade_4</th>\n",
       "      <th>grade_5</th>\n",
       "      <th>grade_6</th>\n",
       "      <th>...</th>\n",
       "      <th>p_islander</th>\n",
       "      <th>white</th>\n",
       "      <th>male</th>\n",
       "      <th>female</th>\n",
       "      <th>econ_disadv</th>\n",
       "      <th>disabled</th>\n",
       "      <th>limited_eng</th>\n",
       "      <th>lat</th>\n",
       "      <th>lng</th>\n",
       "      <th>total_students</th>\n",
       "    </tr>\n",
       "  </thead>\n",
       "  <tbody>\n",
       "    <tr>\n",
       "      <th>0</th>\n",
       "      <td>Elementary School</td>\n",
       "      <td>A. Z. Kelley Elementary</td>\n",
       "      <td>37013</td>\n",
       "      <td>153.0</td>\n",
       "      <td>145.0</td>\n",
       "      <td>149.0</td>\n",
       "      <td>180.0</td>\n",
       "      <td>184.0</td>\n",
       "      <td>NaN</td>\n",
       "      <td>NaN</td>\n",
       "      <td>...</td>\n",
       "      <td>1.0</td>\n",
       "      <td>212.0</td>\n",
       "      <td>431</td>\n",
       "      <td>421</td>\n",
       "      <td>261</td>\n",
       "      <td>75.0</td>\n",
       "      <td>298.0</td>\n",
       "      <td>36.021817</td>\n",
       "      <td>-86.658848</td>\n",
       "      <td>852</td>\n",
       "    </tr>\n",
       "    <tr>\n",
       "      <th>1</th>\n",
       "      <td>Elementary School</td>\n",
       "      <td>Alex Green Elementary</td>\n",
       "      <td>37189</td>\n",
       "      <td>42.0</td>\n",
       "      <td>50.0</td>\n",
       "      <td>44.0</td>\n",
       "      <td>38.0</td>\n",
       "      <td>24.0</td>\n",
       "      <td>NaN</td>\n",
       "      <td>NaN</td>\n",
       "      <td>...</td>\n",
       "      <td>1.0</td>\n",
       "      <td>21.0</td>\n",
       "      <td>115</td>\n",
       "      <td>119</td>\n",
       "      <td>153</td>\n",
       "      <td>21.0</td>\n",
       "      <td>25.0</td>\n",
       "      <td>36.252961</td>\n",
       "      <td>-86.832229</td>\n",
       "      <td>234</td>\n",
       "    </tr>\n",
       "  </tbody>\n",
       "</table>\n",
       "<p>2 rows × 30 columns</p>\n",
       "</div>"
      ],
      "text/plain": [
       "               level                     name  zipcode  grade_k  grade_1  \\\n",
       "0  Elementary School  A. Z. Kelley Elementary    37013    153.0    145.0   \n",
       "1  Elementary School    Alex Green Elementary    37189     42.0     50.0   \n",
       "\n",
       "   grade_2  grade_3  grade_4  grade_5  grade_6  ...  p_islander  white  male  \\\n",
       "0    149.0    180.0    184.0      NaN      NaN  ...         1.0  212.0   431   \n",
       "1     44.0     38.0     24.0      NaN      NaN  ...         1.0   21.0   115   \n",
       "\n",
       "   female  econ_disadv  disabled  limited_eng        lat        lng  \\\n",
       "0     421          261      75.0        298.0  36.021817 -86.658848   \n",
       "1     119          153      21.0         25.0  36.252961 -86.832229   \n",
       "\n",
       "   total_students  \n",
       "0             852  \n",
       "1             234  \n",
       "\n",
       "[2 rows x 30 columns]"
      ]
     },
     "execution_count": 16,
     "metadata": {},
     "output_type": "execute_result"
    }
   ],
   "source": [
    "schools['total_students'] = schools.male + schools.female\n",
    "schools.head(2)"
   ]
  },
  {
   "cell_type": "code",
   "execution_count": 17,
   "metadata": {},
   "outputs": [],
   "source": [
    "schools_subset = schools[['name', 'total_students', 'econ_disadv']]"
   ]
  },
  {
   "cell_type": "code",
   "execution_count": 18,
   "metadata": {},
   "outputs": [
    {
     "data": {
      "text/plain": [
       "(155, 13)"
      ]
     },
     "execution_count": 18,
     "metadata": {},
     "output_type": "execute_result"
    }
   ],
   "source": [
    "indicators = indicators.loc[(indicators.system_name == 'Davidson County') & (indicators.subgroup == 'All Students')]\n",
    "indicators.shape"
   ]
  },
  {
   "cell_type": "code",
   "execution_count": 19,
   "metadata": {},
   "outputs": [],
   "source": [
    "indicators_subset = indicators[['school_name', 'score_achievement', 'score_growth', 'score_absenteeism',\n",
    "                                'score_grad', 'score_ready_grad', 'score_elpa']]"
   ]
  },
  {
   "cell_type": "code",
   "execution_count": 20,
   "metadata": {},
   "outputs": [
    {
     "name": "stdout",
     "output_type": "stream",
     "text": [
      "schools subset:  (167, 3)\n",
      "indicators subset:  (155, 7)\n"
     ]
    }
   ],
   "source": [
    "print('schools subset: ', schools_subset.shape)\n",
    "print('indicators subset: ', indicators_subset.shape)"
   ]
  },
  {
   "cell_type": "markdown",
   "metadata": {},
   "source": [
    "### There are 12 more rows in the schools_subset data than there are in the indicators_subset\n",
    "- We want data that matches to **both** datasets \n",
    "![pandas merge types](../images/pandas_merge_types.png)\n",
    "- So we want an inner join (which is the default)"
   ]
  },
  {
   "cell_type": "code",
   "execution_count": 21,
   "metadata": {},
   "outputs": [
    {
     "data": {
      "text/html": [
       "<div>\n",
       "<style scoped>\n",
       "    .dataframe tbody tr th:only-of-type {\n",
       "        vertical-align: middle;\n",
       "    }\n",
       "\n",
       "    .dataframe tbody tr th {\n",
       "        vertical-align: top;\n",
       "    }\n",
       "\n",
       "    .dataframe thead th {\n",
       "        text-align: right;\n",
       "    }\n",
       "</style>\n",
       "<table border=\"1\" class=\"dataframe\">\n",
       "  <thead>\n",
       "    <tr style=\"text-align: right;\">\n",
       "      <th></th>\n",
       "      <th>name</th>\n",
       "      <th>total_students</th>\n",
       "      <th>econ_disadv</th>\n",
       "      <th>school_name</th>\n",
       "      <th>score_achievement</th>\n",
       "      <th>score_growth</th>\n",
       "      <th>score_absenteeism</th>\n",
       "      <th>score_grad</th>\n",
       "      <th>score_ready_grad</th>\n",
       "      <th>score_elpa</th>\n",
       "    </tr>\n",
       "  </thead>\n",
       "  <tbody>\n",
       "    <tr>\n",
       "      <th>0</th>\n",
       "      <td>A. Z. Kelley Elementary</td>\n",
       "      <td>852</td>\n",
       "      <td>261</td>\n",
       "      <td>A. Z. Kelley Elementary</td>\n",
       "      <td>2.0</td>\n",
       "      <td>2.0</td>\n",
       "      <td>4.0</td>\n",
       "      <td>NaN</td>\n",
       "      <td>NaN</td>\n",
       "      <td>3.0</td>\n",
       "    </tr>\n",
       "    <tr>\n",
       "      <th>1</th>\n",
       "      <td>Alex Green Elementary</td>\n",
       "      <td>234</td>\n",
       "      <td>153</td>\n",
       "      <td>Alex Green Elementary</td>\n",
       "      <td>2.0</td>\n",
       "      <td>2.0</td>\n",
       "      <td>4.0</td>\n",
       "      <td>NaN</td>\n",
       "      <td>NaN</td>\n",
       "      <td>2.0</td>\n",
       "    </tr>\n",
       "    <tr>\n",
       "      <th>2</th>\n",
       "      <td>Amqui Elementary</td>\n",
       "      <td>458</td>\n",
       "      <td>246</td>\n",
       "      <td>Amqui Elementary</td>\n",
       "      <td>2.0</td>\n",
       "      <td>4.0</td>\n",
       "      <td>4.0</td>\n",
       "      <td>NaN</td>\n",
       "      <td>NaN</td>\n",
       "      <td>4.0</td>\n",
       "    </tr>\n",
       "  </tbody>\n",
       "</table>\n",
       "</div>"
      ],
      "text/plain": [
       "                      name  total_students  econ_disadv  \\\n",
       "0  A. Z. Kelley Elementary             852          261   \n",
       "1    Alex Green Elementary             234          153   \n",
       "2         Amqui Elementary             458          246   \n",
       "\n",
       "               school_name  score_achievement  score_growth  \\\n",
       "0  A. Z. Kelley Elementary                2.0           2.0   \n",
       "1    Alex Green Elementary                2.0           2.0   \n",
       "2         Amqui Elementary                2.0           4.0   \n",
       "\n",
       "   score_absenteeism  score_grad  score_ready_grad  score_elpa  \n",
       "0                4.0         NaN               NaN         3.0  \n",
       "1                4.0         NaN               NaN         2.0  \n",
       "2                4.0         NaN               NaN         4.0  "
      ]
     },
     "execution_count": 21,
     "metadata": {},
     "output_type": "execute_result"
    }
   ],
   "source": [
    "schools_with_scores = pd.merge(schools_subset, indicators_subset, left_on = 'name', right_on = 'school_name', how = 'inner')\n",
    "schools_with_scores.head(3)"
   ]
  },
  {
   "cell_type": "markdown",
   "metadata": {},
   "source": [
    "### We can drop one of the school name columns and calculate the percentage of students from each school who are economically disadvantaged."
   ]
  },
  {
   "cell_type": "code",
   "execution_count": 22,
   "metadata": {},
   "outputs": [],
   "source": [
    "schools_with_scores = schools_with_scores.drop(columns = 'school_name')"
   ]
  },
  {
   "cell_type": "code",
   "execution_count": 23,
   "metadata": {},
   "outputs": [
    {
     "data": {
      "text/html": [
       "<div>\n",
       "<style scoped>\n",
       "    .dataframe tbody tr th:only-of-type {\n",
       "        vertical-align: middle;\n",
       "    }\n",
       "\n",
       "    .dataframe tbody tr th {\n",
       "        vertical-align: top;\n",
       "    }\n",
       "\n",
       "    .dataframe thead th {\n",
       "        text-align: right;\n",
       "    }\n",
       "</style>\n",
       "<table border=\"1\" class=\"dataframe\">\n",
       "  <thead>\n",
       "    <tr style=\"text-align: right;\">\n",
       "      <th></th>\n",
       "      <th>name</th>\n",
       "      <th>total_students</th>\n",
       "      <th>econ_disadv</th>\n",
       "      <th>score_achievement</th>\n",
       "      <th>score_growth</th>\n",
       "      <th>score_absenteeism</th>\n",
       "      <th>score_grad</th>\n",
       "      <th>score_ready_grad</th>\n",
       "      <th>score_elpa</th>\n",
       "      <th>pct_econ_disadv</th>\n",
       "    </tr>\n",
       "  </thead>\n",
       "  <tbody>\n",
       "    <tr>\n",
       "      <th>0</th>\n",
       "      <td>A. Z. Kelley Elementary</td>\n",
       "      <td>852</td>\n",
       "      <td>261</td>\n",
       "      <td>2.0</td>\n",
       "      <td>2.0</td>\n",
       "      <td>4.0</td>\n",
       "      <td>NaN</td>\n",
       "      <td>NaN</td>\n",
       "      <td>3.0</td>\n",
       "      <td>0.306338</td>\n",
       "    </tr>\n",
       "    <tr>\n",
       "      <th>1</th>\n",
       "      <td>Alex Green Elementary</td>\n",
       "      <td>234</td>\n",
       "      <td>153</td>\n",
       "      <td>2.0</td>\n",
       "      <td>2.0</td>\n",
       "      <td>4.0</td>\n",
       "      <td>NaN</td>\n",
       "      <td>NaN</td>\n",
       "      <td>2.0</td>\n",
       "      <td>0.653846</td>\n",
       "    </tr>\n",
       "    <tr>\n",
       "      <th>2</th>\n",
       "      <td>Amqui Elementary</td>\n",
       "      <td>458</td>\n",
       "      <td>246</td>\n",
       "      <td>2.0</td>\n",
       "      <td>4.0</td>\n",
       "      <td>4.0</td>\n",
       "      <td>NaN</td>\n",
       "      <td>NaN</td>\n",
       "      <td>4.0</td>\n",
       "      <td>0.537118</td>\n",
       "    </tr>\n",
       "    <tr>\n",
       "      <th>3</th>\n",
       "      <td>Andrew Jackson Elementary</td>\n",
       "      <td>496</td>\n",
       "      <td>122</td>\n",
       "      <td>3.0</td>\n",
       "      <td>4.0</td>\n",
       "      <td>4.0</td>\n",
       "      <td>NaN</td>\n",
       "      <td>NaN</td>\n",
       "      <td>2.0</td>\n",
       "      <td>0.245968</td>\n",
       "    </tr>\n",
       "    <tr>\n",
       "      <th>4</th>\n",
       "      <td>Antioch High School</td>\n",
       "      <td>1915</td>\n",
       "      <td>622</td>\n",
       "      <td>1.0</td>\n",
       "      <td>0.0</td>\n",
       "      <td>4.0</td>\n",
       "      <td>2.0</td>\n",
       "      <td>3.0</td>\n",
       "      <td>0.0</td>\n",
       "      <td>0.324804</td>\n",
       "    </tr>\n",
       "  </tbody>\n",
       "</table>\n",
       "</div>"
      ],
      "text/plain": [
       "                        name  total_students  econ_disadv  score_achievement  \\\n",
       "0    A. Z. Kelley Elementary             852          261                2.0   \n",
       "1      Alex Green Elementary             234          153                2.0   \n",
       "2           Amqui Elementary             458          246                2.0   \n",
       "3  Andrew Jackson Elementary             496          122                3.0   \n",
       "4        Antioch High School            1915          622                1.0   \n",
       "\n",
       "   score_growth  score_absenteeism  score_grad  score_ready_grad  score_elpa  \\\n",
       "0           2.0                4.0         NaN               NaN         3.0   \n",
       "1           2.0                4.0         NaN               NaN         2.0   \n",
       "2           4.0                4.0         NaN               NaN         4.0   \n",
       "3           4.0                4.0         NaN               NaN         2.0   \n",
       "4           0.0                4.0         2.0               3.0         0.0   \n",
       "\n",
       "   pct_econ_disadv  \n",
       "0         0.306338  \n",
       "1         0.653846  \n",
       "2         0.537118  \n",
       "3         0.245968  \n",
       "4         0.324804  "
      ]
     },
     "execution_count": 23,
     "metadata": {},
     "output_type": "execute_result"
    }
   ],
   "source": [
    "schools_with_scores['pct_econ_disadv'] = schools_with_scores.econ_disadv / schools_with_scores.total_students\n",
    "schools_with_scores.head()"
   ]
  },
  {
   "cell_type": "markdown",
   "metadata": {},
   "source": [
    "### We'll take a quick peak at the relationship between the percentage of students who are economically disadvantaged and the achievement score  for schools and then save this dataset for further exploration"
   ]
  },
  {
   "cell_type": "code",
   "execution_count": 26,
   "metadata": {},
   "outputs": [
    {
     "data": {
      "image/png": "[encoded data removed]",
      "text/plain": [
       "<Figure size 432x288 with 1 Axes>"
      ]
     },
     "metadata": {
      "needs_background": "light"
     },
     "output_type": "display_data"
    }
   ],
   "source": [
    "plt.scatter('score_achievement', 'pct_econ_disadv', data = schools_with_scores)\n",
    "plt.xlabel('score')\n",
    "plt.ylabel('percentage economically disadvantaged');"
   ]
  },
  {
   "cell_type": "code",
   "execution_count": 27,
   "metadata": {},
   "outputs": [],
   "source": [
    "schools_with_scores.to_csv('../data/schools_with_scores.csv', index = False)"
   ]
  },
  {
   "cell_type": "code",
   "execution_count": null,
   "metadata": {},
   "outputs": [],
   "source": []
  }
 ],
 "metadata": {
  "kernelspec": {
   "display_name": "Python 3",
   "language": "python",
   "name": "python3"
  },
  "language_info": {
   "codemirror_mode": {
    "name": "ipython",
    "version": 3
   },
   "file_extension": ".py",
   "mimetype": "text/x-python",
   "name": "python",
   "nbconvert_exporter": "python",
   "pygments_lexer": "ipython3",
   "version": "3.7.4"
  }
 },
 "nbformat": 4,
 "nbformat_minor": 2
}
